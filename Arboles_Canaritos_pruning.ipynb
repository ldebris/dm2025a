{
  "nbformat": 4,
  "nbformat_minor": 0,
  "metadata": {
    "colab": {
      "provenance": [],
      "authorship_tag": "ABX9TyNPXULpWI73lVs9s3n6Fd8u",
      "include_colab_link": true
    },
    "kernelspec": {
      "name": "ir",
      "display_name": "R"
    },
    "language_info": {
      "name": "R"
    }
  },
  "cells": [
    {
      "cell_type": "markdown",
      "metadata": {
        "id": "view-in-github",
        "colab_type": "text"
      },
      "source": [
        "<a href=\"https://colab.research.google.com/github/ldebris/dm2025a/blob/main/Arboles_Canaritos_pruning.ipynb\" target=\"_parent\"><img src=\"https://colab.research.google.com/assets/colab-badge.svg\" alt=\"Open In Colab\"/></a>"
      ]
    },
    {
      "cell_type": "code",
      "execution_count": 1,
      "metadata": {
        "colab": {
          "base_uri": "https://localhost:8080/"
        },
        "id": "gvmaI5gmnzrx",
        "outputId": "163ca58d-b50e-474c-b0b9-78076fa54e6a"
      },
      "outputs": [
        {
          "output_type": "stream",
          "name": "stdout",
          "text": [
            "Mounted at /content/.drive\n"
          ]
        }
      ],
      "source": [
        "# primero establecer el Runtime de Python 3\n",
        "from google.colab import drive\n",
        "drive.mount('/content/.drive')"
      ]
    },
    {
      "cell_type": "code",
      "source": [
        "%%shell\n",
        "\n",
        "mkdir -p \"/content/.drive/My Drive/dm\"\n",
        "mkdir -p \"/content/buckets\"\n",
        "ln -s \"/content/.drive/My Drive/dm\" /content/buckets/b1\n",
        "\n",
        "mkdir -p ~/.kaggle\n",
        "cp /content/buckets/b1/kaggle/kaggle.json  ~/.kaggle\n",
        "chmod 600 ~/.kaggle/kaggle.json\n",
        "\n",
        "\n",
        "mkdir -p /content/buckets/b1/exp\n",
        "mkdir -p /content/buckets/b1/datasets\n",
        "mkdir -p /content/datasets\n",
        "\n",
        "\n",
        "\n",
        "archivo_origen=\"https://storage.googleapis.com/open-courses/itba2025-8d0a/dataset_pequeno.csv\"\n",
        "archivo_destino=\"/content/datasets/dataset_pequeno.csv\"\n",
        "archivo_destino_bucket=\"/content/buckets/b1/datasets/dataset_pequeno.csv\"\n",
        "\n",
        "if ! test -f $archivo_destino_bucket; then\n",
        "  wget  $archivo_origen  -O $archivo_destino_bucket\n",
        "fi\n",
        "\n",
        "\n",
        "if ! test -f $archivo_destino; then\n",
        "  cp  $archivo_destino_bucket  $archivo_destino\n",
        "fi"
      ],
      "metadata": {
        "colab": {
          "base_uri": "https://localhost:8080/"
        },
        "id": "L62WzmQ2n-_h",
        "outputId": "4752a8b3-a2c7-47c9-a594-dfd38e26b537"
      },
      "execution_count": 2,
      "outputs": [
        {
          "output_type": "execute_result",
          "data": {
            "text/plain": []
          },
          "metadata": {},
          "execution_count": 2
        }
      ]
    },
    {
      "cell_type": "code",
      "source": [
        "if (!require(\"rpart.plot\")) install.packages(\"rpart.plot\")\n",
        "library(rpart.plot)\n",
        "\n",
        "# librerías necesarias\n",
        "library(data.table)\n",
        "library(rpart)\n",
        "library(rpart.plot)\n",
        "\n",
        "# parámetros\n",
        "semillas <- 100001 + 1:20  # 20 semillas diferentes\n",
        "cp_prunings <- c(-666, -777, -888)  # tipos de poda\n",
        "\n",
        "# cargo dataset\n",
        "dataset <- fread(\"/content/datasets/dataset_pequeno.csv\")\n",
        "\n",
        "# defino train y test\n",
        "dtrain <- dataset[foto_mes == 202107]\n",
        "dtrain[, clase_binaria2 := ifelse(clase_ternaria == \"CONTINUA\", \"NEG\", \"POS\")]\n",
        "dtrain[, clase_ternaria := NULL]\n",
        "\n",
        "dfuture <- dataset[foto_mes == 202109]\n"
      ],
      "metadata": {
        "id": "s2QRG4g6oH5X"
      },
      "execution_count": 14,
      "outputs": []
    },
    {
      "cell_type": "code",
      "source": [
        "entrenar_y_prunear <- function(semilla, dtrain, dfuture, PARAM, n_canaritos = 300, pesos_pos = 5.0) {\n",
        "  set.seed(semilla)\n",
        "\n",
        "  # Agregar canaritos a entrenamiento\n",
        "  datos_train <- copy(dtrain)\n",
        "  for (i in 1:n_canaritos) {\n",
        "    datos_train[, paste0(\"canarito\", i) := runif(.N)]\n",
        "  }\n",
        "\n",
        "  # Agregar canaritos a scoring (dfuture)\n",
        "  datos_future <- copy(dfuture)\n",
        "  for (i in 1:n_canaritos) {\n",
        "    datos_future[, paste0(\"canarito\", i) := runif(.N)]\n",
        "  }\n",
        "\n",
        "  # Definir pesos\n",
        "  pesos <- ifelse(datos_train$clase_binaria2 == \"POS\", pesos_pos, 1.0)\n",
        "\n",
        "  # Entrenar modelo sin poda\n",
        "  modelo_original <- rpart::rpart(\n",
        "    formula = clase_binaria2 ~ .,\n",
        "    data = datos_train,\n",
        "    model = TRUE,\n",
        "    xval = 0,\n",
        "    control = PARAM$rpart,\n",
        "    weights = pesos\n",
        "  )\n",
        "\n",
        "  # Poda para diferentes valores de cp\n",
        "  cp_values <- c(-666, -777, -888)\n",
        "  preds_list <- list()\n",
        "\n",
        "  for (cp_val in cp_values) {\n",
        "    modelo_original$frame[modelo_original$frame$var %like% \"canarito\", \"complexity\"] <- cp_val\n",
        "    modelo_podado <- prune(modelo_original, cp_val)\n",
        "\n",
        "    pred <- predict(modelo_podado, datos_future, type = \"prob\")[, \"POS\"]\n",
        "\n",
        "    nombre_col <- paste0(\"pred_s\", semilla, \"_cp\", cp_val)\n",
        "    preds_list[[nombre_col]] <- pred\n",
        "  }\n",
        "\n",
        "  return(preds_list)\n",
        "}\n",
        "\n",
        "\n"
      ],
      "metadata": {
        "id": "bRywehsMoIx5"
      },
      "execution_count": 15,
      "outputs": []
    },
    {
      "cell_type": "code",
      "source": [
        "PARAM <- list()\n",
        "PARAM$rpart <- list(\n",
        "  cp = -1,\n",
        "  minsplit = 3800,\n",
        "  minbucket = 48,\n",
        "  maxdepth = 30\n",
        ")\n"
      ],
      "metadata": {
        "id": "whsrWJgzwWIH"
      },
      "execution_count": 16,
      "outputs": []
    },
    {
      "cell_type": "code",
      "source": [
        "\n",
        "# PARAM <- list()\n",
        "# PARAM$rpart <- list(\n",
        "#   cp = -1,\n",
        "#   minsplit = 3800,\n",
        "#   minbucket = 48,\n",
        "#   maxdepth = 30\n",
        "# )\n",
        "\n",
        "# Definición corregida de la función entrenar_y_prunear\n",
        "entrenar_y_prunear <- function(semilla, dtrain, dfuture, PARAM, n_canaritos = 300, pesos_pos = 5.0) {\n",
        "  set.seed(semilla)\n",
        "\n",
        "  datos_train <- copy(dtrain)\n",
        "  for (i in 1:n_canaritos) {\n",
        "    datos_train[, paste0(\"canarito\", i) := runif(.N)]\n",
        "  }\n",
        "\n",
        "  datos_future <- copy(dfuture)\n",
        "  for (i in 1:n_canaritos) {\n",
        "    datos_future[, paste0(\"canarito\", i) := runif(.N)]\n",
        "  }\n",
        "\n",
        "  pesos <- ifelse(datos_train$clase_binaria2 == \"POS\", pesos_pos, 1.0)\n",
        "\n",
        "  modelo_original <- rpart::rpart(\n",
        "    formula = clase_binaria2 ~ .,\n",
        "    data = datos_train,\n",
        "    model = TRUE,\n",
        "    xval = 0,\n",
        "    control = PARAM$rpart,\n",
        "    weights = pesos\n",
        "  )\n",
        "\n",
        "  cp_values <- c(-666, -777, -888)\n",
        "  preds_list <- list()\n",
        "\n",
        "  for (cp_val in cp_values) {\n",
        "    modelo_original$frame[modelo_original$frame$var %like% \"canarito\", \"complexity\"] <- cp_val\n",
        "    modelo_podado <- prune(modelo_original, cp_val)\n",
        "\n",
        "    pred <- predict(modelo_podado, datos_future, type = \"prob\")[, \"POS\"]\n",
        "\n",
        "    nombre_col <- paste0(\"pred_s\", semilla, \"_cp\", cp_val)\n",
        "    preds_list[[nombre_col]] <- pred\n",
        "  }\n",
        "\n",
        "  return(preds_list)\n",
        "}\n",
        "\n",
        "# Ahora el loop corregido que llama a la función pasando PARAM:\n",
        "preds_total <- list()\n",
        "\n",
        "for (sem in semillas) {\n",
        "  cat(\"Entrenando semilla:\", sem, \"\\n\")\n",
        "  preds <- entrenar_y_prunear(sem, dtrain, dfuture, PARAM, n_canaritos = 300, pesos_pos = 5.0)\n",
        "  preds_total <- c(preds_total, preds)  # acumulo todas las columnas\n",
        "}\n",
        "\n",
        "# Creo data.table final de probabilidades\n",
        "tb_ensemble <- data.table(numero_de_cliente = dfuture$numero_de_cliente)\n",
        "\n",
        "# Agrego columnas de cada modelo\n",
        "for (nombre_col in names(preds_total)) {\n",
        "  tb_ensemble[, (nombre_col) := preds_total[[nombre_col]] ]\n",
        "}\n",
        "\n",
        "# Calculo promedio\n",
        "tb_ensemble[, prob := rowMeans(.SD), .SDcols = names(preds_total)]\n",
        "\n",
        "# Decido top 11000\n",
        "setorder(tb_ensemble, -prob)\n",
        "tb_ensemble[, Predicted := 0L]\n",
        "tb_ensemble[1:11000, Predicted := 1L]\n",
        "\n",
        "# Exporto a Kaggle\n",
        "fwrite(tb_ensemble[, .(numero_de_cliente, Predicted)],\n",
        "       file = \"K_super_ensemble.csv\", sep = \",\")\n",
        "\n",
        "# Envío a Kaggle\n",
        "comando <- paste(\n",
        "  \"kaggle competitions submit\",\n",
        "  \"-c data-mining-analista-sr-2025-a\",\n",
        "  \"-f K_super_ensemble.csv\",\n",
        "  \"-m 'Super ensemble 60 árboles: 20 seeds x 3 podas (-666/-777/-888)'\"\n",
        ")\n",
        "cat(\"Ejecutando:\\n\", comando, \"\\n\")\n",
        "salida <- system(comando, intern=TRUE)\n",
        "cat(salida, \"\\n\")\n",
        "\n"
      ],
      "metadata": {
        "id": "miDA_Ue9oK4y"
      },
      "execution_count": null,
      "outputs": []
    }
  ]
}