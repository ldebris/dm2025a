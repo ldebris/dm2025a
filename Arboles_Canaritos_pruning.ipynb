{
  "nbformat": 4,
  "nbformat_minor": 0,
  "metadata": {
    "colab": {
      "provenance": [],
      "authorship_tag": "ABX9TyPCwhVCIjY3q0vMlSruzqbq",
      "include_colab_link": true
    },
    "kernelspec": {
      "name": "ir",
      "display_name": "R"
    },
    "language_info": {
      "name": "R"
    }
  },
  "cells": [
    {
      "cell_type": "markdown",
      "metadata": {
        "id": "view-in-github",
        "colab_type": "text"
      },
      "source": [
        "<a href=\"https://colab.research.google.com/github/ldebris/dm2025a/blob/main/Arboles_Canaritos_pruning.ipynb\" target=\"_parent\"><img src=\"https://colab.research.google.com/assets/colab-badge.svg\" alt=\"Open In Colab\"/></a>"
      ]
    },
    {
      "cell_type": "code",
      "execution_count": 1,
      "metadata": {
        "colab": {
          "base_uri": "https://localhost:8080/"
        },
        "id": "gvmaI5gmnzrx",
        "outputId": "163ca58d-b50e-474c-b0b9-78076fa54e6a"
      },
      "outputs": [
        {
          "output_type": "stream",
          "name": "stdout",
          "text": [
            "Mounted at /content/.drive\n"
          ]
        }
      ],
      "source": [
        "# primero establecer el Runtime de Python 3\n",
        "from google.colab import drive\n",
        "drive.mount('/content/.drive')"
      ]
    },
    {
      "cell_type": "code",
      "source": [
        "%%shell\n",
        "\n",
        "mkdir -p \"/content/.drive/My Drive/dm\"\n",
        "mkdir -p \"/content/buckets\"\n",
        "ln -s \"/content/.drive/My Drive/dm\" /content/buckets/b1\n",
        "\n",
        "mkdir -p ~/.kaggle\n",
        "cp /content/buckets/b1/kaggle/kaggle.json  ~/.kaggle\n",
        "chmod 600 ~/.kaggle/kaggle.json\n",
        "\n",
        "\n",
        "mkdir -p /content/buckets/b1/exp\n",
        "mkdir -p /content/buckets/b1/datasets\n",
        "mkdir -p /content/datasets\n",
        "\n",
        "\n",
        "\n",
        "archivo_origen=\"https://storage.googleapis.com/open-courses/itba2025-8d0a/dataset_pequeno.csv\"\n",
        "archivo_destino=\"/content/datasets/dataset_pequeno.csv\"\n",
        "archivo_destino_bucket=\"/content/buckets/b1/datasets/dataset_pequeno.csv\"\n",
        "\n",
        "if ! test -f $archivo_destino_bucket; then\n",
        "  wget  $archivo_origen  -O $archivo_destino_bucket\n",
        "fi\n",
        "\n",
        "\n",
        "if ! test -f $archivo_destino; then\n",
        "  cp  $archivo_destino_bucket  $archivo_destino\n",
        "fi"
      ],
      "metadata": {
        "colab": {
          "base_uri": "https://localhost:8080/"
        },
        "id": "L62WzmQ2n-_h",
        "outputId": "4752a8b3-a2c7-47c9-a594-dfd38e26b537"
      },
      "execution_count": 2,
      "outputs": [
        {
          "output_type": "execute_result",
          "data": {
            "text/plain": []
          },
          "metadata": {},
          "execution_count": 2
        }
      ]
    },
    {
      "cell_type": "code",
      "source": [
        "if (!require(\"rpart.plot\")) install.packages(\"rpart.plot\")\n",
        "library(rpart.plot)\n",
        "\n",
        "# librerías necesarias\n",
        "library(data.table)\n",
        "library(rpart)\n",
        "library(rpart.plot)\n",
        "\n",
        "# parámetros\n",
        "semillas <- 100001 + 1:20  # 20 semillas diferentes\n",
        "cp_prunings <- c(-666, -777, -888)  # tipos de poda\n",
        "\n",
        "# cargo dataset\n",
        "dataset <- fread(\"/content/datasets/dataset_pequeno.csv\")\n",
        "\n",
        "# defino train y test\n",
        "dtrain <- dataset[foto_mes == 202107]\n",
        "dtrain[, clase_binaria2 := ifelse(clase_ternaria == \"CONTINUA\", \"NEG\", \"POS\")]\n",
        "dtrain[, clase_ternaria := NULL]\n",
        "\n",
        "dfuture <- dataset[foto_mes == 202109]\n"
      ],
      "metadata": {
        "colab": {
          "base_uri": "https://localhost:8080/"
        },
        "id": "s2QRG4g6oH5X",
        "outputId": "c07f3899-d2ab-431e-d9d2-703854d5e31a"
      },
      "execution_count": 2,
      "outputs": [
        {
          "output_type": "stream",
          "name": "stderr",
          "text": [
            "Loading required package: rpart.plot\n",
            "\n",
            "Warning message in library(package, lib.loc = lib.loc, character.only = TRUE, logical.return = TRUE, :\n",
            "“there is no package called ‘rpart.plot’”\n",
            "Installing package into ‘/usr/local/lib/R/site-library’\n",
            "(as ‘lib’ is unspecified)\n",
            "\n"
          ]
        }
      ]
    },
    {
      "cell_type": "code",
      "source": [
        "entrenar_y_prunear <- function(semilla, dtrain, dfuture, n_canaritos = 300, pesos_pos = 5.0) {\n",
        "  set.seed(semilla)\n",
        "\n",
        "  # copio los datos y agrego canaritos\n",
        "  datos <- copy(dtrain)\n",
        "  for (i in 1:n_canaritos) {\n",
        "    datos[, paste0(\"canarito\", i) := runif(nrow(datos))]\n",
        "  }\n",
        "\n",
        "  # pesos\n",
        "  pesos <- datos[, ifelse(clase_binaria2 == \"POS\", pesos_pos, 1.0)]\n",
        "\n",
        "  # entreno el árbol\n",
        "  modelo <- rpart(\n",
        "    formula = clase_binaria2 ~ .,\n",
        "    data = datos,\n",
        "    model = TRUE,\n",
        "    xval = 0,\n",
        "    weights = pesos,\n",
        "    control = list(cp = -1, minsplit = 3800, minbucket = 48, maxdepth = 30)\n",
        "  )\n",
        "\n",
        "  # lista donde guardo predicciones\n",
        "  predicciones <- list()\n",
        "\n",
        "  for (cp_val in cp_prunings) {\n",
        "    modelo$frame[modelo$frame$var %like% \"canarito\", \"complexity\"] <- cp_val\n",
        "    modelo_podado <- prune(modelo, cp = cp_val)\n",
        "    pred <- predict(modelo_podado, dfuture, type = \"prob\")[, \"POS\"]\n",
        "    predicciones[[paste0(\"S\", semilla, \"_CP\", abs(cp_val))]] <- pred\n",
        "  }\n",
        "\n",
        "  return(predicciones)\n",
        "}\n"
      ],
      "metadata": {
        "id": "bRywehsMoIx5"
      },
      "execution_count": 3,
      "outputs": []
    },
    {
      "cell_type": "code",
      "source": [
        "# lista para guardar todas las columnas de predicción\n",
        "preds_total <- list()\n",
        "\n",
        "for (sem in semillas) {\n",
        "  cat(\"Entrenando semilla:\", sem, \"\\n\")\n",
        "  preds <- entrenar_y_prunear(sem, dtrain, dfuture, n_canaritos = 300, pesos_pos = 5.0)\n",
        "  preds_total <- c(preds_total, preds)  # acumulo todas las columnas\n",
        "}\n",
        "\n",
        "# creo data.table final de probabilidades\n",
        "tb_ensemble <- data.table(numero_de_cliente = dfuture$numero_de_cliente)\n",
        "\n",
        "# agrego columnas de cada modelo\n",
        "for (nombre_col in names(preds_total)) {\n",
        "  tb_ensemble[, (nombre_col) := preds_total[[nombre_col]] ]\n",
        "}\n",
        "\n",
        "# calculo promedio\n",
        "tb_ensemble[, prob := rowMeans(.SD), .SDcols = names(preds_total)]\n",
        "\n",
        "# decido top 11000\n",
        "setorder(tb_ensemble, -prob)\n",
        "tb_ensemble[, Predicted := 0L]\n",
        "tb_ensemble[1:11000, Predicted := 1L]\n",
        "\n",
        "# exporto a Kaggle\n",
        "fwrite(tb_ensemble[, .(numero_de_cliente, Predicted)],\n",
        "       file = \"K_super_ensemble.csv\", sep = \",\")\n",
        "\n",
        "# envío a Kaggle\n",
        "comando <- paste(\n",
        "  \"kaggle competitions submit\",\n",
        "  \"-c data-mining-analista-sr-2025-a\",\n",
        "  \"-f K_super_ensemble.csv\",\n",
        "  \"-m 'Super ensemble 60 árboles: 20 seeds x 3 podas (-666/-777/-888)'\"\n",
        ")\n",
        "cat(\"Ejecutando:\\n\", comando, \"\\n\")\n",
        "salida <- system(comando, intern=TRUE)\n",
        "cat(salida, \"\\n\")\n"
      ],
      "metadata": {
        "id": "miDA_Ue9oK4y"
      },
      "execution_count": null,
      "outputs": []
    }
  ]
}