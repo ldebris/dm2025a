{
  "nbformat": 4,
  "nbformat_minor": 0,
  "metadata": {
    "colab": {
      "provenance": []
    },
    "kernelspec": {
      "name": "python3",
      "display_name": "Python 3"
    },
    "language_info": {
      "name": "python"
    }
  },
  "cells": [
    {
      "cell_type": "markdown",
      "source": [
        "# Tarea para el Hogar 02"
      ],
      "metadata": {
        "id": "F3r8aa3pBigj"
      }
    },
    {
      "cell_type": "markdown",
      "source": [
        "Esta Tarea para el Hogar 02 se entrega el final de la segunda clase\n",
        "<br> se espera de usted que intente avanzar con los desafios propuestos y que los traiga terminados para la Clase 03, ya que se analizarán los resultados"
      ],
      "metadata": {
        "id": "nBm4ktHUBmZt"
      }
    },
    {
      "cell_type": "markdown",
      "source": [
        "##  1. Ensembles de Modelos"
      ],
      "metadata": {
        "id": "TK-M04ElCESC"
      }
    },
    {
      "cell_type": "markdown",
      "source": [
        "Vea el siguiente video [BBC - The Code - The Wisdom of the Crowd](https://www.youtube.com/watch?v=iOucwX7Z1HU)    ( 5 min)\n"
      ],
      "metadata": {
        "id": "biPYxgobCOSS"
      }
    },
    {
      "cell_type": "markdown",
      "source": [
        "Lea los siguientes artículos\n",
        "\n",
        "\n",
        "*   [The Wisdom of Crowds (Vox Populi) by Francis Galton](https://www.all-about-psychology.com/the-wisdom-of-crowds.html)  (10 min)\n",
        "*   [A Gentle Introduction to Ensemble Learning](https://machinelearningmastery.com/what-is-ensemble-learning/)  (10 min)\n",
        "\n"
      ],
      "metadata": {
        "id": "FBszBRyNCcjp"
      }
    },
    {
      "cell_type": "markdown",
      "source": [
        "\n",
        "\n",
        "---\n",
        "\n"
      ],
      "metadata": {
        "id": "x7SebtV2lpHQ"
      }
    },
    {
      "cell_type": "markdown",
      "source": [
        "##  2.  Zero2Hero   primera parte\n",
        "Se han lanzado los primeros fascículos coleccionables llamados \"from Zero to Hero\" que muy detalladamente, paso a paso enseñan todo lo necesario de R para entender los scripts oficiales de la asignatura.\n",
        "Están en el repositorio oficial de la asignatura, carpeta  **src/zero2hero**"
      ],
      "metadata": {
        "id": "NQcY8u2MDSLT"
      }
    },
    {
      "cell_type": "markdown",
      "source": [
        "\n",
        "\n",
        "---\n",
        "\n"
      ],
      "metadata": {
        "id": "GcO0OSiIEAGy"
      }
    },
    {
      "cell_type": "markdown",
      "source": [
        "## 3.  Grid Search"
      ],
      "metadata": {
        "id": "6MStcyn0EBdT"
      }
    },
    {
      "cell_type": "markdown",
      "source": [
        "Busque en internet el precido significado de los hiperparámetros de la librería **rpart**  que está implementando el algoritmo **CART**  Classification and Regression Trees  propuesto en el año 1984 por Leo Brieman:\n",
        "\n",
        "*   cp\n",
        "*   maxdepth\n",
        "*   minsplit\n",
        "*   minbucket\n",
        "\n",
        "Entienda que valores es razonable tome cada hiperparámetro,  en particular profundice en el hiperparámetro  **cp**  y la posibilidad que tome valores negativos.  Es válido consultar a su amigo de *capacidades especiales*  ChatGPT\n"
      ],
      "metadata": {
        "id": "gM8RKXDgEIY0"
      }
    },
    {
      "cell_type": "markdown",
      "source": [
        "En las siguientes celdas a un notebook incompleto, un esqueleto de codigo brindado a modo de facilitarle la tarea de codeo y permitir que su valiosa cognición se concentre temas conceptuales de Ciencia de Datos\n",
        "\n",
        "Modifiquelo agregando loops para que recorra TODOS los hiperparámetros de rpart  < cp, maxdepth, minsplit, minbucket >, y luego póngalo a correr. Recuerde cambiar por SU semilla\n",
        "Tenga muy presente la granularidad que eligirá para cada hiperparámetro."
      ],
      "metadata": {
        "id": "_k7eT3HIFy9y"
      }
    },
    {
      "cell_type": "markdown",
      "source": [
        "### Seteo del ambiente en Google Colab"
      ],
      "metadata": {
        "id": "kmLygy1TYPfg"
      }
    },
    {
      "cell_type": "markdown",
      "source": [
        "Esta parte se debe correr con el runtime en Python3\n",
        "<br>Ir al menu, Runtime -> Change Runtime Tipe -> Runtime type ->  **Python 3**"
      ],
      "metadata": {
        "id": "OikOm5K2YU3X"
      }
    },
    {
      "cell_type": "markdown",
      "source": [
        "Conectar la virtual machine donde esta corriendo Google Colab con el  Google Drive, para poder tener persistencia de archivos"
      ],
      "metadata": {
        "id": "4fmV5LyZdFyI"
      }
    },
    {
      "cell_type": "code",
      "source": [
        "# primero establecer el Runtime de Python 3\n",
        "from google.colab import drive\n",
        "drive.mount('/content/drive', force_remount=True)\n"
      ],
      "metadata": {
        "id": "ilEZ-bE2VybW"
      },
      "execution_count": null,
      "outputs": []
    },
    {
      "cell_type": "markdown",
      "source": [
        "Para correr la siguiente celda es fundamental en Arranque en Frio haber copiado el archivo kaggle.json al Google Drive, en la carpeta indicada en el instructivo\n",
        "\n",
        "<br>los siguientes comando estan en shell script de Linux\n",
        "*   Crear las carpetas en el Google Drive\n",
        "*   \"instalar\" el archivo kaggle.json desde el Google Drive a la virtual machine para que pueda ser utilizado por la libreria  kaggle de Python\n",
        "*   Bajar el  **dataset_pequeno**  al  Google Drive  y tambien al disco local de la virtual machine que esta corriendo Google Colab\n",
        "\n"
      ],
      "metadata": {
        "id": "ilaKtqWldeWg"
      }
    },
    {
      "cell_type": "code",
      "source": [
        "%%shell\n",
        "\n",
        "mkdir -p \"/content/.drive/My Drive/dm\"\n",
        "mkdir -p \"/content/buckets\"\n",
        "ln -s \"/content/.drive/My Drive/dm\" /content/buckets/b1\n",
        "\n",
        "mkdir -p ~/.kaggle\n",
        "cp /content/buckets/b1/kaggle/kaggle.json  ~/.kaggle\n",
        "chmod 600 ~/.kaggle/kaggle.json\n",
        "\n",
        "\n",
        "mkdir -p /content/buckets/b1/exp\n",
        "mkdir -p /content/buckets/b1/datasets\n",
        "mkdir -p /content/datasets\n",
        "\n",
        "\n",
        "\n",
        "archivo_origen=\"https://storage.googleapis.com/open-courses/itba2025-8d0a/dataset_pequeno.csv\"\n",
        "archivo_destino=\"/content/datasets/dataset_pequeno.csv\"\n",
        "archivo_destino_bucket=\"/content/buckets/b1/datasets/dataset_pequeno.csv\"\n",
        "\n",
        "if ! test -f $archivo_destino_bucket; then\n",
        "  wget  $archivo_origen  -O $archivo_destino_bucket\n",
        "fi\n",
        "\n",
        "\n",
        "if ! test -f $archivo_destino; then\n",
        "  cp  $archivo_destino_bucket  $archivo_destino\n",
        "fi\n"
      ],
      "metadata": {
        "id": "W8dQFI5QYCFa",
        "colab": {
          "base_uri": "https://localhost:8080/"
        },
        "outputId": "01d135b6-493f-4e8b-ccb1-383bcd9cf8e7"
      },
      "execution_count": null,
      "outputs": [
        {
          "output_type": "stream",
          "name": "stdout",
          "text": [
            "cp: cannot stat '/content/buckets/b1/kaggle/kaggle.json': No such file or directory\n",
            "chmod: cannot access '/root/.kaggle/kaggle.json': No such file or directory\n"
          ]
        },
        {
          "output_type": "execute_result",
          "data": {
            "text/plain": []
          },
          "metadata": {},
          "execution_count": 2
        }
      ]
    },
    {
      "cell_type": "code",
      "source": [
        "setwd(\"/content/buckets/b1/exp\")"
      ],
      "metadata": {
        "id": "492Wuo0t8HRC"
      },
      "execution_count": null,
      "outputs": []
    },
    {
      "cell_type": "markdown",
      "source": [
        "limpio el ambiente de R"
      ],
      "metadata": {
        "id": "SE94XRhWsxkX"
      }
    },
    {
      "cell_type": "code",
      "source": [
        "# limpio la memoria\n",
        "rm(list=ls(all.names=TRUE)) # remove all objects\n",
        "gc(full=TRUE, verbose=FALSE) # garbage collection"
      ],
      "metadata": {
        "id": "oZG_4br6szlT",
        "colab": {
          "base_uri": "https://localhost:8080/",
          "height": 129
        },
        "outputId": "4a7fcdbc-5ade-4ad9-f226-cb3921cc2bc2"
      },
      "execution_count": null,
      "outputs": [
        {
          "output_type": "display_data",
          "data": {
            "text/html": [
              "<table class=\"dataframe\">\n",
              "<caption>A matrix: 2 × 6 of type dbl</caption>\n",
              "<thead>\n",
              "\t<tr><th></th><th scope=col>used</th><th scope=col>(Mb)</th><th scope=col>gc trigger</th><th scope=col>(Mb)</th><th scope=col>max used</th><th scope=col>(Mb)</th></tr>\n",
              "</thead>\n",
              "<tbody>\n",
              "\t<tr><th scope=row>Ncells</th><td> 656353</td><td>35.1</td><td>1454468</td><td>77.7</td><td>1454468</td><td>77.7</td></tr>\n",
              "\t<tr><th scope=row>Vcells</th><td>1219095</td><td> 9.4</td><td>8388608</td><td>64.0</td><td>1975128</td><td>15.1</td></tr>\n",
              "</tbody>\n",
              "</table>\n"
            ],
            "text/markdown": "\nA matrix: 2 × 6 of type dbl\n\n| <!--/--> | used | (Mb) | gc trigger | (Mb) | max used | (Mb) |\n|---|---|---|---|---|---|---|\n| Ncells |  656353 | 35.1 | 1454468 | 77.7 | 1454468 | 77.7 |\n| Vcells | 1219095 |  9.4 | 8388608 | 64.0 | 1975128 | 15.1 |\n\n",
            "text/latex": "A matrix: 2 × 6 of type dbl\n\\begin{tabular}{r|llllll}\n  & used & (Mb) & gc trigger & (Mb) & max used & (Mb)\\\\\n\\hline\n\tNcells &  656353 & 35.1 & 1454468 & 77.7 & 1454468 & 77.7\\\\\n\tVcells & 1219095 &  9.4 & 8388608 & 64.0 & 1975128 & 15.1\\\\\n\\end{tabular}\n",
            "text/plain": [
              "       used    (Mb) gc trigger (Mb) max used (Mb)\n",
              "Ncells  656353 35.1 1454468    77.7 1454468  77.7\n",
              "Vcells 1219095  9.4 8388608    64.0 1975128  15.1"
            ]
          },
          "metadata": {}
        }
      ]
    },
    {
      "cell_type": "code",
      "source": [
        "# cargo las librerias que necesito\n",
        "require(\"data.table\")\n",
        "require(\"rpart\")\n",
        "require(\"parallel\")\n",
        "if (!require(\"primes\")) install.packages(\"primes\")\n",
        "require(\"primes\")"
      ],
      "metadata": {
        "id": "JO-12d7YHkWy",
        "colab": {
          "base_uri": "https://localhost:8080/"
        },
        "outputId": "1c01d2cf-ff8a-40f7-98ba-66571709a6bb"
      },
      "execution_count": null,
      "outputs": [
        {
          "output_type": "stream",
          "name": "stderr",
          "text": [
            "Loading required package: data.table\n",
            "\n",
            "Loading required package: rpart\n",
            "\n",
            "Loading required package: parallel\n",
            "\n",
            "Loading required package: primes\n",
            "\n"
          ]
        }
      ]
    },
    {
      "cell_type": "markdown",
      "source": [
        "Aqui debe poner SU semiila primigenia"
      ],
      "metadata": {
        "id": "0MclPEJ6Q8Bp"
      }
    },
    {
      "cell_type": "code",
      "source": [
        "PARAM <- list()\n",
        "# reemplazar por su primer semilla\n",
        "PARAM$semilla_primigenia <- 100151\n",
        "PARAM$qsemillas <- 1\n",
        "\n",
        "PARAM$training_pct <- 70L  # entre  1L y 99L\n",
        "\n",
        "# elegir SU dataset comentando/ descomentando\n",
        "PARAM$dataset_nom <- \"~/datasets/dataset_pequeno.csv\""
      ],
      "metadata": {
        "id": "Vt5fC6bWHu5r"
      },
      "execution_count": null,
      "outputs": []
    },
    {
      "cell_type": "code",
      "source": [
        "# particionar agrega una columna llamada fold a un dataset\n",
        "#  que consiste en una particion estratificada segun agrupa\n",
        "# particionar( data=dataset, division=c(70,30), agrupa=clase_ternaria, seed=semilla)\n",
        "#   crea una particion 70, 30\n",
        "\n",
        "particionar <- function(data, division, agrupa = \"\", campo = \"fold\", start = 1, seed = NA) {\n",
        "  if (!is.na(seed)) set.seed(seed)\n",
        "\n",
        "  bloque <- unlist(mapply(function(x, y) {\n",
        "    rep(y, x)\n",
        "  }, division, seq(from = start, length.out = length(division))))\n",
        "\n",
        "  data[, (campo) := sample(rep(bloque, ceiling(.N / length(bloque))))[1:.N],\n",
        "    by = agrupa\n",
        "  ]\n",
        "}\n"
      ],
      "metadata": {
        "id": "Z1dchsrWH4MD"
      },
      "execution_count": null,
      "outputs": []
    },
    {
      "cell_type": "code",
      "source": [
        "ArbolEstimarGanancia <- function(semilla, training_pct, param_basicos) {\n",
        "  # particiono estratificadamente el dataset\n",
        "  particionar(dataset,\n",
        "    division = c(training_pct, 100L -training_pct),\n",
        "    agrupa = \"clase_ternaria\",\n",
        "    seed = semilla # aqui se usa SU semilla\n",
        "  )\n",
        "\n",
        "  # genero el modelo\n",
        "  # predecir clase_ternaria a partir del resto\n",
        "  modelo <- rpart(\"clase_ternaria ~ .\",\n",
        "    data = dataset[fold == 1], # fold==1  es training,  el 70% de los datos\n",
        "    xval = 0,\n",
        "    control = param_basicos\n",
        "  ) # aqui van los parametros del arbol\n",
        "\n",
        "  # aplico el modelo a los datos de testing\n",
        "  prediccion <- predict(modelo, # el modelo que genere recien\n",
        "    dataset[fold == 2], # fold==2  es testing, el 30% de los datos\n",
        "    type = \"prob\"\n",
        "  ) # type= \"prob\"  es que devuelva la probabilidad\n",
        "\n",
        "  # prediccion es una matriz con TRES columnas,\n",
        "  #  llamadas \"BAJA+1\", \"BAJA+2\"  y \"CONTINUA\"\n",
        "  # cada columna es el vector de probabilidades\n",
        "\n",
        "\n",
        "  # calculo la ganancia en testing  qu es fold==2\n",
        "  ganancia_test <- dataset[\n",
        "    fold == 2,\n",
        "    sum(ifelse(prediccion[, \"BAJA+2\"] > 0.025,\n",
        "      ifelse(clase_ternaria == \"BAJA+2\", 117000, -3000),\n",
        "      0\n",
        "    ))\n",
        "  ]\n",
        "\n",
        "  # escalo la ganancia como si fuera todo el dataset\n",
        "  ganancia_test_normalizada <- ganancia_test / (( 100 - PARAM$training_pct ) / 100 )\n",
        "\n",
        "  return(\n",
        "    c( list(\"semilla\" = semilla),\n",
        "      param_basicos,\n",
        "      list( \"ganancia_test\" = ganancia_test_normalizada )\n",
        "     )\n",
        "  )\n",
        "}\n"
      ],
      "metadata": {
        "id": "xsHwS1CzIA70"
      },
      "execution_count": null,
      "outputs": []
    },
    {
      "cell_type": "code",
      "source": [
        "ArbolesMontecarlo <- function(semillas, param_basicos) {\n",
        "\n",
        "  # la funcion mcmapply  llama a la funcion ArbolEstimarGanancia\n",
        "  #  tantas veces como valores tenga el vector  PARAM$semillas\n",
        "  salida <- mcmapply(ArbolEstimarGanancia,\n",
        "    semillas, # paso el vector de semillas\n",
        "    MoreArgs = list(PARAM$training_pct, param_basicos), # aqui paso el segundo parametro\n",
        "    SIMPLIFY = FALSE,\n",
        "    mc.cores = detectCores()\n",
        "  )\n",
        "\n",
        "  return(salida)\n",
        "}\n"
      ],
      "metadata": {
        "id": "BvBVOuhqIEjD"
      },
      "execution_count": null,
      "outputs": []
    },
    {
      "cell_type": "code",
      "source": [
        "# carpeta de trabajo\n",
        "# por fabor cambiar numero de experimento si se cambia el loop principal\n",
        "setwd(\"/content/buckets/b1/exp\")\n",
        "experimento <- \"HT2900\"\n",
        "dir.create(experimento, showWarnings=FALSE)\n",
        "setwd( paste0(\"/content/buckets/b1/exp/\", experimento ))"
      ],
      "metadata": {
        "id": "L-DOGHOjIG7G"
      },
      "execution_count": null,
      "outputs": []
    },
    {
      "cell_type": "code",
      "source": [
        "# lectura del dataset\n",
        "dataset <- fread(\"/content/datasets/dataset_pequeno.csv\")\n",
        "\n",
        "# trabajo solo con los datos con clase, es decir 202107\n",
        "dataset <- dataset[clase_ternaria != \"\"]"
      ],
      "metadata": {
        "id": "NM-mrLWcIPo6"
      },
      "execution_count": null,
      "outputs": []
    },
    {
      "cell_type": "code",
      "source": [
        "\n",
        "# genero numeros primos\n",
        "primos <- generate_primes(min = 100000, max = 1000000)\n",
        "set.seed(PARAM$semilla_primigenia) # inicializo\n",
        "# me quedo con PARAM$qsemillas   semillas\n",
        "PARAM$semillas <- sample(primos, PARAM$qsemillas )\n"
      ],
      "metadata": {
        "id": "tSlY0EcgIWdi"
      },
      "execution_count": null,
      "outputs": []
    },
    {
      "cell_type": "code",
      "source": [
        "# genero la data.table donde van los resultados detallados del Grid Search\n",
        "# un registro para cada combinacion de < semilla, parametros >\n",
        "\n",
        "if(file.exists(\"gridsearch_detalle.txt\")){\n",
        "  tb_grid_search_detalle <- fread(\"gridsearch_detalle.txt\")\n",
        "}else{\n",
        "  tb_grid_search_detalle <- data.table(\n",
        "    semilla = integer(),\n",
        "    cp = numeric(),\n",
        "    maxdepth = integer(),\n",
        "   minsplit = integer(),\n",
        "    minbucket = integer(),\n",
        "    ganancia_test = numeric()\n",
        "  )\n",
        "}\n",
        "\n",
        "nrow( tb_grid_search_detalle )"
      ],
      "metadata": {
        "id": "xxCAwIKyIaTl",
        "colab": {
          "base_uri": "https://localhost:8080/",
          "height": 34
        },
        "outputId": "2d3165ab-11ad-48ea-bfa1-51eb8c6eec91"
      },
      "execution_count": null,
      "outputs": [
        {
          "output_type": "display_data",
          "data": {
            "text/html": [
              "0"
            ],
            "text/markdown": "0",
            "text/latex": "0",
            "text/plain": [
              "[1] 0"
            ]
          },
          "metadata": {}
        }
      ]
    },
    {
      "cell_type": "markdown",
      "source": [
        "Esta es la parte del código que usted debe expandir a TODOS los hiperparámetros de rpart,\n",
        "<br>ya que actualmente apenas recorre  maxdepth y  minsplit  dejando fijos  cp=-0.5  y minbucket=5"
      ],
      "metadata": {
        "id": "eAuGBNL8IkOD"
      }
    },
    {
      "cell_type": "code",
      "source": [
        "\n",
        "# itero por los loops anidados para cada hiperparametro\n",
        "iter <- 0\n",
        "\n",
        "for (vmax_depth in c(4, 6, 8, 10, 12, 14)) {\n",
        "  for (vmin_split in c(1000, 800, 600, 400, 200, 100, 50, 20, 10)) {\n",
        "    for (cp in c(-0.5, -0.1, -0.05, -0.01)) { # corro valores negativos\n",
        "      for (div in c(2, 3, 4)) {\n",
        "\n",
        "        minbucket <- floor(vmin_split / div) # reemplazo el valor fijo de minbucket / amaño de la hoja.\n",
        "\n",
        "    iter <- iter + 1\n",
        "    cat( iter, \" \" )\n",
        "    flush.console()\n",
        "    if( iter*PARAM$qsemillas < nrow(tb_grid_search_detalle)+1 ) next\n",
        "\n",
        "#Tengo que modificar este script: poner más loops:\n",
        "\n",
        "    # vminsplit  minima cantidad de registros en un nodo para hacer el split\n",
        "    param_basicos <- list(\n",
        "      \"cp\" = cp, # complejidad minima\n",
        "      \"maxdepth\" = vmax_depth, # profundidad máxima del arbol\n",
        "      \"minsplit\" = vmin_split, # tamaño minimo de nodo para hacer split\n",
        "      \"minbucket\" = minbucket # minima cantidad de registros en una hoja (tamaño de la hoja)\n",
        "    )\n",
        "\n",
        "    # Un solo llamado, con la semilla 17\n",
        "    ganancias <- ArbolesMontecarlo(PARAM$semillas, param_basicos)\n",
        "\n",
        "    # agrego a la tabla\n",
        "    tb_grid_search_detalle <- rbindlist(\n",
        "          list(tb_grid_search_detalle, rbindlist(ganancias))\n",
        "        )\n",
        "      }\n",
        "    }\n",
        "  }\n",
        "\n",
        "  # grabo cada vez TODA la tabla en el loop mas externo\n",
        "  fwrite( tb_grid_search_detalle,\n",
        "          file = \"gridsearch_detalle.txt\",\n",
        "          sep = \"\\t\" )\n",
        "}\n"
      ],
      "metadata": {
        "id": "ipLHm3STIfmb",
        "colab": {
          "base_uri": "https://localhost:8080/"
        },
        "outputId": "432aed6f-91e3-4f1b-b6cd-76e126759489"
      },
      "execution_count": null,
      "outputs": [
        {
          "output_type": "stream",
          "name": "stdout",
          "text": [
            "1  2  3  4  5  6  7  8  9  10  11  12  13  14  15  16  17  18  19  20  21  22  23  24  25  26  27  28  29  30  31  32  33  34  35  36  37  38  39  40  41  42  43  44  45  46  47  48  49  50  51  52  53  54  55  56  57  58  59  60  61  62  63  64  65  66  67  68  69  70  71  72  73  74  75  76  77  78  79  80  81  82  83  84  85  86  87  88  89  90  91  92  93  94  95  96  97  98  99  100  101  102  103  104  105  106  107  108  109  110  111  112  113  114  115  116  117  118  119  120  121  122  123  124  125  126  127  128  129  130  131  132  133  134  135  136  137  138  139  140  141  142  143  144  145  146  147  148  149  150  151  152  153  154  155  156  157  158  159  160  161  162  163  164  165  166  167  168  169  170  171  172  173  174  175  176  177  178  179  180  181  182  183  184  185  186  187  188  189  190  191  192  193  194  195  196  197  198  199  200  201  202  203  204  205  206  207  208  209  210  211  212  213  214  215  216  217  218  219  220  221  222  223  224  225  226  227  228  229  230  231  232  233  234  235  236  237  238  239  240  241  242  243  244  245  246  247  248  249  250  251  252  253  254  255  256  257  258  259  260  261  262  263  264  265  266  267  268  269  270  271  272  273  274  275  276  277  278  279  280  281  282  283  284  285  286  287  288  289  290  291  292  293  294  295  296  297  298  299  300  301  302  303  304  305  306  307  308  309  310  311  312  313  314  315  316  317  318  319  320  321  322  323  324  325  326  327  328  329  330  331  332  333  334  335  336  337  338  339  340  341  342  343  344  345  346  347  348  349  350  351  "
          ]
        }
      ]
    },
    {
      "cell_type": "code",
      "source": [
        "from google.colab import files\n",
        "files.upload()\n"
      ],
      "metadata": {
        "colab": {
          "base_uri": "https://localhost:8080/",
          "height": 1000
        },
        "id": "scsBa-5r2RHS",
        "outputId": "aa499af5-23c4-41f2-9861-accbb9bce928"
      },
      "execution_count": null,
      "outputs": [
        {
          "output_type": "display_data",
          "data": {
            "text/plain": [
              "<IPython.core.display.HTML object>"
            ],
            "text/html": [
              "\n",
              "     <input type=\"file\" id=\"files-4d8a6331-73da-4108-81ab-d8037d84b1b1\" name=\"files[]\" multiple disabled\n",
              "        style=\"border:none\" />\n",
              "     <output id=\"result-4d8a6331-73da-4108-81ab-d8037d84b1b1\">\n",
              "      Upload widget is only available when the cell has been executed in the\n",
              "      current browser session. Please rerun this cell to enable.\n",
              "      </output>\n",
              "      <script>// Copyright 2017 Google LLC\n",
              "//\n",
              "// Licensed under the Apache License, Version 2.0 (the \"License\");\n",
              "// you may not use this file except in compliance with the License.\n",
              "// You may obtain a copy of the License at\n",
              "//\n",
              "//      http://www.apache.org/licenses/LICENSE-2.0\n",
              "//\n",
              "// Unless required by applicable law or agreed to in writing, software\n",
              "// distributed under the License is distributed on an \"AS IS\" BASIS,\n",
              "// WITHOUT WARRANTIES OR CONDITIONS OF ANY KIND, either express or implied.\n",
              "// See the License for the specific language governing permissions and\n",
              "// limitations under the License.\n",
              "\n",
              "/**\n",
              " * @fileoverview Helpers for google.colab Python module.\n",
              " */\n",
              "(function(scope) {\n",
              "function span(text, styleAttributes = {}) {\n",
              "  const element = document.createElement('span');\n",
              "  element.textContent = text;\n",
              "  for (const key of Object.keys(styleAttributes)) {\n",
              "    element.style[key] = styleAttributes[key];\n",
              "  }\n",
              "  return element;\n",
              "}\n",
              "\n",
              "// Max number of bytes which will be uploaded at a time.\n",
              "const MAX_PAYLOAD_SIZE = 100 * 1024;\n",
              "\n",
              "function _uploadFiles(inputId, outputId) {\n",
              "  const steps = uploadFilesStep(inputId, outputId);\n",
              "  const outputElement = document.getElementById(outputId);\n",
              "  // Cache steps on the outputElement to make it available for the next call\n",
              "  // to uploadFilesContinue from Python.\n",
              "  outputElement.steps = steps;\n",
              "\n",
              "  return _uploadFilesContinue(outputId);\n",
              "}\n",
              "\n",
              "// This is roughly an async generator (not supported in the browser yet),\n",
              "// where there are multiple asynchronous steps and the Python side is going\n",
              "// to poll for completion of each step.\n",
              "// This uses a Promise to block the python side on completion of each step,\n",
              "// then passes the result of the previous step as the input to the next step.\n",
              "function _uploadFilesContinue(outputId) {\n",
              "  const outputElement = document.getElementById(outputId);\n",
              "  const steps = outputElement.steps;\n",
              "\n",
              "  const next = steps.next(outputElement.lastPromiseValue);\n",
              "  return Promise.resolve(next.value.promise).then((value) => {\n",
              "    // Cache the last promise value to make it available to the next\n",
              "    // step of the generator.\n",
              "    outputElement.lastPromiseValue = value;\n",
              "    return next.value.response;\n",
              "  });\n",
              "}\n",
              "\n",
              "/**\n",
              " * Generator function which is called between each async step of the upload\n",
              " * process.\n",
              " * @param {string} inputId Element ID of the input file picker element.\n",
              " * @param {string} outputId Element ID of the output display.\n",
              " * @return {!Iterable<!Object>} Iterable of next steps.\n",
              " */\n",
              "function* uploadFilesStep(inputId, outputId) {\n",
              "  const inputElement = document.getElementById(inputId);\n",
              "  inputElement.disabled = false;\n",
              "\n",
              "  const outputElement = document.getElementById(outputId);\n",
              "  outputElement.innerHTML = '';\n",
              "\n",
              "  const pickedPromise = new Promise((resolve) => {\n",
              "    inputElement.addEventListener('change', (e) => {\n",
              "      resolve(e.target.files);\n",
              "    });\n",
              "  });\n",
              "\n",
              "  const cancel = document.createElement('button');\n",
              "  inputElement.parentElement.appendChild(cancel);\n",
              "  cancel.textContent = 'Cancel upload';\n",
              "  const cancelPromise = new Promise((resolve) => {\n",
              "    cancel.onclick = () => {\n",
              "      resolve(null);\n",
              "    };\n",
              "  });\n",
              "\n",
              "  // Wait for the user to pick the files.\n",
              "  const files = yield {\n",
              "    promise: Promise.race([pickedPromise, cancelPromise]),\n",
              "    response: {\n",
              "      action: 'starting',\n",
              "    }\n",
              "  };\n",
              "\n",
              "  cancel.remove();\n",
              "\n",
              "  // Disable the input element since further picks are not allowed.\n",
              "  inputElement.disabled = true;\n",
              "\n",
              "  if (!files) {\n",
              "    return {\n",
              "      response: {\n",
              "        action: 'complete',\n",
              "      }\n",
              "    };\n",
              "  }\n",
              "\n",
              "  for (const file of files) {\n",
              "    const li = document.createElement('li');\n",
              "    li.append(span(file.name, {fontWeight: 'bold'}));\n",
              "    li.append(span(\n",
              "        `(${file.type || 'n/a'}) - ${file.size} bytes, ` +\n",
              "        `last modified: ${\n",
              "            file.lastModifiedDate ? file.lastModifiedDate.toLocaleDateString() :\n",
              "                                    'n/a'} - `));\n",
              "    const percent = span('0% done');\n",
              "    li.appendChild(percent);\n",
              "\n",
              "    outputElement.appendChild(li);\n",
              "\n",
              "    const fileDataPromise = new Promise((resolve) => {\n",
              "      const reader = new FileReader();\n",
              "      reader.onload = (e) => {\n",
              "        resolve(e.target.result);\n",
              "      };\n",
              "      reader.readAsArrayBuffer(file);\n",
              "    });\n",
              "    // Wait for the data to be ready.\n",
              "    let fileData = yield {\n",
              "      promise: fileDataPromise,\n",
              "      response: {\n",
              "        action: 'continue',\n",
              "      }\n",
              "    };\n",
              "\n",
              "    // Use a chunked sending to avoid message size limits. See b/62115660.\n",
              "    let position = 0;\n",
              "    do {\n",
              "      const length = Math.min(fileData.byteLength - position, MAX_PAYLOAD_SIZE);\n",
              "      const chunk = new Uint8Array(fileData, position, length);\n",
              "      position += length;\n",
              "\n",
              "      const base64 = btoa(String.fromCharCode.apply(null, chunk));\n",
              "      yield {\n",
              "        response: {\n",
              "          action: 'append',\n",
              "          file: file.name,\n",
              "          data: base64,\n",
              "        },\n",
              "      };\n",
              "\n",
              "      let percentDone = fileData.byteLength === 0 ?\n",
              "          100 :\n",
              "          Math.round((position / fileData.byteLength) * 100);\n",
              "      percent.textContent = `${percentDone}% done`;\n",
              "\n",
              "    } while (position < fileData.byteLength);\n",
              "  }\n",
              "\n",
              "  // All done.\n",
              "  yield {\n",
              "    response: {\n",
              "      action: 'complete',\n",
              "    }\n",
              "  };\n",
              "}\n",
              "\n",
              "scope.google = scope.google || {};\n",
              "scope.google.colab = scope.google.colab || {};\n",
              "scope.google.colab._files = {\n",
              "  _uploadFiles,\n",
              "  _uploadFilesContinue,\n",
              "};\n",
              "})(self);\n",
              "</script> "
            ]
          },
          "metadata": {}
        },
        {
          "output_type": "stream",
          "name": "stdout",
          "text": [
            "Saving gridsearch_detalle.txt to gridsearch_detalle (1).txt\n"
          ]
        },
        {
          "output_type": "execute_result",
          "data": {
            "text/plain": [
              "{'gridsearch_detalle (1).txt': b'semilla\\tcp\\tmaxdepth\\tminsplit\\tminbucket\\tganancia_test\\n468889\\t-0.5\\t4\\t1000\\t500\\t53190000\\n468889\\t-0.5\\t4\\t1000\\t333\\t53540000\\n468889\\t-0.5\\t4\\t1000\\t250\\t52490000\\n468889\\t-0.1\\t4\\t1000\\t500\\t53190000\\n468889\\t-0.1\\t4\\t1000\\t333\\t53540000\\n468889\\t-0.1\\t4\\t1000\\t250\\t52490000\\n468889\\t-0.05\\t4\\t1000\\t500\\t53190000\\n468889\\t-0.05\\t4\\t1000\\t333\\t53540000\\n468889\\t-0.05\\t4\\t1000\\t250\\t52490000\\n468889\\t-0.01\\t4\\t1000\\t500\\t53190000\\n468889\\t-0.01\\t4\\t1000\\t333\\t53540000\\n468889\\t-0.01\\t4\\t1000\\t250\\t52490000\\n468889\\t-0.5\\t4\\t800\\t400\\t53750000\\n468889\\t-0.5\\t4\\t800\\t266\\t54230000\\n468889\\t-0.5\\t4\\t800\\t200\\t52490000\\n468889\\t-0.1\\t4\\t800\\t400\\t53750000\\n468889\\t-0.1\\t4\\t800\\t266\\t54230000\\n468889\\t-0.1\\t4\\t800\\t200\\t52490000\\n468889\\t-0.05\\t4\\t800\\t400\\t53750000\\n468889\\t-0.05\\t4\\t800\\t266\\t54230000\\n468889\\t-0.05\\t4\\t800\\t200\\t52490000\\n468889\\t-0.01\\t4\\t800\\t400\\t53750000\\n468889\\t-0.01\\t4\\t800\\t266\\t54230000\\n468889\\t-0.01\\t4\\t800\\t200\\t52490000\\n468889\\t-0.5\\t4\\t600\\t300\\t53540000\\n468889\\t-0.5\\t4\\t600\\t200\\t52490000\\n468889\\t-0.5\\t4\\t600\\t150\\t51840000\\n468889\\t-0.1\\t4\\t600\\t300\\t53540000\\n468889\\t-0.1\\t4\\t600\\t200\\t52490000\\n468889\\t-0.1\\t4\\t600\\t150\\t51840000\\n468889\\t-0.05\\t4\\t600\\t300\\t53540000\\n468889\\t-0.05\\t4\\t600\\t200\\t52490000\\n468889\\t-0.05\\t4\\t600\\t150\\t51840000\\n468889\\t-0.01\\t4\\t600\\t300\\t53540000\\n468889\\t-0.01\\t4\\t600\\t200\\t52490000\\n468889\\t-0.01\\t4\\t600\\t150\\t51840000\\n468889\\t-0.5\\t4\\t400\\t200\\t52490000\\n468889\\t-0.5\\t4\\t400\\t133\\t51700000\\n468889\\t-0.5\\t4\\t400\\t100\\t52270000\\n468889\\t-0.1\\t4\\t400\\t200\\t52490000\\n468889\\t-0.1\\t4\\t400\\t133\\t51700000\\n468889\\t-0.1\\t4\\t400\\t100\\t52270000\\n468889\\t-0.05\\t4\\t400\\t200\\t52490000\\n468889\\t-0.05\\t4\\t400\\t133\\t51700000\\n468889\\t-0.05\\t4\\t400\\t100\\t52270000\\n468889\\t-0.01\\t4\\t400\\t200\\t52490000\\n468889\\t-0.01\\t4\\t400\\t133\\t51700000\\n468889\\t-0.01\\t4\\t400\\t100\\t52270000\\n468889\\t-0.5\\t4\\t200\\t100\\t52270000\\n468889\\t-0.5\\t4\\t200\\t66\\t52470000\\n468889\\t-0.5\\t4\\t200\\t50\\t52490000\\n468889\\t-0.1\\t4\\t200\\t100\\t52270000\\n468889\\t-0.1\\t4\\t200\\t66\\t52470000\\n468889\\t-0.1\\t4\\t200\\t50\\t52490000\\n468889\\t-0.05\\t4\\t200\\t100\\t52270000\\n468889\\t-0.05\\t4\\t200\\t66\\t52470000\\n468889\\t-0.05\\t4\\t200\\t50\\t52490000\\n468889\\t-0.01\\t4\\t200\\t100\\t52270000\\n468889\\t-0.01\\t4\\t200\\t66\\t52470000\\n468889\\t-0.01\\t4\\t200\\t50\\t52490000\\n468889\\t-0.5\\t4\\t100\\t50\\t52490000\\n468889\\t-0.5\\t4\\t100\\t33\\t52490000\\n468889\\t-0.5\\t4\\t100\\t25\\t52490000\\n468889\\t-0.1\\t4\\t100\\t50\\t52490000\\n468889\\t-0.1\\t4\\t100\\t33\\t52490000\\n468889\\t-0.1\\t4\\t100\\t25\\t52490000\\n468889\\t-0.05\\t4\\t100\\t50\\t52490000\\n468889\\t-0.05\\t4\\t100\\t33\\t52490000\\n468889\\t-0.05\\t4\\t100\\t25\\t52490000\\n468889\\t-0.01\\t4\\t100\\t50\\t52490000\\n468889\\t-0.01\\t4\\t100\\t33\\t52490000\\n468889\\t-0.01\\t4\\t100\\t25\\t52490000\\n468889\\t-0.5\\t4\\t50\\t25\\t52490000\\n468889\\t-0.5\\t4\\t50\\t16\\t52180000\\n468889\\t-0.5\\t4\\t50\\t12\\t52180000\\n468889\\t-0.1\\t4\\t50\\t25\\t52490000\\n468889\\t-0.1\\t4\\t50\\t16\\t52180000\\n468889\\t-0.1\\t4\\t50\\t12\\t52180000\\n468889\\t-0.05\\t4\\t50\\t25\\t52490000\\n468889\\t-0.05\\t4\\t50\\t16\\t52180000\\n468889\\t-0.05\\t4\\t50\\t12\\t52180000\\n468889\\t-0.01\\t4\\t50\\t25\\t52490000\\n468889\\t-0.01\\t4\\t50\\t16\\t52180000\\n468889\\t-0.01\\t4\\t50\\t12\\t52180000\\n468889\\t-0.5\\t4\\t20\\t10\\t52210000\\n468889\\t-0.5\\t4\\t20\\t6\\t52190000\\n468889\\t-0.5\\t4\\t20\\t5\\t51080000\\n468889\\t-0.1\\t4\\t20\\t10\\t52210000\\n468889\\t-0.1\\t4\\t20\\t6\\t52190000\\n468889\\t-0.1\\t4\\t20\\t5\\t51080000\\n468889\\t-0.05\\t4\\t20\\t10\\t52210000\\n468889\\t-0.05\\t4\\t20\\t6\\t52190000\\n468889\\t-0.05\\t4\\t20\\t5\\t51080000\\n468889\\t-0.01\\t4\\t20\\t10\\t52210000\\n468889\\t-0.01\\t4\\t20\\t6\\t52190000\\n468889\\t-0.01\\t4\\t20\\t5\\t51080000\\n468889\\t-0.5\\t4\\t10\\t5\\t51140000\\n468889\\t-0.5\\t4\\t10\\t3\\t51140000\\n468889\\t-0.5\\t4\\t10\\t2\\t51140000\\n468889\\t-0.1\\t4\\t10\\t5\\t51140000\\n468889\\t-0.1\\t4\\t10\\t3\\t51140000\\n468889\\t-0.1\\t4\\t10\\t2\\t51140000\\n468889\\t-0.05\\t4\\t10\\t5\\t51140000\\n468889\\t-0.05\\t4\\t10\\t3\\t51140000\\n468889\\t-0.05\\t4\\t10\\t2\\t51140000\\n468889\\t-0.01\\t4\\t10\\t5\\t51140000\\n468889\\t-0.01\\t4\\t10\\t3\\t51140000\\n468889\\t-0.01\\t4\\t10\\t2\\t51140000\\n468889\\t-0.5\\t6\\t1000\\t500\\t53590000\\n468889\\t-0.5\\t6\\t1000\\t333\\t52510000\\n468889\\t-0.5\\t6\\t1000\\t250\\t5.3e+07\\n468889\\t-0.1\\t6\\t1000\\t500\\t53590000\\n468889\\t-0.1\\t6\\t1000\\t333\\t52510000\\n468889\\t-0.1\\t6\\t1000\\t250\\t5.3e+07\\n468889\\t-0.05\\t6\\t1000\\t500\\t53590000\\n468889\\t-0.05\\t6\\t1000\\t333\\t52510000\\n468889\\t-0.05\\t6\\t1000\\t250\\t5.3e+07\\n468889\\t-0.01\\t6\\t1000\\t500\\t53590000\\n468889\\t-0.01\\t6\\t1000\\t333\\t52510000\\n468889\\t-0.01\\t6\\t1000\\t250\\t5.3e+07\\n468889\\t-0.5\\t6\\t800\\t400\\t53660000\\n468889\\t-0.5\\t6\\t800\\t266\\t53730000\\n468889\\t-0.5\\t6\\t800\\t200\\t53170000\\n468889\\t-0.1\\t6\\t800\\t400\\t53660000\\n468889\\t-0.1\\t6\\t800\\t266\\t53730000\\n468889\\t-0.1\\t6\\t800\\t200\\t53170000\\n468889\\t-0.05\\t6\\t800\\t400\\t53660000\\n468889\\t-0.05\\t6\\t800\\t266\\t53730000\\n468889\\t-0.05\\t6\\t800\\t200\\t53170000\\n468889\\t-0.01\\t6\\t800\\t400\\t53660000\\n468889\\t-0.01\\t6\\t800\\t266\\t53730000\\n468889\\t-0.01\\t6\\t800\\t200\\t53170000\\n468889\\t-0.5\\t6\\t600\\t300\\t53400000\\n468889\\t-0.5\\t6\\t600\\t200\\t53170000\\n468889\\t-0.5\\t6\\t600\\t150\\t53450000\\n468889\\t-0.1\\t6\\t600\\t300\\t53400000\\n468889\\t-0.1\\t6\\t600\\t200\\t53170000\\n468889\\t-0.1\\t6\\t600\\t150\\t53450000\\n468889\\t-0.05\\t6\\t600\\t300\\t53400000\\n468889\\t-0.05\\t6\\t600\\t200\\t53170000\\n468889\\t-0.05\\t6\\t600\\t150\\t53450000\\n468889\\t-0.01\\t6\\t600\\t300\\t53400000\\n468889\\t-0.01\\t6\\t600\\t200\\t53170000\\n468889\\t-0.01\\t6\\t600\\t150\\t53450000\\n468889\\t-0.5\\t6\\t400\\t200\\t53170000\\n468889\\t-0.5\\t6\\t400\\t133\\t52430000\\n468889\\t-0.5\\t6\\t400\\t100\\t51990000\\n468889\\t-0.1\\t6\\t400\\t200\\t53170000\\n468889\\t-0.1\\t6\\t400\\t133\\t52430000\\n468889\\t-0.1\\t6\\t400\\t100\\t51990000\\n468889\\t-0.05\\t6\\t400\\t200\\t53170000\\n468889\\t-0.05\\t6\\t400\\t133\\t52430000\\n468889\\t-0.05\\t6\\t400\\t100\\t51990000\\n468889\\t-0.01\\t6\\t400\\t200\\t53170000\\n468889\\t-0.01\\t6\\t400\\t133\\t52430000\\n468889\\t-0.01\\t6\\t400\\t100\\t51990000\\n468889\\t-0.5\\t6\\t200\\t100\\t51990000\\n468889\\t-0.5\\t6\\t200\\t66\\t54820000\\n468889\\t-0.5\\t6\\t200\\t50\\t54840000\\n468889\\t-0.1\\t6\\t200\\t100\\t51990000\\n468889\\t-0.1\\t6\\t200\\t66\\t54820000\\n468889\\t-0.1\\t6\\t200\\t50\\t54840000\\n468889\\t-0.05\\t6\\t200\\t100\\t51990000\\n468889\\t-0.05\\t6\\t200\\t66\\t54820000\\n468889\\t-0.05\\t6\\t200\\t50\\t54840000\\n468889\\t-0.01\\t6\\t200\\t100\\t51990000\\n468889\\t-0.01\\t6\\t200\\t66\\t54820000\\n468889\\t-0.01\\t6\\t200\\t50\\t54840000\\n468889\\t-0.5\\t6\\t100\\t50\\t53850000\\n468889\\t-0.5\\t6\\t100\\t33\\t54840000\\n468889\\t-0.5\\t6\\t100\\t25\\t53920000\\n468889\\t-0.1\\t6\\t100\\t50\\t53850000\\n468889\\t-0.1\\t6\\t100\\t33\\t54840000\\n468889\\t-0.1\\t6\\t100\\t25\\t53920000\\n468889\\t-0.05\\t6\\t100\\t50\\t53850000\\n468889\\t-0.05\\t6\\t100\\t33\\t54840000\\n468889\\t-0.05\\t6\\t100\\t25\\t53920000\\n468889\\t-0.01\\t6\\t100\\t50\\t53850000\\n468889\\t-0.01\\t6\\t100\\t33\\t54840000\\n468889\\t-0.01\\t6\\t100\\t25\\t53920000\\n468889\\t-0.5\\t6\\t50\\t25\\t53830000\\n468889\\t-0.5\\t6\\t50\\t16\\t55500000\\n468889\\t-0.5\\t6\\t50\\t12\\t55510000\\n468889\\t-0.1\\t6\\t50\\t25\\t53830000\\n468889\\t-0.1\\t6\\t50\\t16\\t55500000\\n468889\\t-0.1\\t6\\t50\\t12\\t55510000\\n468889\\t-0.05\\t6\\t50\\t25\\t53830000\\n468889\\t-0.05\\t6\\t50\\t16\\t55500000\\n468889\\t-0.05\\t6\\t50\\t12\\t55510000\\n468889\\t-0.01\\t6\\t50\\t25\\t53830000\\n468889\\t-0.01\\t6\\t50\\t16\\t55500000\\n468889\\t-0.01\\t6\\t50\\t12\\t55510000\\n468889\\t-0.5\\t6\\t20\\t10\\t55220000\\n468889\\t-0.5\\t6\\t20\\t6\\t52740000\\n468889\\t-0.5\\t6\\t20\\t5\\t53180000\\n468889\\t-0.1\\t6\\t20\\t10\\t55220000\\n468889\\t-0.1\\t6\\t20\\t6\\t52740000\\n468889\\t-0.1\\t6\\t20\\t5\\t53180000\\n468889\\t-0.05\\t6\\t20\\t10\\t55220000\\n468889\\t-0.05\\t6\\t20\\t6\\t52740000\\n468889\\t-0.05\\t6\\t20\\t5\\t53180000\\n468889\\t-0.01\\t6\\t20\\t10\\t55220000\\n468889\\t-0.01\\t6\\t20\\t6\\t52740000\\n468889\\t-0.01\\t6\\t20\\t5\\t53180000\\n468889\\t-0.5\\t6\\t10\\t5\\t53270000\\n468889\\t-0.5\\t6\\t10\\t3\\t53800000\\n468889\\t-0.5\\t6\\t10\\t2\\t53300000\\n468889\\t-0.1\\t6\\t10\\t5\\t53270000\\n468889\\t-0.1\\t6\\t10\\t3\\t53800000\\n468889\\t-0.1\\t6\\t10\\t2\\t53300000\\n468889\\t-0.05\\t6\\t10\\t5\\t53270000\\n468889\\t-0.05\\t6\\t10\\t3\\t53800000\\n468889\\t-0.05\\t6\\t10\\t2\\t53300000\\n468889\\t-0.01\\t6\\t10\\t5\\t53270000\\n468889\\t-0.01\\t6\\t10\\t3\\t53800000\\n468889\\t-0.01\\t6\\t10\\t2\\t53300000\\n468889\\t-0.5\\t8\\t1000\\t500\\t52450000\\n468889\\t-0.5\\t8\\t1000\\t333\\t50090000\\n468889\\t-0.5\\t8\\t1000\\t250\\t52270000\\n468889\\t-0.1\\t8\\t1000\\t500\\t52450000\\n468889\\t-0.1\\t8\\t1000\\t333\\t50090000\\n468889\\t-0.1\\t8\\t1000\\t250\\t52270000\\n468889\\t-0.05\\t8\\t1000\\t500\\t52450000\\n468889\\t-0.05\\t8\\t1000\\t333\\t50090000\\n468889\\t-0.05\\t8\\t1000\\t250\\t52270000\\n468889\\t-0.01\\t8\\t1000\\t500\\t52450000\\n468889\\t-0.01\\t8\\t1000\\t333\\t50090000\\n468889\\t-0.01\\t8\\t1000\\t250\\t52270000\\n468889\\t-0.5\\t8\\t800\\t400\\t51980000\\n468889\\t-0.5\\t8\\t800\\t266\\t50660000\\n468889\\t-0.5\\t8\\t800\\t200\\t50510000\\n468889\\t-0.1\\t8\\t800\\t400\\t51980000\\n468889\\t-0.1\\t8\\t800\\t266\\t50660000\\n468889\\t-0.1\\t8\\t800\\t200\\t50510000\\n468889\\t-0.05\\t8\\t800\\t400\\t51980000\\n468889\\t-0.05\\t8\\t800\\t266\\t50660000\\n468889\\t-0.05\\t8\\t800\\t200\\t50510000\\n468889\\t-0.01\\t8\\t800\\t400\\t51980000\\n468889\\t-0.01\\t8\\t800\\t266\\t50660000\\n468889\\t-0.01\\t8\\t800\\t200\\t50510000\\n468889\\t-0.5\\t8\\t600\\t300\\t51100000\\n468889\\t-0.5\\t8\\t600\\t200\\t49330000\\n468889\\t-0.5\\t8\\t600\\t150\\t48790000\\n468889\\t-0.1\\t8\\t600\\t300\\t51100000\\n468889\\t-0.1\\t8\\t600\\t200\\t49330000\\n468889\\t-0.1\\t8\\t600\\t150\\t48790000\\n468889\\t-0.05\\t8\\t600\\t300\\t51100000\\n468889\\t-0.05\\t8\\t600\\t200\\t49330000\\n468889\\t-0.05\\t8\\t600\\t150\\t48790000\\n468889\\t-0.01\\t8\\t600\\t300\\t51100000\\n468889\\t-0.01\\t8\\t600\\t200\\t49330000\\n468889\\t-0.01\\t8\\t600\\t150\\t48790000\\n468889\\t-0.5\\t8\\t400\\t200\\t47790000\\n468889\\t-0.5\\t8\\t400\\t133\\t46540000\\n468889\\t-0.5\\t8\\t400\\t100\\t49540000\\n468889\\t-0.1\\t8\\t400\\t200\\t47790000\\n468889\\t-0.1\\t8\\t400\\t133\\t46540000\\n468889\\t-0.1\\t8\\t400\\t100\\t49540000\\n468889\\t-0.05\\t8\\t400\\t200\\t47790000\\n468889\\t-0.05\\t8\\t400\\t133\\t46540000\\n468889\\t-0.05\\t8\\t400\\t100\\t49540000\\n468889\\t-0.01\\t8\\t400\\t200\\t47790000\\n468889\\t-0.01\\t8\\t400\\t133\\t46540000\\n468889\\t-0.01\\t8\\t400\\t100\\t49540000\\n468889\\t-0.5\\t8\\t200\\t100\\t48620000\\n468889\\t-0.5\\t8\\t200\\t66\\t52760000\\n468889\\t-0.5\\t8\\t200\\t50\\t52390000\\n468889\\t-0.1\\t8\\t200\\t100\\t48620000\\n468889\\t-0.1\\t8\\t200\\t66\\t52760000\\n468889\\t-0.1\\t8\\t200\\t50\\t52390000\\n468889\\t-0.05\\t8\\t200\\t100\\t48620000\\n468889\\t-0.05\\t8\\t200\\t66\\t52760000\\n468889\\t-0.05\\t8\\t200\\t50\\t52390000\\n468889\\t-0.01\\t8\\t200\\t100\\t48620000\\n468889\\t-0.01\\t8\\t200\\t66\\t52760000\\n468889\\t-0.01\\t8\\t200\\t50\\t52390000\\n468889\\t-0.5\\t8\\t100\\t50\\t51400000\\n468889\\t-0.5\\t8\\t100\\t33\\t52170000\\n468889\\t-0.5\\t8\\t100\\t25\\t51110000\\n468889\\t-0.1\\t8\\t100\\t50\\t51400000\\n468889\\t-0.1\\t8\\t100\\t33\\t52170000\\n468889\\t-0.1\\t8\\t100\\t25\\t51110000\\n468889\\t-0.05\\t8\\t100\\t50\\t51400000\\n468889\\t-0.05\\t8\\t100\\t33\\t52170000\\n468889\\t-0.05\\t8\\t100\\t25\\t51110000\\n468889\\t-0.01\\t8\\t100\\t50\\t51400000\\n468889\\t-0.01\\t8\\t100\\t33\\t52170000\\n468889\\t-0.01\\t8\\t100\\t25\\t51110000\\n468889\\t-0.5\\t8\\t50\\t25\\t51240000\\n468889\\t-0.5\\t8\\t50\\t16\\t53720000\\n468889\\t-0.5\\t8\\t50\\t12\\t52460000\\n468889\\t-0.1\\t8\\t50\\t25\\t51240000\\n468889\\t-0.1\\t8\\t50\\t16\\t53720000\\n468889\\t-0.1\\t8\\t50\\t12\\t52460000\\n468889\\t-0.05\\t8\\t50\\t25\\t51240000\\n468889\\t-0.05\\t8\\t50\\t16\\t53720000\\n468889\\t-0.05\\t8\\t50\\t12\\t52460000\\n468889\\t-0.01\\t8\\t50\\t25\\t51240000\\n468889\\t-0.01\\t8\\t50\\t16\\t53720000\\n468889\\t-0.01\\t8\\t50\\t12\\t52460000\\n468889\\t-0.5\\t8\\t20\\t10\\t51870000\\n468889\\t-0.5\\t8\\t20\\t6\\t51580000\\n468889\\t-0.5\\t8\\t20\\t5\\t51390000\\n468889\\t-0.1\\t8\\t20\\t10\\t51870000\\n468889\\t-0.1\\t8\\t20\\t6\\t51580000\\n468889\\t-0.1\\t8\\t20\\t5\\t51390000\\n468889\\t-0.05\\t8\\t20\\t10\\t51870000\\n468889\\t-0.05\\t8\\t20\\t6\\t51580000\\n468889\\t-0.05\\t8\\t20\\t5\\t51390000\\n468889\\t-0.01\\t8\\t20\\t10\\t51870000\\n468889\\t-0.01\\t8\\t20\\t6\\t51580000\\n468889\\t-0.01\\t8\\t20\\t5\\t51390000\\n468889\\t-0.5\\t8\\t10\\t5\\t50840000\\n468889\\t-0.5\\t8\\t10\\t3\\t54680000\\n468889\\t-0.5\\t8\\t10\\t2\\t53530000\\n468889\\t-0.1\\t8\\t10\\t5\\t50840000\\n468889\\t-0.1\\t8\\t10\\t3\\t54680000\\n468889\\t-0.1\\t8\\t10\\t2\\t53530000\\n468889\\t-0.05\\t8\\t10\\t5\\t50840000\\n468889\\t-0.05\\t8\\t10\\t3\\t54680000\\n468889\\t-0.05\\t8\\t10\\t2\\t53530000\\n468889\\t-0.01\\t8\\t10\\t5\\t50840000\\n468889\\t-0.01\\t8\\t10\\t3\\t54680000\\n468889\\t-0.01\\t8\\t10\\t2\\t53530000\\n'}"
            ]
          },
          "metadata": {},
          "execution_count": 2
        }
      ]
    },
    {
      "cell_type": "code",
      "source": [
        "\n",
        "library(data.table)\n",
        "\n",
        "# Leo el archivo que subi desde mi PC:\n",
        "tb_grid_search_detalle <- fread(\"/content/gridsearch_detalle (1).txt\", sep = \"\\t\")\n"
      ],
      "metadata": {
        "id": "WZaSqYBxiDFu"
      },
      "execution_count": null,
      "outputs": []
    },
    {
      "cell_type": "code",
      "source": [
        "\n",
        "library(data.table)\n",
        "\n",
        "tb_grid_search_detalle <- fread(\"/content/gridsearch_detalle (1).txt\", sep = \"\\t\")\n",
        "\n",
        "nrow(tb_grid_search_detalle)\n",
        "\n"
      ],
      "metadata": {
        "id": "k7fhk_H0iNez",
        "outputId": "0b0bb5f4-ab5d-4d67-a3ad-b850b154ad06",
        "colab": {
          "base_uri": "https://localhost:8080/",
          "height": 34
        }
      },
      "execution_count": null,
      "outputs": [
        {
          "output_type": "display_data",
          "data": {
            "text/html": [
              "324"
            ],
            "text/markdown": "324",
            "text/latex": "324",
            "text/plain": [
              "[1] 324"
            ]
          },
          "metadata": {}
        }
      ]
    },
    {
      "cell_type": "code",
      "source": [
        "# genero y grabo el resumen\n",
        "tb_grid_search <- tb_grid_search_detalle[,\n",
        "  list( \"ganancia_mean\" = mean(ganancia_test),\n",
        "    \"qty\" = .N ),\n",
        "  list( cp, maxdepth, minsplit, minbucket )\n",
        "]\n"
      ],
      "metadata": {
        "id": "DjCxtx8bIsgl"
      },
      "execution_count": null,
      "outputs": []
    },
    {
      "cell_type": "code",
      "source": [
        "# ordeno descendente por ganancia\n",
        "setorder( tb_grid_search, -ganancia_mean )\n"
      ],
      "metadata": {
        "id": "LU29UhL1Ivg5"
      },
      "execution_count": null,
      "outputs": []
    },
    {
      "cell_type": "code",
      "source": [
        "# veo los 10 mejores hiperparámetros\n",
        "tb_grid_search[1:10]"
      ],
      "metadata": {
        "id": "g-EjGY7aIyWL",
        "colab": {
          "base_uri": "https://localhost:8080/",
          "height": 412
        },
        "outputId": "d4a76a18-a2a9-450c-cc3d-214626f2fac5"
      },
      "execution_count": null,
      "outputs": [
        {
          "output_type": "display_data",
          "data": {
            "text/html": [
              "<table class=\"dataframe\">\n",
              "<caption>A data.table: 10 × 6</caption>\n",
              "<thead>\n",
              "\t<tr><th scope=col>cp</th><th scope=col>maxdepth</th><th scope=col>minsplit</th><th scope=col>minbucket</th><th scope=col>ganancia_mean</th><th scope=col>qty</th></tr>\n",
              "\t<tr><th scope=col>&lt;dbl&gt;</th><th scope=col>&lt;int&gt;</th><th scope=col>&lt;int&gt;</th><th scope=col>&lt;int&gt;</th><th scope=col>&lt;dbl&gt;</th><th scope=col>&lt;int&gt;</th></tr>\n",
              "</thead>\n",
              "<tbody>\n",
              "\t<tr><td>-0.50</td><td>6</td><td>50</td><td>12</td><td>55510000</td><td>1</td></tr>\n",
              "\t<tr><td>-0.10</td><td>6</td><td>50</td><td>12</td><td>55510000</td><td>1</td></tr>\n",
              "\t<tr><td>-0.05</td><td>6</td><td>50</td><td>12</td><td>55510000</td><td>1</td></tr>\n",
              "\t<tr><td>-0.01</td><td>6</td><td>50</td><td>12</td><td>55510000</td><td>1</td></tr>\n",
              "\t<tr><td>-0.50</td><td>6</td><td>50</td><td>16</td><td>55500000</td><td>1</td></tr>\n",
              "\t<tr><td>-0.10</td><td>6</td><td>50</td><td>16</td><td>55500000</td><td>1</td></tr>\n",
              "\t<tr><td>-0.05</td><td>6</td><td>50</td><td>16</td><td>55500000</td><td>1</td></tr>\n",
              "\t<tr><td>-0.01</td><td>6</td><td>50</td><td>16</td><td>55500000</td><td>1</td></tr>\n",
              "\t<tr><td>-0.50</td><td>6</td><td>20</td><td>10</td><td>55220000</td><td>1</td></tr>\n",
              "\t<tr><td>-0.10</td><td>6</td><td>20</td><td>10</td><td>55220000</td><td>1</td></tr>\n",
              "</tbody>\n",
              "</table>\n"
            ],
            "text/markdown": "\nA data.table: 10 × 6\n\n| cp &lt;dbl&gt; | maxdepth &lt;int&gt; | minsplit &lt;int&gt; | minbucket &lt;int&gt; | ganancia_mean &lt;dbl&gt; | qty &lt;int&gt; |\n|---|---|---|---|---|---|\n| -0.50 | 6 | 50 | 12 | 55510000 | 1 |\n| -0.10 | 6 | 50 | 12 | 55510000 | 1 |\n| -0.05 | 6 | 50 | 12 | 55510000 | 1 |\n| -0.01 | 6 | 50 | 12 | 55510000 | 1 |\n| -0.50 | 6 | 50 | 16 | 55500000 | 1 |\n| -0.10 | 6 | 50 | 16 | 55500000 | 1 |\n| -0.05 | 6 | 50 | 16 | 55500000 | 1 |\n| -0.01 | 6 | 50 | 16 | 55500000 | 1 |\n| -0.50 | 6 | 20 | 10 | 55220000 | 1 |\n| -0.10 | 6 | 20 | 10 | 55220000 | 1 |\n\n",
            "text/latex": "A data.table: 10 × 6\n\\begin{tabular}{llllll}\n cp & maxdepth & minsplit & minbucket & ganancia\\_mean & qty\\\\\n <dbl> & <int> & <int> & <int> & <dbl> & <int>\\\\\n\\hline\n\t -0.50 & 6 & 50 & 12 & 55510000 & 1\\\\\n\t -0.10 & 6 & 50 & 12 & 55510000 & 1\\\\\n\t -0.05 & 6 & 50 & 12 & 55510000 & 1\\\\\n\t -0.01 & 6 & 50 & 12 & 55510000 & 1\\\\\n\t -0.50 & 6 & 50 & 16 & 55500000 & 1\\\\\n\t -0.10 & 6 & 50 & 16 & 55500000 & 1\\\\\n\t -0.05 & 6 & 50 & 16 & 55500000 & 1\\\\\n\t -0.01 & 6 & 50 & 16 & 55500000 & 1\\\\\n\t -0.50 & 6 & 20 & 10 & 55220000 & 1\\\\\n\t -0.10 & 6 & 20 & 10 & 55220000 & 1\\\\\n\\end{tabular}\n",
            "text/plain": [
              "   cp    maxdepth minsplit minbucket ganancia_mean qty\n",
              "1  -0.50 6        50       12        55510000      1  \n",
              "2  -0.10 6        50       12        55510000      1  \n",
              "3  -0.05 6        50       12        55510000      1  \n",
              "4  -0.01 6        50       12        55510000      1  \n",
              "5  -0.50 6        50       16        55500000      1  \n",
              "6  -0.10 6        50       16        55500000      1  \n",
              "7  -0.05 6        50       16        55500000      1  \n",
              "8  -0.01 6        50       16        55500000      1  \n",
              "9  -0.50 6        20       10        55220000      1  \n",
              "10 -0.10 6        20       10        55220000      1  "
            ]
          },
          "metadata": {}
        }
      ]
    },
    {
      "cell_type": "code",
      "source": [
        "# genero un id a la tabla\n",
        "tb_grid_search[, id := .I ]\n",
        "\n",
        "fwrite( tb_grid_search,\n",
        "  file = \"gridsearch.txt\",\n",
        "  sep = \"\\t\"\n",
        ")\n"
      ],
      "metadata": {
        "id": "K3S-I2PTI5ZE"
      },
      "execution_count": null,
      "outputs": []
    },
    {
      "cell_type": "code",
      "source": [
        "\n",
        "tb_grid_search[order(ganancia_mean)][1:10]\n"
      ],
      "metadata": {
        "colab": {
          "base_uri": "https://localhost:8080/",
          "height": 412
        },
        "id": "HToUJBUW5Rpu",
        "outputId": "a4995858-8fc2-4daa-9bf7-72936d96d413"
      },
      "execution_count": null,
      "outputs": [
        {
          "output_type": "display_data",
          "data": {
            "text/html": [
              "<table class=\"dataframe\">\n",
              "<caption>A data.table: 10 × 7</caption>\n",
              "<thead>\n",
              "\t<tr><th scope=col>cp</th><th scope=col>maxdepth</th><th scope=col>minsplit</th><th scope=col>minbucket</th><th scope=col>ganancia_mean</th><th scope=col>qty</th><th scope=col>id</th></tr>\n",
              "\t<tr><th scope=col>&lt;dbl&gt;</th><th scope=col>&lt;int&gt;</th><th scope=col>&lt;int&gt;</th><th scope=col>&lt;int&gt;</th><th scope=col>&lt;dbl&gt;</th><th scope=col>&lt;int&gt;</th><th scope=col>&lt;int&gt;</th></tr>\n",
              "</thead>\n",
              "<tbody>\n",
              "\t<tr><td>-0.50</td><td>8</td><td>400</td><td>133</td><td>46540000</td><td>1</td><td>321</td></tr>\n",
              "\t<tr><td>-0.10</td><td>8</td><td>400</td><td>133</td><td>46540000</td><td>1</td><td>322</td></tr>\n",
              "\t<tr><td>-0.05</td><td>8</td><td>400</td><td>133</td><td>46540000</td><td>1</td><td>323</td></tr>\n",
              "\t<tr><td>-0.01</td><td>8</td><td>400</td><td>133</td><td>46540000</td><td>1</td><td>324</td></tr>\n",
              "\t<tr><td>-0.50</td><td>8</td><td>400</td><td>200</td><td>47790000</td><td>1</td><td>317</td></tr>\n",
              "\t<tr><td>-0.10</td><td>8</td><td>400</td><td>200</td><td>47790000</td><td>1</td><td>318</td></tr>\n",
              "\t<tr><td>-0.05</td><td>8</td><td>400</td><td>200</td><td>47790000</td><td>1</td><td>319</td></tr>\n",
              "\t<tr><td>-0.01</td><td>8</td><td>400</td><td>200</td><td>47790000</td><td>1</td><td>320</td></tr>\n",
              "\t<tr><td>-0.50</td><td>8</td><td>200</td><td>100</td><td>48620000</td><td>1</td><td>313</td></tr>\n",
              "\t<tr><td>-0.10</td><td>8</td><td>200</td><td>100</td><td>48620000</td><td>1</td><td>314</td></tr>\n",
              "</tbody>\n",
              "</table>\n"
            ],
            "text/markdown": "\nA data.table: 10 × 7\n\n| cp &lt;dbl&gt; | maxdepth &lt;int&gt; | minsplit &lt;int&gt; | minbucket &lt;int&gt; | ganancia_mean &lt;dbl&gt; | qty &lt;int&gt; | id &lt;int&gt; |\n|---|---|---|---|---|---|---|\n| -0.50 | 8 | 400 | 133 | 46540000 | 1 | 321 |\n| -0.10 | 8 | 400 | 133 | 46540000 | 1 | 322 |\n| -0.05 | 8 | 400 | 133 | 46540000 | 1 | 323 |\n| -0.01 | 8 | 400 | 133 | 46540000 | 1 | 324 |\n| -0.50 | 8 | 400 | 200 | 47790000 | 1 | 317 |\n| -0.10 | 8 | 400 | 200 | 47790000 | 1 | 318 |\n| -0.05 | 8 | 400 | 200 | 47790000 | 1 | 319 |\n| -0.01 | 8 | 400 | 200 | 47790000 | 1 | 320 |\n| -0.50 | 8 | 200 | 100 | 48620000 | 1 | 313 |\n| -0.10 | 8 | 200 | 100 | 48620000 | 1 | 314 |\n\n",
            "text/latex": "A data.table: 10 × 7\n\\begin{tabular}{lllllll}\n cp & maxdepth & minsplit & minbucket & ganancia\\_mean & qty & id\\\\\n <dbl> & <int> & <int> & <int> & <dbl> & <int> & <int>\\\\\n\\hline\n\t -0.50 & 8 & 400 & 133 & 46540000 & 1 & 321\\\\\n\t -0.10 & 8 & 400 & 133 & 46540000 & 1 & 322\\\\\n\t -0.05 & 8 & 400 & 133 & 46540000 & 1 & 323\\\\\n\t -0.01 & 8 & 400 & 133 & 46540000 & 1 & 324\\\\\n\t -0.50 & 8 & 400 & 200 & 47790000 & 1 & 317\\\\\n\t -0.10 & 8 & 400 & 200 & 47790000 & 1 & 318\\\\\n\t -0.05 & 8 & 400 & 200 & 47790000 & 1 & 319\\\\\n\t -0.01 & 8 & 400 & 200 & 47790000 & 1 & 320\\\\\n\t -0.50 & 8 & 200 & 100 & 48620000 & 1 & 313\\\\\n\t -0.10 & 8 & 200 & 100 & 48620000 & 1 & 314\\\\\n\\end{tabular}\n",
            "text/plain": [
              "   cp    maxdepth minsplit minbucket ganancia_mean qty id \n",
              "1  -0.50 8        400      133       46540000      1   321\n",
              "2  -0.10 8        400      133       46540000      1   322\n",
              "3  -0.05 8        400      133       46540000      1   323\n",
              "4  -0.01 8        400      133       46540000      1   324\n",
              "5  -0.50 8        400      200       47790000      1   317\n",
              "6  -0.10 8        400      200       47790000      1   318\n",
              "7  -0.05 8        400      200       47790000      1   319\n",
              "8  -0.01 8        400      200       47790000      1   320\n",
              "9  -0.50 8        200      100       48620000      1   313\n",
              "10 -0.10 8        200      100       48620000      1   314"
            ]
          },
          "metadata": {}
        }
      ]
    },
    {
      "cell_type": "code",
      "source": [
        "\n",
        "library(data.table)\n",
        "tb_grid_search <- fread(\"/content/gridsearch.txt\", sep = \"\\t\")\n",
        "tb_grid_search[order(-ganancia_mean)][1:10]  # ver top 10\n"
      ],
      "metadata": {
        "id": "oF-EwAKW7N1p"
      },
      "execution_count": null,
      "outputs": []
    },
    {
      "cell_type": "markdown",
      "source": [
        "# 4.  Análisis de resultados de Grid Search"
      ],
      "metadata": {
        "id": "1rYHk1YkI_9k"
      }
    },
    {
      "cell_type": "markdown",
      "source": [
        "La salida de la corrida anterior queda en ~/buckets/b1/exp/HT2900  que corresponde a su Google Drive\n",
        "<br>HT significa Hyperparameter Tuning\n",
        "<br>El Grid Search es un método de fuerza bruta de un altísimo costo computacional.\n",
        "<br>Queremos ver si es posible crear un algoritmo de optimización de hiperparámetros que se ahorre recorrer ciertas porciones muy malas del espacio de búsqueda. Algo del estilo “cada vez que pruebo una combinación de hiperparámetros donde  cp > 1 , la ganancia es muy mala, con lo cual ni vale la pena perder el tiempo explorando en esa region”\n"
      ],
      "metadata": {
        "id": "ZTJgPhMWJHTk"
      }
    },
    {
      "cell_type": "markdown",
      "source": [
        "<br>Levante el archivo de salida gridsearch.txt  a una planilla tipo Excel y analícelo detenidamente\n",
        "<br>Ordene por ganancia_mean descendente\n",
        "<br>\n",
        "<br>El de mayor ganancia_mean  decimos que es el primero del ranking\n",
        "En el channel  #Labo1R-Tarea Hogar 02 , topic Analisis Grid Search   intente contestar estas preguntas:\n",
        "\n",
        "* ¿Qué combinaciones de hiperparámetros poseen una ganancia muy buena?\n",
        "* ¿Hay algun hiperparámetro que para cierto valor siempre genera una ganancia muy mala, a independientemente de lo que valgan los otros hiperparámetros ?\n",
        "* ¿Que combinaciones de hiperparámetros es pésima y hubiera sido bueno ahorrarse esas corridas ?\n",
        "\n",
        "( tiempo estimado 30 minutos, dificultad media )"
      ],
      "metadata": {
        "id": "IaVgMu4tPwyB"
      }
    }
  ]
}