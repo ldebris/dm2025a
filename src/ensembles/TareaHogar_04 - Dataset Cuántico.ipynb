{
  "cells": [
    {
      "cell_type": "markdown",
      "metadata": {
        "colab_type": "text",
        "id": "view-in-github"
      },
      "source": [
        "<a href=\"https://colab.research.google.com/github/ldebris/dm2025a/blob/main/src/ensembles/494_TareaHogar_04%20-%20p3.ipynb\" target=\"_parent\"><img src=\"https://colab.research.google.com/assets/colab-badge.svg\" alt=\"Open In Colab\"/></a>"
      ]
    },
    {
      "cell_type": "markdown",
      "metadata": {
        "id": "0cEmzeUKFkPh"
      },
      "source": [
        "# Tarea para el Hogar 04"
      ]
    },
    {
      "cell_type": "markdown",
      "metadata": {
        "id": "nSICPpyTGQmC"
      },
      "source": [
        "Esta Tarea para el Hogar 02 se entrega el final de la cuarta clase\n",
        "<br> se espera de usted que intente avanzar con los desafios propuestos y que los traiga terminados para la Clase 05 que será el viernes 01-agosto"
      ]
    },
    {
      "cell_type": "markdown",
      "metadata": {
        "id": "DenyKXkiJ5JN"
      },
      "source": [
        "##  1. Cazatalentos"
      ]
    },
    {
      "cell_type": "markdown",
      "metadata": {
        "id": "l-K2_ZsZGrVD"
      },
      "source": [
        "En la Clase 03 nos hemos enfrentado a  \"La Maldicion del Ganandor\",  elegir el modelo con el mejor puntaje simple no suele ser la mejor estrategia.\n",
        "<br> Lea y ejecute el notebook  **src/CazaTalentos/CazaTalentos.ipynb**\n",
        "<br> en caso de interesarle, participe del Desafío Ordenamiento  que vence el sábado 02 de agosto a las 19:00"
      ]
    },
    {
      "cell_type": "markdown",
      "metadata": {
        "id": "K9GkTOk5J9t3"
      },
      "source": [
        "## 2. Hiperparámetros del LightGBM"
      ]
    },
    {
      "cell_type": "markdown",
      "metadata": {
        "id": "VmEFy0ukKL5T"
      },
      "source": [
        "Los objetivos de esta tarea son:\n",
        "\n",
        "\n",
        "*   Aumentar la rentabilidad de la campaña de marketing de retención proactiva de clientes.\n",
        "*   Generar un mejor modelo optimizando sus hiperparámetros\n",
        "*   Conceptual : investigar los mas relevantes hiperparámetros de LightGBM\n",
        "*   Familiarizarse con la Bayesian Optimization, sus largos tiempos de corrida y opciones para reducirlos\n",
        "*   Familiarizarse con el uso de máquinas virtuales de Google Colab\n",
        "*   Ver un pipeline completo de optimización de hiperparámetros y puesta en producción"
      ]
    },
    {
      "cell_type": "markdown",
      "metadata": {
        "id": "5yvlS6JQLRMd"
      },
      "source": [
        "LightGBM cuenta con mas de 60 hiperparámetros, siendo posible utilizar 40 al mismo tiempo, aunque no razonable.\n",
        "<br> La documentación oficial de los hiperparámetros de LightGBM es  https://lightgbm.readthedocs.io/en/latest/Parameters.html#core-parameters\n"
      ]
    },
    {
      "cell_type": "markdown",
      "metadata": {
        "id": "eydI4YNAsFaf"
      },
      "source": [
        "Se lo alerta sobre que una Optimizacion Bayesiana lleva varias horas de corrida, y usted deberá correr VARIAS optimizaciones para descubrir cuales parámetros conviene optimizar.\n",
        "<br> A pesar que la próxima clase es recien en viernes 01 de agosto, inicie la tarea con tiempo, aprenda a planificar estratégicamente sus corridas como un@ científ@  de datos."
      ]
    },
    {
      "cell_type": "markdown",
      "metadata": {
        "id": "RzU4S0SeMcpp"
      },
      "source": [
        "Es necesario investigar cuales son los hiperparámetros de LightGBM que vale la pena optimizar en una Bayesian Optimization, ya que los realmente utiles son apenas un reducido subconjunto.\n",
        "<br>Usted deberá investigar cuales son los hiperparámetros mas relevantes de LightGBM, su primer alternativa es preguntándole a su amigo con capacidades especiales ChatGPT o sus endogámicos familiares Claude, DeepSeek, Gemini, Grok, etc\n",
        "<br> La segunda alternativa es la propia documentación de LightGBM  https://lightgbm.readthedocs.io/en/latest/Parameters-Tuning.html\n"
      ]
    },
    {
      "cell_type": "markdown",
      "metadata": {
        "id": "LNptUgI_NWWG"
      },
      "source": [
        "Adicionalmente podra buscar información como la que proveen esta diminuta muestra aleatoria de artículos ligeros:\n",
        "*  https://medium.com/@sarahzouinina/a-deep-dive-into-lightgbm-how-to-choose-and-tune-parameters-7c584945842e\n",
        "*  https://www.kaggle.com/code/somang1418/tuning-hyperparameters-under-10-minutes-lgbm\n",
        "*  https://towardsdatascience.com/beginners-guide-to-the-must-know-lightgbm-hyperparameters-a0005a812702/\n",
        "\n",
        "\n",
        "<br>  La muestra anterior se brinda a modo de ejemplo, usted deberá buscar muuuuchas  fuentes adicionales de información\n",
        "<br> Tenga presente que LightGBM es el estado del arte en modelado predictivo para datasets estructurado, que son el 90% del trabajo del 95% de los Data Scientists en Argentina."
      ]
    },
    {
      "cell_type": "markdown",
      "metadata": {
        "id": "WpUThBojODyK"
      },
      "source": [
        "El desafío de esta tarea es:\n",
        "* Qué hiperparparámetros conviene optimizar?  Las recomendaciones de los artículos ligeros es siempre sensata?  Sus autores realmente hicieron experimentos o son siemplemente escritores de entretenimiento carente de base científica?\n",
        "* Elegidos los hiperparámetros, cual es el  <desde, hasta> que se debe utilizar en la Bayesian Optimization ?\n",
        "* Realmente vale la pena optimizar 10 o 16 hiperparámetros al mismo tiempo ?  No resulta contraproducente una búsqueda en un espacio de tal alta dimensionalidad ?"
      ]
    },
    {
      "cell_type": "markdown",
      "metadata": {
        "id": "PX0qg_c0yqob"
      },
      "source": [
        "#### 2.1  Seteo del ambiente en Google Colab"
      ]
    },
    {
      "cell_type": "markdown",
      "metadata": {
        "id": "NGY7H9xza7Zr"
      },
      "source": [
        "Esta parte se debe correr con el runtime en Python3\n",
        "<br>Ir al menu, Runtime -> Change Runtime Type -> Runtime type ->  **Python 3**"
      ]
    },
    {
      "cell_type": "markdown",
      "metadata": {
        "id": "7PupIBNba7Zr"
      },
      "source": [
        "Conectar la virtual machine donde esta corriendo Google Colab con el  Google Drive, para poder tener persistencia de archivos"
      ]
    },
    {
      "cell_type": "code",
      "execution_count": 1,
      "metadata": {
        "colab": {
          "base_uri": "https://localhost:8080/"
        },
        "id": "9LpZCst5a7Zs",
        "outputId": "d500808e-50b7-4d9c-f38d-c4820304e6f2",
        "vscode": {
          "languageId": "r"
        }
      },
      "outputs": [
        {
          "name": "stdout",
          "output_type": "stream",
          "text": [
            "Mounted at /content/.drive\n"
          ]
        }
      ],
      "source": [
        "# primero establecer el Runtime de Python 3\n",
        "from google.colab import drive\n",
        "drive.mount('/content/.drive')"
      ]
    },
    {
      "cell_type": "markdown",
      "metadata": {
        "id": "JYC_F-wla7Zs"
      },
      "source": [
        "Para correr la siguiente celda es fundamental en Arranque en Frio haber copiado el archivo kaggle.json al Google Drive, en la carpeta indicada en el instructivo\n",
        "\n",
        "<br>los siguientes comando estan en shell script de Linux\n",
        "*   Crear las carpetas en el Google Drive\n",
        "*   \"instalar\" el archivo kaggle.json desde el Google Drive a la virtual machine para que pueda ser utilizado por la libreria  kaggle de Python\n",
        "*   Bajar el  **dataset_pequeno**  al  Google Drive  y tambien al disco local de la virtual machine que esta corriendo Google Colab\n",
        "\n"
      ]
    },
    {
      "cell_type": "code",
      "execution_count": 2,
      "metadata": {
        "colab": {
          "base_uri": "https://localhost:8080/"
        },
        "id": "XWLelftXa7Zt",
        "outputId": "3810f2b9-2809-4aab-c398-256645526c72",
        "vscode": {
          "languageId": "r"
        }
      },
      "outputs": [
        {
          "data": {
            "text/plain": []
          },
          "execution_count": 2,
          "metadata": {},
          "output_type": "execute_result"
        }
      ],
      "source": [
        "%%shell\n",
        "\n",
        "mkdir -p \"/content/.drive/My Drive/dm\"\n",
        "mkdir -p \"/content/buckets\"\n",
        "ln -s \"/content/.drive/My Drive/dm\" /content/buckets/b1\n",
        "\n",
        "mkdir -p ~/.kaggle\n",
        "cp /content/buckets/b1/kaggle/kaggle.json  ~/.kaggle\n",
        "chmod 600 ~/.kaggle/kaggle.json\n",
        "\n",
        "\n",
        "mkdir -p /content/buckets/b1/exp\n",
        "mkdir -p /content/buckets/b1/datasets\n",
        "mkdir -p /content/datasets\n",
        "\n",
        "\n",
        "\n",
        "archivo_origen=\"https://storage.googleapis.com/open-courses/itba2025-8d0a/dataset_pequeno.csv\"\n",
        "archivo_destino=\"/content/datasets/dataset_pequeno.csv\"\n",
        "archivo_destino_bucket=\"/content/buckets/b1/datasets/dataset_pequeno.csv\"\n",
        "\n",
        "if ! test -f $archivo_destino_bucket; then\n",
        "  wget  $archivo_origen  -O $archivo_destino_bucket\n",
        "fi\n",
        "\n",
        "\n",
        "if ! test -f $archivo_destino; then\n",
        "  cp  $archivo_destino_bucket  $archivo_destino\n",
        "fi\n"
      ]
    },
    {
      "cell_type": "markdown",
      "metadata": {
        "id": "oSKhZRToy2F7"
      },
      "source": [
        "### 2.2 Optimizacion Hiperparámetros"
      ]
    },
    {
      "cell_type": "markdown",
      "metadata": {
        "id": "2kwPpHAtSmix"
      },
      "source": [
        "Esta parte se debe correr con el runtime en lenguaje R Ir al menu, Runtime -> Change Runtime Type -> Runtime type -> R"
      ]
    },
    {
      "cell_type": "markdown",
      "metadata": {
        "id": "xp4-Bj3aYI8d"
      },
      "source": [
        "### 2.2.1 Inicio"
      ]
    },
    {
      "cell_type": "markdown",
      "metadata": {
        "id": "zy8YTZfESxeJ"
      },
      "source": [
        "limpio el ambiente de R"
      ]
    },
    {
      "cell_type": "code",
      "execution_count": 9,
      "metadata": {
        "colab": {
          "base_uri": "https://localhost:8080/",
          "height": 34
        },
        "id": "gBq__iAdQliq",
        "outputId": "44a02fcf-cc63-4969-b268-a4c71edf05f0",
        "vscode": {
          "languageId": "r"
        }
      },
      "outputs": [
        {
          "data": {
            "text/html": [
              "'Sun Aug 03 1:06:22 PM 2025'"
            ],
            "text/latex": [
              "'Sun Aug 03 1:06:22 PM 2025'"
            ],
            "text/markdown": [
              "'Sun Aug 03 1:06:22 PM 2025'"
            ],
            "text/plain": [
              "[1] \"Sun Aug 03 1:06:22 PM 2025\""
            ]
          },
          "metadata": {},
          "output_type": "display_data"
        }
      ],
      "source": [
        "format(Sys.time(), \"%a %b %d %X %Y\")"
      ]
    },
    {
      "cell_type": "code",
      "execution_count": 10,
      "metadata": {
        "colab": {
          "base_uri": "https://localhost:8080/",
          "height": 129
        },
        "id": "7rdVrBojS1IV",
        "outputId": "47eed01b-861c-485a-89b0-fa8d91b5c871",
        "vscode": {
          "languageId": "r"
        }
      },
      "outputs": [
        {
          "data": {
            "text/html": [
              "<table class=\"dataframe\">\n",
              "<caption>A matrix: 2 × 6 of type dbl</caption>\n",
              "<thead>\n",
              "\t<tr><th></th><th scope=col>used</th><th scope=col>(Mb)</th><th scope=col>gc trigger</th><th scope=col>(Mb)</th><th scope=col>max used</th><th scope=col>(Mb)</th></tr>\n",
              "</thead>\n",
              "<tbody>\n",
              "\t<tr><th scope=row>Ncells</th><td>2210564</td><td>118.1</td><td>4368737</td><td>233.4</td><td>2995530</td><td>160.0</td></tr>\n",
              "\t<tr><th scope=row>Vcells</th><td>3884332</td><td> 29.7</td><td>8388608</td><td> 64.0</td><td>5554314</td><td> 42.4</td></tr>\n",
              "</tbody>\n",
              "</table>\n"
            ],
            "text/latex": [
              "A matrix: 2 × 6 of type dbl\n",
              "\\begin{tabular}{r|llllll}\n",
              "  & used & (Mb) & gc trigger & (Mb) & max used & (Mb)\\\\\n",
              "\\hline\n",
              "\tNcells & 2210564 & 118.1 & 4368737 & 233.4 & 2995530 & 160.0\\\\\n",
              "\tVcells & 3884332 &  29.7 & 8388608 &  64.0 & 5554314 &  42.4\\\\\n",
              "\\end{tabular}\n"
            ],
            "text/markdown": [
              "\n",
              "A matrix: 2 × 6 of type dbl\n",
              "\n",
              "| <!--/--> | used | (Mb) | gc trigger | (Mb) | max used | (Mb) |\n",
              "|---|---|---|---|---|---|---|\n",
              "| Ncells | 2210564 | 118.1 | 4368737 | 233.4 | 2995530 | 160.0 |\n",
              "| Vcells | 3884332 |  29.7 | 8388608 |  64.0 | 5554314 |  42.4 |\n",
              "\n"
            ],
            "text/plain": [
              "       used    (Mb)  gc trigger (Mb)  max used (Mb) \n",
              "Ncells 2210564 118.1 4368737    233.4 2995530  160.0\n",
              "Vcells 3884332  29.7 8388608     64.0 5554314   42.4"
            ]
          },
          "metadata": {},
          "output_type": "display_data"
        }
      ],
      "source": [
        "# limpio la memoria\n",
        "rm(list=ls(all.names=TRUE)) # remove all objects\n",
        "gc(full=TRUE, verbose=FALSE) # garbage collection"
      ]
    },
    {
      "cell_type": "markdown",
      "metadata": {
        "id": "kuPfQ7ksjwW3"
      },
      "source": [
        "### 2.2.2 Carga de Librerias"
      ]
    },
    {
      "cell_type": "code",
      "execution_count": 12,
      "metadata": {
        "colab": {
          "base_uri": "https://localhost:8080/"
        },
        "id": "lVyxLaJ1j1J_",
        "outputId": "bbfa32b7-bf73-405f-f9d6-7cfbf4e5abb4",
        "vscode": {
          "languageId": "r"
        }
      },
      "outputs": [],
      "source": [
        "# cargo las librerias que necesito\n",
        "require(\"data.table\")\n",
        "require(\"parallel\")\n",
        "\n",
        "if( !require(\"primes\") ) install.packages(\"primes\")\n",
        "require(\"primes\")\n",
        "\n",
        "if( !require(\"utils\") ) install.packages(\"utils\")\n",
        "require(\"utils\")\n",
        "\n",
        "if( !require(\"rlist\") ) install.packages(\"rlist\")\n",
        "require(\"rlist\")\n",
        "\n",
        "if( !require(\"yaml\")) install.packages(\"yaml\")\n",
        "require(\"yaml\")\n",
        "\n",
        "if( !require(\"lightgbm\") ) install.packages(\"lightgbm\")\n",
        "require(\"lightgbm\")\n",
        "\n",
        "if( !require(\"DiceKriging\") ) install.packages(\"DiceKriging\")\n",
        "require(\"DiceKriging\")\n",
        "\n",
        "if( !require(\"mlrMBO\") ) install.packages(\"mlrMBO\")\n",
        "require(\"mlrMBO\")"
      ]
    },
    {
      "cell_type": "markdown",
      "metadata": {
        "id": "Iz-6Qt6BUaA3"
      },
      "source": [
        "### 2.2.3 Definicion de Parametros"
      ]
    },
    {
      "cell_type": "markdown",
      "metadata": {
        "id": "cOdlKd7lUm2I"
      },
      "source": [
        "aqui debe cargar SU semilla primigenia\n",
        "<br>recuerde cambiar el numero de experimento en cada corrida nueva"
      ]
    },
    {
      "cell_type": "code",
      "execution_count": 13,
      "metadata": {
        "id": "ASYkebOu2mF6",
        "vscode": {
          "languageId": "r"
        }
      },
      "outputs": [],
      "source": [
        "PARAM <- list()\n",
        "PARAM$experimento <- 4940\n",
        "PARAM$semilla_primigenia <- 100151\n"
      ]
    },
    {
      "cell_type": "code",
      "execution_count": 14,
      "metadata": {
        "id": "ezOhQdbA293o",
        "vscode": {
          "languageId": "r"
        }
      },
      "outputs": [],
      "source": [
        "PARAM$kaggle$competencia <- \"data-mining-analista-sr-2025-a\"\n",
        "PARAM$kaggle$cortes <- seq(10000, 12000, by= 500)"
      ]
    },
    {
      "cell_type": "code",
      "execution_count": 15,
      "metadata": {
        "id": "jtB0Lub42rHO",
        "vscode": {
          "languageId": "r"
        }
      },
      "outputs": [],
      "source": [
        "# un undersampling de 0.1  toma solo el 10% de los CONTINUA\n",
        "# undersampling de 1.0  implica tomar TODOS los datos\n",
        "\n",
        "PARAM$trainingstrategy$undersampling <- 0.5"
      ]
    },
    {
      "cell_type": "code",
      "execution_count": 16,
      "metadata": {
        "id": "OFxm-xiNUOJX",
        "vscode": {
          "languageId": "r"
        }
      },
      "outputs": [],
      "source": [
        "# Parametros LightGBM\n",
        "\n",
        "PARAM$hyperparametertuning$xval_folds <- 5\n",
        "\n",
        "# parametros fijos del LightGBM que se pisaran con la parte variable de la BO\n",
        "PARAM$lgbm$param_fijos <-  list(\n",
        "  boosting= \"gbdt\", # puede ir  dart  , ni pruebe random_forest\n",
        "  objective= \"binary\",\n",
        "  metric= \"auc\",\n",
        "  first_metric_only= FALSE,\n",
        "  boost_from_average= TRUE,\n",
        "  feature_pre_filter= FALSE,\n",
        "  force_row_wise= TRUE, # para reducir warnings\n",
        "  verbosity= -100,\n",
        "\n",
        "  seed= PARAM$semilla_primigenia,\n",
        "\n",
        "  max_depth= 10L, # -1 significa no limitar,  por ahora lo dejo fijo\n",
        "  min_gain_to_split= 0.166162, # min_gain_to_split >= 0\n",
        "  min_sum_hessian_in_leaf= 0.001, #  min_sum_hessian_in_leaf >= 0.0\n",
        "  lambda_l1= 3.865, # lambda_l1 >= 0.0\n",
        "  lambda_l2= 4.086, # lambda_l2 >= 0.0\n",
        "  max_bin= 31L, # lo debo dejar fijo, no participa de la BO\n",
        "\n",
        "  bagging_fraction= 0.9239, # 0.0 < bagging_fraction <= 1.0\n",
        "  pos_bagging_fraction= 1.0, # 0.0 < pos_bagging_fraction <= 1.0\n",
        "  neg_bagging_fraction= 1.0, # 0.0 < neg_bagging_fraction <= 1.0\n",
        "  is_unbalance= FALSE, #\n",
        "  scale_pos_weight= 1.0, # scale_pos_weight > 0.0\n",
        "\n",
        "  drop_rate= 0.1, # 0.0 < neg_bagging_fraction <= 1.0\n",
        "  max_drop= 50, # <=0 means no limit\n",
        "  skip_drop= 0.5, # 0.0 <= skip_drop <= 1.0\n",
        "\n",
        "  extra_trees= FALSE,\n",
        "\n",
        "  num_iterations= 1000,\n",
        "  learning_rate= 0.010564,\n",
        "  feature_fraction= 0.4896,\n",
        "  num_leaves= 140,\n",
        "  min_data_in_leaf= 60\n",
        ")\n"
      ]
    },
    {
      "cell_type": "markdown",
      "metadata": {
        "id": "D5Yj-JV4yvOt"
      },
      "source": [
        "Aqui se definen los hiperparámetros de LightGBM que participan de la Bayesian Optimization\n",
        "<br> si es un numero entero debe ir  makeIntegerParam\n",
        "<br> si es un numero real (con decimales) debe ir  makeNumericParam\n",
        "<br> es muy importante leer cuales son un lower y upper  permitidos y ademas razonables"
      ]
    },
    {
      "cell_type": "code",
      "execution_count": 17,
      "metadata": {
        "id": "jENpR26ZyuS8",
        "vscode": {
          "languageId": "r"
        }
      },
      "outputs": [],
      "source": [
        "# Aqui se cargan los bordes de los hiperparametros de la BO\n",
        "PARAM$hypeparametertuning$hs <- makeParamSet(\n",
        "  makeIntegerParam(\"num_iterations\", lower= 200L, upper= 2000L),\n",
        "  makeNumericParam(\"learning_rate\", lower= 0.005, upper= 0.05),\n",
        "  makeNumericParam(\"feature_fraction\", lower= 0.6, upper= 0.95),\n",
        "  makeIntegerParam(\"num_leaves\", lower= 8L, upper= 512L),\n",
        "  makeIntegerParam(\"min_data_in_leaf\", lower= 50L, upper= 1000L)\n",
        ")"
      ]
    },
    {
      "cell_type": "markdown",
      "metadata": {
        "id": "-_RPFUb3zMoW"
      },
      "source": [
        "A mayor cantidad de hiperparámetros, se debe aumentar las iteraciones de la Bayesian Optimization\n",
        "<br> 30 es un valor muy tacaño, pero corre rápido\n",
        "<br> deberia partir de 50, alcanzando los 100 si se dispone de tiempo"
      ]
    },
    {
      "cell_type": "code",
      "execution_count": 18,
      "metadata": {
        "id": "q5Rd3pnbzSiG",
        "vscode": {
          "languageId": "r"
        }
      },
      "outputs": [],
      "source": [
        "PARAM$hyperparametertuning$iteraciones <- 60 # iteraciones bayesianas"
      ]
    },
    {
      "cell_type": "markdown",
      "metadata": {
        "id": "4RWZXL1VZjMI"
      },
      "source": [
        "### 2.2.4  Preprocesamiento"
      ]
    },
    {
      "cell_type": "code",
      "execution_count": 19,
      "metadata": {
        "id": "j3toG9-lZm4K",
        "vscode": {
          "languageId": "r"
        }
      },
      "outputs": [],
      "source": [
        "# Ruta base donde querés guardar los experimentos\n",
        "base_path <- \"C:/Users/Luis/Documents/dm2025a-4\"\n",
        "\n",
        "# Crear carpeta del experimento\n",
        "experimento_folder <- paste0(\"HT\", PARAM$experimento)\n",
        "experimento_path <- file.path(base_path, experimento_folder)\n",
        "\n",
        "# Crear las carpetas si no existen\n",
        "dir.create(experimento_path, showWarnings = FALSE, recursive = TRUE)\n",
        "\n",
        "# Cambiar al directorio del experimento\n",
        "setwd(experimento_path)\n"
      ]
    },
    {
      "cell_type": "code",
      "execution_count": 20,
      "metadata": {
        "id": "FM3lxKoLZ643",
        "vscode": {
          "languageId": "r"
        }
      },
      "outputs": [],
      "source": [
        "library(data.table)\n",
        "\n",
        "# Ruta correcta en tu PC\n",
        "dataset <- fread(\"C:/Users/Luis/Documents/dm2025a-4/dataset_pequeno.csv\")\n"
      ]
    },
    {
      "cell_type": "code",
      "execution_count": 21,
      "metadata": {
        "id": "OsJ-91UeZ-I_",
        "vscode": {
          "languageId": "r"
        }
      },
      "outputs": [],
      "source": [
        "dataset_train <- dataset[foto_mes %in% c(202107)]"
      ]
    },
    {
      "cell_type": "code",
      "execution_count": 22,
      "metadata": {
        "id": "vrWE7BE0aB2J",
        "vscode": {
          "languageId": "r"
        }
      },
      "outputs": [],
      "source": [
        "# paso la clase a binaria que tome valores {0,1}  enteros\n",
        "#  BAJA+1 y BAJA+2  son  1,   CONTINUA es 0\n",
        "\n",
        "dataset_train[,\n",
        "  clase01 := ifelse(clase_ternaria %in% c(\"BAJA+2\",\"BAJA+1\"), 1L, 0L)\n",
        "]"
      ]
    },
    {
      "cell_type": "markdown",
      "metadata": {},
      "source": [
        "CAMBIO EL DATASET ORIGINAL POR EL DATASET CUANTICO:"
      ]
    },
    {
      "cell_type": "code",
      "execution_count": null,
      "metadata": {
        "vscode": {
          "languageId": "r"
        }
      },
      "outputs": [],
      "source": [
        "# 1. Crear una copia de los casos positivos\n",
        "dataset_pos <- copy(dataset_train[clase01 == 1])\n",
        "\n",
        "# 2. Cambiarles la clase a 0\n",
        "dataset_pos[, clase01 := 0L]\n",
        "\n",
        "# 3. Combinar con el dataset original (apilarlos)\n",
        "dataset_train_cuantico <- rbind(dataset_train, dataset_pos)\n",
        "\n"
      ]
    },
    {
      "cell_type": "code",
      "execution_count": 24,
      "metadata": {
        "id": "jP7YlQBnaW6W",
        "vscode": {
          "languageId": "r"
        }
      },
      "outputs": [],
      "source": [
        "# defino los datos que forma parte del training\n",
        "# aqui se hace el undersampling de los CONTINUA\n",
        "# notar que para esto utilizo la SEGUNDA semilla\n",
        "\n",
        "set.seed(PARAM$semilla_primigenia, kind = \"L'Ecuyer-CMRG\")\n",
        "dataset_train[, azar := runif(nrow(dataset_train))]\n",
        "dataset_train[, training := 0L]\n",
        "\n",
        "dataset_train[\n",
        "  foto_mes %in% c(202107) &\n",
        "    (azar <= PARAM$trainingstrategy$undersampling | clase_ternaria %in% c(\"BAJA+1\", \"BAJA+2\")),\n",
        "  training := 1L\n",
        "]"
      ]
    },
    {
      "cell_type": "code",
      "execution_count": 25,
      "metadata": {
        "id": "xElu4s5W4rX7",
        "vscode": {
          "languageId": "r"
        }
      },
      "outputs": [],
      "source": [
        "# los campos que se van a utilizar\n",
        "\n",
        "campos_buenos <- setdiff(\n",
        "  colnames(dataset_train),\n",
        "  c(\"clase_ternaria\", \"clase01\", \"azar\", \"training\")\n",
        ")"
      ]
    },
    {
      "cell_type": "code",
      "execution_count": 26,
      "metadata": {
        "colab": {
          "base_uri": "https://localhost:8080/",
          "height": 52
        },
        "id": "PppMHcGYaaol",
        "outputId": "8184e8b0-baf8-440e-d293-4aa32c398ce1",
        "vscode": {
          "languageId": "r"
        }
      },
      "outputs": [
        {
          "data": {
            "text/html": [
              "83383"
            ],
            "text/latex": [
              "83383"
            ],
            "text/markdown": [
              "83383"
            ],
            "text/plain": [
              "[1] 83383"
            ]
          },
          "metadata": {},
          "output_type": "display_data"
        },
        {
          "data": {
            "text/html": [
              "154"
            ],
            "text/latex": [
              "154"
            ],
            "text/markdown": [
              "154"
            ],
            "text/plain": [
              "[1] 154"
            ]
          },
          "metadata": {},
          "output_type": "display_data"
        }
      ],
      "source": [
        "# dejo los datos en el formato que necesita LightGBM\n",
        "\n",
        "dtrain <- lgb.Dataset(\n",
        "  data= data.matrix(dataset_train[training == 1L, campos_buenos, with= FALSE]),\n",
        "  label= dataset_train[training == 1L, clase01],\n",
        "  free_raw_data= FALSE\n",
        ")\n",
        "\n",
        "nrow(dtrain)\n",
        "ncol(dtrain)"
      ]
    },
    {
      "cell_type": "markdown",
      "metadata": {
        "id": "Ta-EkOu3cphF"
      },
      "source": [
        "2.2.5 Configuracion Bayesian Optimization"
      ]
    },
    {
      "cell_type": "code",
      "execution_count": 27,
      "metadata": {
        "id": "cjgfurjdfiXb",
        "vscode": {
          "languageId": "r"
        }
      },
      "outputs": [],
      "source": [
        "# En el argumento x llegan los parmaetros de la bayesiana\n",
        "#  devuelve la AUC en cross validation del modelo entrenado\n",
        "\n",
        "EstimarGanancia_AUC_lightgbm <- function(x) {\n",
        "\n",
        "  # x pisa (o agrega) a param_fijos\n",
        "  param_completo <- modifyList(PARAM$lgbm$param_fijos, x)\n",
        "\n",
        "  # entreno LightGBM\n",
        "  modelocv <- lgb.cv(\n",
        "    data= dtrain,\n",
        "    nfold= PARAM$hyperparametertuning$xval_folds,\n",
        "    stratified= TRUE,\n",
        "    param= param_completo\n",
        "  )\n",
        "\n",
        "  # obtengo la ganancia\n",
        "  AUC <- modelocv$best_score\n",
        "\n",
        "  # hago espacio en la memoria\n",
        "  rm(modelocv)\n",
        "  gc(full= TRUE, verbose= FALSE)\n",
        "\n",
        "  message(format(Sys.time(), \"%a %b %d %X %Y\"), \" AUC \", AUC)\n",
        "\n",
        "  return(AUC)\n",
        "}"
      ]
    },
    {
      "cell_type": "code",
      "execution_count": 28,
      "metadata": {
        "id": "_n18k1FpNsSl",
        "vscode": {
          "languageId": "r"
        }
      },
      "outputs": [],
      "source": [
        "# Aqui comienza la configuracion de la Bayesian Optimization\n",
        "\n",
        "# en este archivo quedan la evolucion binaria de la BO\n",
        "kbayesiana <- \"bayesiana.RDATA\"\n",
        "\n",
        "funcion_optimizar <- EstimarGanancia_AUC_lightgbm # la funcion que voy a maximizar\n",
        "\n",
        "configureMlr(show.learner.output= FALSE)\n",
        "\n",
        "# configuro la busqueda bayesiana,  los hiperparametros que se van a optimizar\n",
        "# por favor, no desesperarse por lo complejo\n",
        "\n",
        "obj.fun <- makeSingleObjectiveFunction(\n",
        "  fn= funcion_optimizar, # la funcion que voy a maximizar\n",
        "  minimize= FALSE, # estoy Maximizando la ganancia\n",
        "  noisy= TRUE,\n",
        "  par.set= PARAM$hypeparametertuning$hs, # definido al comienzo del programa\n",
        "  has.simple.signature= FALSE # paso los parametros en una lista\n",
        ")\n",
        "\n",
        "# cada 600 segundos guardo el resultado intermedio\n",
        "ctrl <- makeMBOControl(\n",
        "  save.on.disk.at.time= 600, # se graba cada 600 segundos\n",
        "  save.file.path= kbayesiana\n",
        ") # se graba cada 600 segundos\n",
        "\n",
        "# indico la cantidad de iteraciones que va a tener la Bayesian Optimization\n",
        "ctrl <- setMBOControlTermination(\n",
        "  ctrl,\n",
        "  iters= PARAM$hyperparametertuning$iteraciones\n",
        ") # cantidad de iteraciones\n",
        "\n",
        "# defino el método estandar para la creacion de los puntos iniciales,\n",
        "# los \"No Inteligentes\"\n",
        "ctrl <- setMBOControlInfill(ctrl, crit= makeMBOInfillCritEI())\n",
        "\n",
        "# establezco la funcion que busca el maximo\n",
        "surr.km <- makeLearner(\n",
        "  \"regr.km\",\n",
        "  predict.type= \"se\",\n",
        "  covtype= \"matern3_2\",\n",
        "  control= list(trace= TRUE)\n",
        ")\n"
      ]
    },
    {
      "cell_type": "markdown",
      "metadata": {
        "id": "_uUeVo5pc4zc"
      },
      "source": [
        "2.2.6 Corrida Bayesian Optimization"
      ]
    },
    {
      "cell_type": "code",
      "execution_count": 29,
      "metadata": {
        "colab": {
          "base_uri": "https://localhost:8080/"
        },
        "id": "RcABNaKGciaz",
        "outputId": "05cf5bbe-4cef-4e51-a2a0-41b25c8aeed1",
        "vscode": {
          "languageId": "r"
        }
      },
      "outputs": [
        {
          "name": "stderr",
          "output_type": "stream",
          "text": [
            "Computing y column(s) for design. Not provided.\n",
            "\n",
            "Sun Aug 03 1:08:43 PM 2025 AUC 0.929384880818584\n",
            "\n",
            "Sun Aug 03 1:11:04 PM 2025 AUC 0.930105861899295\n",
            "\n",
            "Sun Aug 03 1:14:25 PM 2025 AUC 0.931162387662727\n",
            "\n",
            "Sun Aug 03 1:15:48 PM 2025 AUC 0.929300898569589\n",
            "\n",
            "Sun Aug 03 1:17:21 PM 2025 AUC 0.928802071740884\n",
            "\n",
            "Sun Aug 03 1:19:21 PM 2025 AUC 0.931459423718218\n",
            "\n",
            "Sun Aug 03 1:20:28 PM 2025 AUC 0.929580404868206\n",
            "\n",
            "Sun Aug 03 1:21:17 PM 2025 AUC 0.928111765621627\n",
            "\n",
            "Sun Aug 03 1:26:10 PM 2025 AUC 0.930845317695523\n",
            "\n",
            "Sun Aug 03 1:28:04 PM 2025 AUC 0.929834835628074\n",
            "\n",
            "Sun Aug 03 1:29:27 PM 2025 AUC 0.929538650883582\n",
            "\n",
            "Sun Aug 03 1:30:07 PM 2025 AUC 0.929202923309122\n",
            "\n",
            "Sun Aug 03 1:31:59 PM 2025 AUC 0.928873409019707\n",
            "\n",
            "Sun Aug 03 1:33:30 PM 2025 AUC 0.929679589393363\n",
            "\n",
            "Sun Aug 03 1:36:38 PM 2025 AUC 0.92846295406144\n",
            "\n",
            "Sun Aug 03 1:38:05 PM 2025 AUC 0.929466278733619\n",
            "\n",
            "Sun Aug 03 1:39:28 PM 2025 AUC 0.929519647146796\n",
            "\n",
            "Sun Aug 03 1:41:05 PM 2025 AUC 0.92927345667479\n",
            "\n",
            "Sun Aug 03 1:42:07 PM 2025 AUC 0.929365207381803\n",
            "\n",
            "Sun Aug 03 1:45:01 PM 2025 AUC 0.929287435218911\n",
            "\n",
            "[mbo] 0: num_iterations=631; learning_rate=0.0228; feature_fraction=0.789; num_leaves=208; min_data_in_leaf=809 : y = 0.929 : 89.2 secs : initdesign\n",
            "\n",
            "[mbo] 0: num_iterations=945; learning_rate=0.0116; feature_fraction=0.772; num_leaves=237; min_data_in_leaf=720 : y = 0.93 : 141.2 secs : initdesign\n",
            "\n",
            "[mbo] 0: num_iterations=1704; learning_rate=0.0138; feature_fraction=0.637; num_leaves=416; min_data_in_leaf=404 : y = 0.931 : 200.7 secs : initdesign\n",
            "\n",
            "[mbo] 0: num_iterations=918; learning_rate=0.0341; feature_fraction=0.877; num_leaves=325; min_data_in_leaf=491 : y = 0.929 : 83.1 secs : initdesign\n",
            "\n",
            "[mbo] 0: num_iterations=536; learning_rate=0.0297; feature_fraction=0.895; num_leaves=179; min_data_in_leaf=261 : y = 0.929 : 93.2 secs : initdesign\n",
            "\n",
            "[mbo] 0: num_iterations=1497; learning_rate=0.0243; feature_fraction=0.734; num_leaves=226; min_data_in_leaf=449 : y = 0.931 : 120.2 secs : initdesign\n",
            "\n",
            "[mbo] 0: num_iterations=401; learning_rate=0.049; feature_fraction=0.911; num_leaves=355; min_data_in_leaf=141 : y = 0.93 : 66.8 secs : initdesign\n",
            "\n",
            "[mbo] 0: num_iterations=360; learning_rate=0.017; feature_fraction=0.669; num_leaves=377; min_data_in_leaf=811 : y = 0.928 : 49.2 secs : initdesign\n",
            "\n",
            "[mbo] 0: num_iterations=1881; learning_rate=0.00671; feature_fraction=0.721; num_leaves=271; min_data_in_leaf=681 : y = 0.931 : 292.6 secs : initdesign\n",
            "\n",
            "[mbo] 0: num_iterations=1807; learning_rate=0.0201; feature_fraction=0.824; num_leaves=25; min_data_in_leaf=335 : y = 0.93 : 114.2 secs : initdesign\n",
            "\n",
            "[mbo] 0: num_iterations=1186; learning_rate=0.0405; feature_fraction=0.795; num_leaves=502; min_data_in_leaf=592 : y = 0.93 : 83.3 secs : initdesign\n",
            "\n",
            "[mbo] 0: num_iterations=259; learning_rate=0.0265; feature_fraction=0.745; num_leaves=123; min_data_in_leaf=637 : y = 0.929 : 39.4 secs : initdesign\n",
            "\n",
            "[mbo] 0: num_iterations=1394; learning_rate=0.0387; feature_fraction=0.932; num_leaves=409; min_data_in_leaf=50 : y = 0.929 : 111.9 secs : initdesign\n",
            "\n",
            "[mbo] 0: num_iterations=1914; learning_rate=0.036; feature_fraction=0.679; num_leaves=465; min_data_in_leaf=956 : y = 0.93 : 91.7 secs : initdesign\n",
            "\n",
            "[mbo] 0: num_iterations=754; learning_rate=0.00896; feature_fraction=0.69; num_leaves=96; min_data_in_leaf=152 : y = 0.928 : 187.8 secs : initdesign\n",
            "\n",
            "[mbo] 0: num_iterations=1286; learning_rate=0.0311; feature_fraction=0.948; num_leaves=62; min_data_in_leaf=944 : y = 0.929 : 86.9 secs : initdesign\n",
            "\n",
            "[mbo] 0: num_iterations=1248; learning_rate=0.0465; feature_fraction=0.833; num_leaves=54; min_data_in_leaf=308 : y = 0.93 : 82.5 secs : initdesign\n",
            "\n",
            "[mbo] 0: num_iterations=1591; learning_rate=0.0431; feature_fraction=0.629; num_leaves=439; min_data_in_leaf=238 : y = 0.929 : 97.5 secs : initdesign\n",
            "\n",
            "[mbo] 0: num_iterations=683; learning_rate=0.0439; feature_fraction=0.612; num_leaves=152; min_data_in_leaf=870 : y = 0.929 : 61.6 secs : initdesign\n",
            "\n",
            "[mbo] 0: num_iterations=1078; learning_rate=0.0141; feature_fraction=0.846; num_leaves=296; min_data_in_leaf=530 : y = 0.929 : 173.8 secs : initdesign\n",
            "\n",
            "Saved the current state after iteration 1 in the file bayesiana.RDATA.\n",
            "\n",
            "Sun Aug 03 1:47:16 PM 2025 AUC 0.930098086958511\n",
            "\n",
            "[mbo] 1: num_iterations=1719; learning_rate=0.0206; feature_fraction=0.691; num_leaves=255; min_data_in_leaf=456 : y = 0.93 : 134.9 secs : infill_ei\n",
            "\n",
            "Sun Aug 03 1:49:10 PM 2025 AUC 0.930601487789177\n",
            "\n",
            "[mbo] 2: num_iterations=1501; learning_rate=0.0225; feature_fraction=0.647; num_leaves=282; min_data_in_leaf=464 : y = 0.931 : 114.3 secs : infill_ei\n",
            "\n",
            "Sun Aug 03 1:50:58 PM 2025 AUC 0.929696845569032\n",
            "\n",
            "[mbo] 3: num_iterations=1618; learning_rate=0.0252; feature_fraction=0.761; num_leaves=261; min_data_in_leaf=438 : y = 0.93 : 107.7 secs : infill_ei\n",
            "\n",
            "Sun Aug 03 1:52:49 PM 2025 AUC 0.930496033397719\n",
            "\n",
            "[mbo] 4: num_iterations=1480; learning_rate=0.0245; feature_fraction=0.751; num_leaves=233; min_data_in_leaf=442 : y = 0.93 : 110.3 secs : infill_ei\n",
            "\n",
            "Sun Aug 03 1:54:29 PM 2025 AUC 0.929337100222996\n",
            "\n",
            "[mbo] 5: num_iterations=1501; learning_rate=0.0264; feature_fraction=0.754; num_leaves=204; min_data_in_leaf=391 : y = 0.929 : 100.1 secs : infill_ei\n",
            "\n",
            "Sun Aug 03 1:55:26 PM 2025 AUC 0.929682074424133\n",
            "\n",
            "[mbo] 6: num_iterations=1391; learning_rate=0.0419; feature_fraction=0.882; num_leaves=99; min_data_in_leaf=549 : y = 0.93 : 57.0 secs : infill_ei\n",
            "\n",
            "Saved the current state after iteration 7 in the file bayesiana.RDATA.\n",
            "\n",
            "Sun Aug 03 1:56:56 PM 2025 AUC 0.930079618257975\n",
            "\n",
            "[mbo] 7: num_iterations=1398; learning_rate=0.024; feature_fraction=0.627; num_leaves=158; min_data_in_leaf=452 : y = 0.93 : 88.9 secs : infill_ei\n",
            "\n",
            "Sun Aug 03 1:58:21 PM 2025 AUC 0.931357052232619\n",
            "\n",
            "[mbo] 8: num_iterations=1877; learning_rate=0.0322; feature_fraction=0.673; num_leaves=163; min_data_in_leaf=156 : y = 0.931 : 85.2 secs : infill_ei\n",
            "\n",
            "Sun Aug 03 1:59:53 PM 2025 AUC 0.928185956187332\n",
            "\n",
            "[mbo] 9: num_iterations=1608; learning_rate=0.0243; feature_fraction=0.849; num_leaves=189; min_data_in_leaf=303 : y = 0.928 : 91.4 secs : infill_ei\n",
            "\n",
            "Sun Aug 03 2:02:22 PM 2025 AUC 0.931272217608579\n",
            "\n",
            "[mbo] 10: num_iterations=1352; learning_rate=0.0119; feature_fraction=0.712; num_leaves=225; min_data_in_leaf=508 : y = 0.931 : 148.5 secs : infill_ei\n",
            "\n",
            "Sun Aug 03 2:03:36 PM 2025 AUC 0.928527325331359\n",
            "\n",
            "[mbo] 11: num_iterations=808; learning_rate=0.0344; feature_fraction=0.946; num_leaves=363; min_data_in_leaf=86 : y = 0.929 : 74.3 secs : infill_ei\n",
            "\n",
            "Sun Aug 03 2:04:51 PM 2025 AUC 0.928991679600777\n",
            "\n",
            "[mbo] 12: num_iterations=1934; learning_rate=0.031; feature_fraction=0.866; num_leaves=317; min_data_in_leaf=635 : y = 0.929 : 74.4 secs : infill_ei\n",
            "\n",
            "Sun Aug 03 2:06:53 PM 2025 AUC 0.930866945305434\n",
            "\n",
            "[mbo] 13: num_iterations=1353; learning_rate=0.0181; feature_fraction=0.728; num_leaves=233; min_data_in_leaf=535 : y = 0.931 : 121.9 secs : infill_ei\n",
            "\n",
            "Saved the current state after iteration 14 in the file bayesiana.RDATA.\n",
            "\n",
            "Sun Aug 03 2:07:26 PM 2025 AUC 0.921338314511558\n",
            "\n",
            "[mbo] 14: num_iterations=321; learning_rate=0.00627; feature_fraction=0.735; num_leaves=397; min_data_in_leaf=365 : y = 0.921 : 32.8 secs : infill_ei\n",
            "\n",
            "Sun Aug 03 2:08:06 PM 2025 AUC 0.929959373975468\n",
            "\n",
            "[mbo] 15: num_iterations=1309; learning_rate=0.0461; feature_fraction=0.684; num_leaves=227; min_data_in_leaf=893 : y = 0.93 : 39.4 secs : infill_ei\n",
            "\n",
            "Sun Aug 03 2:09:13 PM 2025 AUC 0.929325609239643\n",
            "\n",
            "[mbo] 16: num_iterations=1840; learning_rate=0.0289; feature_fraction=0.714; num_leaves=223; min_data_in_leaf=361 : y = 0.929 : 67.0 secs : infill_ei\n",
            "\n",
            "Sun Aug 03 2:10:15 PM 2025 AUC 0.929942983181833\n",
            "\n",
            "[mbo] 17: num_iterations=1638; learning_rate=0.0297; feature_fraction=0.727; num_leaves=182; min_data_in_leaf=476 : y = 0.93 : 62.0 secs : infill_ei\n",
            "\n",
            "Sun Aug 03 2:12:20 PM 2025 AUC 0.930777788143654\n",
            "\n",
            "[mbo] 18: num_iterations=1471; learning_rate=0.0115; feature_fraction=0.719; num_leaves=331; min_data_in_leaf=452 : y = 0.931 : 124.6 secs : infill_ei\n",
            "\n",
            "Sun Aug 03 2:13:39 PM 2025 AUC 0.931070059887503\n",
            "\n",
            "[mbo] 19: num_iterations=1459; learning_rate=0.0233; feature_fraction=0.714; num_leaves=224; min_data_in_leaf=475 : y = 0.931 : 78.0 secs : infill_ei\n",
            "\n",
            "Sun Aug 03 2:16:16 PM 2025 AUC 0.929809117175586\n",
            "\n",
            "[mbo] 20: num_iterations=1394; learning_rate=0.00748; feature_fraction=0.73; num_leaves=233; min_data_in_leaf=453 : y = 0.93 : 156.9 secs : infill_ei\n",
            "\n",
            "Sun Aug 03 2:18:06 PM 2025 AUC 0.930092431439315\n",
            "\n",
            "[mbo] 21: num_iterations=1712; learning_rate=0.0122; feature_fraction=0.731; num_leaves=152; min_data_in_leaf=828 : y = 0.93 : 110.1 secs : infill_ei\n",
            "\n",
            "Saved the current state after iteration 22 in the file bayesiana.RDATA.\n",
            "\n",
            "Sun Aug 03 2:20:35 PM 2025 AUC 0.931073840788147\n",
            "\n",
            "[mbo] 22: num_iterations=1565; learning_rate=0.0102; feature_fraction=0.668; num_leaves=119; min_data_in_leaf=511 : y = 0.931 : 148.2 secs : infill_ei\n",
            "\n",
            "Sun Aug 03 2:23:09 PM 2025 AUC 0.93140349534277\n",
            "\n",
            "[mbo] 23: num_iterations=1574; learning_rate=0.0119; feature_fraction=0.641; num_leaves=377; min_data_in_leaf=471 : y = 0.931 : 153.8 secs : infill_ei\n",
            "\n",
            "Sun Aug 03 2:24:05 PM 2025 AUC 0.930115032431804\n",
            "\n",
            "[mbo] 24: num_iterations=1546; learning_rate=0.0336; feature_fraction=0.662; num_leaves=27; min_data_in_leaf=96 : y = 0.93 : 55.7 secs : infill_ei\n",
            "\n",
            "Sun Aug 03 2:26:25 PM 2025 AUC 0.929740454005798\n",
            "\n",
            "[mbo] 25: num_iterations=1419; learning_rate=0.0131; feature_fraction=0.666; num_leaves=260; min_data_in_leaf=449 : y = 0.93 : 139.8 secs : infill_ei\n",
            "\n",
            "Sun Aug 03 2:27:39 PM 2025 AUC 0.929444279546869\n",
            "\n",
            "[mbo] 26: num_iterations=1679; learning_rate=0.00914; feature_fraction=0.705; num_leaves=11; min_data_in_leaf=530 : y = 0.929 : 73.6 secs : infill_ei\n",
            "\n",
            "Sun Aug 03 2:29:21 PM 2025 AUC 0.930007649100764\n",
            "\n",
            "[mbo] 27: num_iterations=1511; learning_rate=0.0208; feature_fraction=0.729; num_leaves=279; min_data_in_leaf=608 : y = 0.93 : 101.4 secs : infill_ei\n",
            "\n",
            "Saved the current state after iteration 28 in the file bayesiana.RDATA.\n",
            "\n",
            "Sun Aug 03 2:32:16 PM 2025 AUC 0.930394710404611\n",
            "\n",
            "[mbo] 28: num_iterations=1764; learning_rate=0.0107; feature_fraction=0.638; num_leaves=345; min_data_in_leaf=528 : y = 0.93 : 175.3 secs : infill_ei\n",
            "\n",
            "Sun Aug 03 2:34:43 PM 2025 AUC 0.930050780855504\n",
            "\n",
            "[mbo] 29: num_iterations=1819; learning_rate=0.0139; feature_fraction=0.664; num_leaves=288; min_data_in_leaf=332 : y = 0.93 : 146.1 secs : infill_ei\n",
            "\n",
            "Sun Aug 03 2:36:02 PM 2025 AUC 0.930316846987503\n",
            "\n",
            "[mbo] 30: num_iterations=1528; learning_rate=0.0281; feature_fraction=0.72; num_leaves=335; min_data_in_leaf=476 : y = 0.93 : 78.6 secs : infill_ei\n",
            "\n",
            "Sun Aug 03 2:38:17 PM 2025 AUC 0.93053252628767\n",
            "\n",
            "[mbo] 31: num_iterations=1537; learning_rate=0.0138; feature_fraction=0.717; num_leaves=220; min_data_in_leaf=504 : y = 0.931 : 134.8 secs : infill_ei\n",
            "\n",
            "Sun Aug 03 2:39:55 PM 2025 AUC 0.930768569762288\n",
            "\n",
            "[mbo] 32: num_iterations=1323; learning_rate=0.0191; feature_fraction=0.851; num_leaves=227; min_data_in_leaf=579 : y = 0.931 : 97.8 secs : infill_ei\n",
            "\n",
            "Saved the current state after iteration 33 in the file bayesiana.RDATA.\n",
            "\n",
            "Sun Aug 03 2:41:08 PM 2025 AUC 0.930114656160372\n",
            "\n",
            "[mbo] 33: num_iterations=1474; learning_rate=0.0319; feature_fraction=0.637; num_leaves=228; min_data_in_leaf=502 : y = 0.93 : 72.4 secs : infill_ei\n",
            "\n",
            "Sun Aug 03 2:42:36 PM 2025 AUC 0.93029779801246\n",
            "\n",
            "[mbo] 34: num_iterations=1084; learning_rate=0.0202; feature_fraction=0.734; num_leaves=227; min_data_in_leaf=672 : y = 0.93 : 88.1 secs : infill_ei\n",
            "\n",
            "Sun Aug 03 2:44:01 PM 2025 AUC 0.930182519975065\n",
            "\n",
            "[mbo] 35: num_iterations=1483; learning_rate=0.0246; feature_fraction=0.713; num_leaves=419; min_data_in_leaf=537 : y = 0.93 : 83.6 secs : infill_ei\n",
            "\n",
            "Sun Aug 03 2:46:11 PM 2025 AUC 0.930317731161315\n",
            "\n",
            "[mbo] 36: num_iterations=1098; learning_rate=0.011; feature_fraction=0.697; num_leaves=340; min_data_in_leaf=519 : y = 0.93 : 130.0 secs : infill_ei\n",
            "\n",
            "Sun Aug 03 2:48:23 PM 2025 AUC 0.931145541243924\n",
            "\n",
            "[mbo] 37: num_iterations=975; learning_rate=0.0141; feature_fraction=0.64; num_leaves=373; min_data_in_leaf=392 : y = 0.931 : 131.9 secs : infill_ei\n",
            "\n",
            "Sun Aug 03 2:50:33 PM 2025 AUC 0.930880956258636\n",
            "\n",
            "[mbo] 38: num_iterations=1410; learning_rate=0.0153; feature_fraction=0.642; num_leaves=460; min_data_in_leaf=346 : y = 0.931 : 129.5 secs : infill_ei\n",
            "\n",
            "Saved the current state after iteration 39 in the file bayesiana.RDATA.\n",
            "\n",
            "Sun Aug 03 2:51:43 PM 2025 AUC 0.930242853493893\n",
            "\n",
            "[mbo] 39: num_iterations=1298; learning_rate=0.0238; feature_fraction=0.728; num_leaves=30; min_data_in_leaf=279 : y = 0.93 : 69.9 secs : infill_ei\n",
            "\n",
            "Sun Aug 03 2:54:24 PM 2025 AUC 0.931048314962503\n",
            "\n",
            "[mbo] 40: num_iterations=1724; learning_rate=0.0108; feature_fraction=0.715; num_leaves=273; min_data_in_leaf=588 : y = 0.931 : 160.5 secs : infill_ei\n",
            "\n",
            "Sun Aug 03 2:57:19 PM 2025 AUC 0.930011724293204\n",
            "\n",
            "[mbo] 41: num_iterations=1527; learning_rate=0.00604; feature_fraction=0.811; num_leaves=45; min_data_in_leaf=472 : y = 0.93 : 174.5 secs : infill_ei\n",
            "\n",
            "Sun Aug 03 2:59:56 PM 2025 AUC 0.930511849077119\n",
            "\n",
            "[mbo] 42: num_iterations=1191; learning_rate=0.012; feature_fraction=0.629; num_leaves=426; min_data_in_leaf=374 : y = 0.931 : 156.6 secs : infill_ei\n",
            "\n",
            "Sun Aug 03 3:02:22 PM 2025 AUC 0.930129631943729\n",
            "\n",
            "[mbo] 43: num_iterations=1339; learning_rate=0.01; feature_fraction=0.712; num_leaves=285; min_data_in_leaf=668 : y = 0.93 : 145.1 secs : infill_ei\n",
            "\n",
            "Saved the current state after iteration 44 in the file bayesiana.RDATA.\n",
            "\n",
            "Sun Aug 03 3:05:10 PM 2025 AUC 0.930891515003034\n",
            "\n",
            "[mbo] 44: num_iterations=1949; learning_rate=0.0109; feature_fraction=0.723; num_leaves=192; min_data_in_leaf=497 : y = 0.931 : 168.0 secs : infill_ei\n",
            "\n",
            "Sun Aug 03 3:07:35 PM 2025 AUC 0.930236863772479\n",
            "\n",
            "[mbo] 45: num_iterations=1318; learning_rate=0.0126; feature_fraction=0.639; num_leaves=374; min_data_in_leaf=448 : y = 0.93 : 144.5 secs : infill_ei\n",
            "\n",
            "Sun Aug 03 3:08:39 PM 2025 AUC 0.930650815612205\n",
            "\n",
            "[mbo] 46: num_iterations=1446; learning_rate=0.0344; feature_fraction=0.656; num_leaves=223; min_data_in_leaf=560 : y = 0.931 : 63.8 secs : infill_ei\n",
            "\n",
            "Sun Aug 03 3:09:59 PM 2025 AUC 0.929406015000363\n",
            "\n",
            "[mbo] 47: num_iterations=1378; learning_rate=0.0241; feature_fraction=0.749; num_leaves=43; min_data_in_leaf=459 : y = 0.929 : 79.1 secs : infill_ei\n",
            "\n",
            "Sun Aug 03 3:12:47 PM 2025 AUC 0.930285712555067\n",
            "\n",
            "[mbo] 48: num_iterations=1599; learning_rate=0.012; feature_fraction=0.643; num_leaves=500; min_data_in_leaf=253 : y = 0.93 : 167.9 secs : infill_ei\n",
            "\n",
            "Saved the current state after iteration 49 in the file bayesiana.RDATA.\n",
            "\n",
            "Sun Aug 03 3:14:16 PM 2025 AUC 0.930660691210105\n",
            "\n",
            "[mbo] 49: num_iterations=1528; learning_rate=0.0244; feature_fraction=0.706; num_leaves=229; min_data_in_leaf=343 : y = 0.931 : 88.6 secs : infill_ei\n",
            "\n",
            "Sun Aug 03 3:16:52 PM 2025 AUC 0.930259187664811\n",
            "\n",
            "[mbo] 50: num_iterations=1697; learning_rate=0.0123; feature_fraction=0.635; num_leaves=387; min_data_in_leaf=439 : y = 0.93 : 154.9 secs : infill_ei\n",
            "\n",
            "Sun Aug 03 3:19:24 PM 2025 AUC 0.930694848549678\n",
            "\n",
            "[mbo] 51: num_iterations=1594; learning_rate=0.0117; feature_fraction=0.655; num_leaves=148; min_data_in_leaf=535 : y = 0.931 : 152.1 secs : infill_ei\n",
            "\n",
            "Sun Aug 03 3:21:15 PM 2025 AUC 0.93070811189818\n",
            "\n",
            "[mbo] 52: num_iterations=1549; learning_rate=0.0187; feature_fraction=0.652; num_leaves=413; min_data_in_leaf=387 : y = 0.931 : 109.8 secs : infill_ei\n",
            "\n",
            "Sun Aug 03 3:22:43 PM 2025 AUC 0.93058562101915\n",
            "\n",
            "[mbo] 53: num_iterations=1727; learning_rate=0.0289; feature_fraction=0.672; num_leaves=153; min_data_in_leaf=173 : y = 0.931 : 88.3 secs : infill_ei\n",
            "\n",
            "Sun Aug 03 3:24:14 PM 2025 AUC 0.930618099229921\n",
            "\n",
            "[mbo] 54: num_iterations=1722; learning_rate=0.0266; feature_fraction=0.641; num_leaves=471; min_data_in_leaf=302 : y = 0.931 : 89.7 secs : infill_ei\n",
            "\n",
            "Saved the current state after iteration 55 in the file bayesiana.RDATA.\n",
            "\n",
            "Sun Aug 03 3:26:54 PM 2025 AUC 0.930107036023433\n",
            "\n",
            "[mbo] 55: num_iterations=1558; learning_rate=0.0111; feature_fraction=0.653; num_leaves=378; min_data_in_leaf=545 : y = 0.93 : 160.1 secs : infill_ei\n",
            "\n",
            "Sun Aug 03 3:28:21 PM 2025 AUC 0.929729279406877\n",
            "\n",
            "[mbo] 56: num_iterations=1277; learning_rate=0.023; feature_fraction=0.725; num_leaves=313; min_data_in_leaf=444 : y = 0.93 : 86.0 secs : infill_ei\n",
            "\n",
            "Sun Aug 03 3:31:03 PM 2025 AUC 0.929893790457823\n",
            "\n",
            "[mbo] 57: num_iterations=1425; learning_rate=0.0109; feature_fraction=0.711; num_leaves=329; min_data_in_leaf=481 : y = 0.93 : 162.0 secs : infill_ei\n",
            "\n",
            "Sun Aug 03 3:33:37 PM 2025 AUC 0.929861799587127\n",
            "\n",
            "[mbo] 58: num_iterations=1832; learning_rate=0.0117; feature_fraction=0.724; num_leaves=192; min_data_in_leaf=567 : y = 0.93 : 153.0 secs : infill_ei\n",
            "\n",
            "Sun Aug 03 3:34:45 PM 2025 AUC 0.928817859186007\n",
            "\n",
            "[mbo] 59: num_iterations=1493; learning_rate=0.0322; feature_fraction=0.716; num_leaves=55; min_data_in_leaf=449 : y = 0.929 : 68.2 secs : infill_ei\n",
            "\n",
            "Saved the current state after iteration 60 in the file bayesiana.RDATA.\n",
            "\n",
            "Sun Aug 03 3:36:43 PM 2025 AUC 0.92989236080723\n",
            "\n",
            "[mbo] 60: num_iterations=1586; learning_rate=0.018; feature_fraction=0.615; num_leaves=371; min_data_in_leaf=396 : y = 0.93 : 117.6 secs : infill_ei\n",
            "\n",
            "Saved the final state in the file bayesiana.RDATA\n",
            "\n"
          ]
        }
      ],
      "source": [
        "# inicio la optimizacion bayesiana, retomando si ya existe\n",
        "# es la celda mas lenta de todo el notebook\n",
        "\n",
        "if (!file.exists(kbayesiana)) {\n",
        "  bayesiana_salida <- mbo(obj.fun, learner= surr.km, control= ctrl)\n",
        "} else {\n",
        "  bayesiana_salida <- mboContinue(kbayesiana) # retomo en caso que ya exista\n",
        "}"
      ]
    },
    {
      "cell_type": "code",
      "execution_count": 30,
      "metadata": {
        "id": "ssk5nnMk6INK",
        "outputId": "d9a226cd-4012-46f7-c84f-5cf37d165e7a",
        "vscode": {
          "languageId": "r"
        }
      },
      "outputs": [
        {
          "data": {
            "text/html": [
              "<style>\n",
              ".list-inline {list-style: none; margin:0; padding: 0}\n",
              ".list-inline>li {display: inline-block}\n",
              ".list-inline>li:not(:last-child)::after {content: \"\\00b7\"; padding: 0 .5ex}\n",
              "</style>\n",
              "<ol class=list-inline><li>'num_iterations'</li><li>'learning_rate'</li><li>'feature_fraction'</li><li>'num_leaves'</li><li>'min_data_in_leaf'</li><li>'y'</li><li>'dob'</li><li>'eol'</li><li>'error.message'</li><li>'exec.time'</li><li>'ei'</li><li>'error.model'</li><li>'train.time'</li><li>'prop.type'</li><li>'propose.time'</li><li>'se'</li><li>'mean'</li></ol>\n"
            ],
            "text/latex": [
              "\\begin{enumerate*}\n",
              "\\item 'num\\_iterations'\n",
              "\\item 'learning\\_rate'\n",
              "\\item 'feature\\_fraction'\n",
              "\\item 'num\\_leaves'\n",
              "\\item 'min\\_data\\_in\\_leaf'\n",
              "\\item 'y'\n",
              "\\item 'dob'\n",
              "\\item 'eol'\n",
              "\\item 'error.message'\n",
              "\\item 'exec.time'\n",
              "\\item 'ei'\n",
              "\\item 'error.model'\n",
              "\\item 'train.time'\n",
              "\\item 'prop.type'\n",
              "\\item 'propose.time'\n",
              "\\item 'se'\n",
              "\\item 'mean'\n",
              "\\end{enumerate*}\n"
            ],
            "text/markdown": [
              "1. 'num_iterations'\n",
              "2. 'learning_rate'\n",
              "3. 'feature_fraction'\n",
              "4. 'num_leaves'\n",
              "5. 'min_data_in_leaf'\n",
              "6. 'y'\n",
              "7. 'dob'\n",
              "8. 'eol'\n",
              "9. 'error.message'\n",
              "10. 'exec.time'\n",
              "11. 'ei'\n",
              "12. 'error.model'\n",
              "13. 'train.time'\n",
              "14. 'prop.type'\n",
              "15. 'propose.time'\n",
              "16. 'se'\n",
              "17. 'mean'\n",
              "\n",
              "\n"
            ],
            "text/plain": [
              " [1] \"num_iterations\"   \"learning_rate\"    \"feature_fraction\" \"num_leaves\"      \n",
              " [5] \"min_data_in_leaf\" \"y\"                \"dob\"              \"eol\"             \n",
              " [9] \"error.message\"    \"exec.time\"        \"ei\"               \"error.model\"     \n",
              "[13] \"train.time\"       \"prop.type\"        \"propose.time\"     \"se\"              \n",
              "[17] \"mean\"            "
            ]
          },
          "metadata": {},
          "output_type": "display_data"
        }
      ],
      "source": [
        "tb_bayesiana <- as.data.table(bayesiana_salida$opt.path)\n",
        "colnames( tb_bayesiana)"
      ]
    },
    {
      "cell_type": "code",
      "execution_count": 37,
      "metadata": {
        "id": "u4zq-vknhjGc",
        "vscode": {
          "languageId": "r"
        }
      },
      "outputs": [],
      "source": [
        "# almaceno los resultados de la Bayesian Optimization\n",
        "# y capturo los mejores hiperparametros encontrados\n",
        "\n",
        "tb_bayesiana <- as.data.table(bayesiana_salida$opt.path)\n",
        "\n",
        "tb_bayesiana[, iter := .I]\n",
        "\n",
        "# ordeno en forma descendente por AUC = y\n",
        "setorder(tb_bayesiana, -y)\n",
        "\n",
        "# grabo para eventualmente poder utilizarlos en OTRA corrida\n",
        "fwrite( tb_bayesiana,\n",
        "  file= \"BO_log.txt\",\n",
        "  sep= \"\\t\"\n",
        ")\n",
        "\n",
        "# los mejores hiperparámetros son los que quedaron en el registro 1 de la tabla\n",
        "PARAM$out$lgbm$mejores_hiperparametros <- tb_bayesiana[\n",
        "  1, # el primero es el de mejor AUC\n",
        "  setdiff(colnames(tb_bayesiana),\n",
        "    c(\"y\",\"dob\",\"eol\",\"error.message\",\"exec.time\",\"ei\",\"error.model\",\n",
        "      \"train.time\",\"prop.type\",\"propose.time\",\"se\",\"mean\",\"iter\")),\n",
        "  with= FALSE\n",
        "]\n",
        "\n",
        "\n",
        "PARAM$out$lgbm$y <- tb_bayesiana[1, y]\n"
      ]
    },
    {
      "cell_type": "code",
      "execution_count": 38,
      "metadata": {
        "id": "E8v2eA427N8e",
        "vscode": {
          "languageId": "r"
        }
      },
      "outputs": [],
      "source": [
        "write_yaml( PARAM, file=\"PARAM.yml\")"
      ]
    },
    {
      "cell_type": "code",
      "execution_count": 39,
      "metadata": {
        "id": "iBTWexVU7PGC",
        "outputId": "5d079466-5231-4459-ef44-ea0613628f91",
        "vscode": {
          "languageId": "r"
        }
      },
      "outputs": [
        {
          "name": "stdout",
          "output_type": "stream",
          "text": [
            "   num_iterations learning_rate feature_fraction num_leaves min_data_in_leaf\n",
            "            <int>         <num>            <num>      <int>            <int>\n",
            "1:           1497    0.02434643        0.7344952        226              449\n",
            "[1] 0.9314594\n"
          ]
        }
      ],
      "source": [
        "print(PARAM$out$lgbm$mejores_hiperparametros)\n",
        "print(PARAM$out$lgbm$y)"
      ]
    },
    {
      "cell_type": "markdown",
      "metadata": {
        "id": "TKsVZmAnhwX-"
      },
      "source": [
        "## 2.3  Produccion"
      ]
    },
    {
      "cell_type": "markdown",
      "metadata": {
        "id": "RQ_C33Tr5B_9"
      },
      "source": [
        "### Final Training\n",
        "Construyo el modelo final, que es uno solo, no hace ningun tipo de particion < training, validation, testing>]"
      ]
    },
    {
      "cell_type": "code",
      "execution_count": 40,
      "metadata": {
        "id": "eDqfyA14hzwv",
        "vscode": {
          "languageId": "r"
        }
      },
      "outputs": [],
      "source": [
        "# carpeta de trabajo en tu PC\n",
        "setwd(\"C:/Users/Luis/Documents/dm2025a-4/exp\")\n",
        "experimento <- paste0(\"exp\", PARAM$experimento)\n",
        "dir.create(experimento, showWarnings=FALSE)\n",
        "setwd(file.path(\"C:/Users/Luis/Documents/dm2025a-4/exp\", experimento))\n"
      ]
    },
    {
      "cell_type": "markdown",
      "metadata": {
        "id": "8qFmFivf5Iet"
      },
      "source": [
        "#### Final Training Dataset\n",
        "\n",
        "Aqui esta la gran decision de en qué meses hago el Final Training\n",
        "<br> debo utilizar los mejores hiperparámetros que encontré en la optimización bayesiana"
      ]
    },
    {
      "cell_type": "code",
      "execution_count": null,
      "metadata": {
        "id": "lg5WVZncvc7H",
        "vscode": {
          "languageId": "r"
        }
      },
      "outputs": [],
      "source": [
        "setwd(\"/content/buckets/b1/exp\")\n",
        "experimento <- paste0(\"exp\", PARAM$experimento)\n",
        "dir.create(experimento, showWarnings= FALSE)\n",
        "setwd( paste0(\"/content/buckets/b1/exp/\", experimento ))"
      ]
    },
    {
      "cell_type": "code",
      "execution_count": 41,
      "metadata": {
        "id": "yc9QzXREv0xf",
        "vscode": {
          "languageId": "r"
        }
      },
      "outputs": [],
      "source": [
        "# clase01\n",
        "dataset[, clase01 := ifelse(clase_ternaria %in% c(\"BAJA+1\", \"BAJA+2\"), 1L, 0L)]"
      ]
    },
    {
      "cell_type": "code",
      "execution_count": 42,
      "metadata": {
        "id": "uRuJKjyqWPiI",
        "vscode": {
          "languageId": "r"
        }
      },
      "outputs": [],
      "source": [
        "dataset_train <- dataset[foto_mes %in% c(202107)]"
      ]
    },
    {
      "cell_type": "code",
      "execution_count": 43,
      "metadata": {
        "id": "thjdqEBLuvNt",
        "vscode": {
          "languageId": "r"
        }
      },
      "outputs": [],
      "source": [
        "# dejo los datos en el formato que necesita LightGBM\n",
        "\n",
        "dtrain <- lgb.Dataset(\n",
        "  data= data.matrix(dataset_train[, campos_buenos, with= FALSE]),\n",
        "  label= dataset_train[, clase01]\n",
        ")"
      ]
    },
    {
      "cell_type": "markdown",
      "metadata": {
        "id": "VNUa-WSz5Oqu"
      },
      "source": [
        "#### Final Training Hyperparameters"
      ]
    },
    {
      "cell_type": "code",
      "execution_count": 44,
      "metadata": {
        "id": "FgCcvBfEwImu",
        "outputId": "9cce009d-1ef7-48ee-d3e9-c962582ab5de",
        "vscode": {
          "languageId": "r"
        }
      },
      "outputs": [
        {
          "data": {
            "text/html": [
              "<dl>\n",
              "\t<dt>$boosting</dt>\n",
              "\t\t<dd>'gbdt'</dd>\n",
              "\t<dt>$objective</dt>\n",
              "\t\t<dd>'binary'</dd>\n",
              "\t<dt>$metric</dt>\n",
              "\t\t<dd>'auc'</dd>\n",
              "\t<dt>$first_metric_only</dt>\n",
              "\t\t<dd>FALSE</dd>\n",
              "\t<dt>$boost_from_average</dt>\n",
              "\t\t<dd>TRUE</dd>\n",
              "\t<dt>$feature_pre_filter</dt>\n",
              "\t\t<dd>FALSE</dd>\n",
              "\t<dt>$force_row_wise</dt>\n",
              "\t\t<dd>TRUE</dd>\n",
              "\t<dt>$verbosity</dt>\n",
              "\t\t<dd>-100</dd>\n",
              "\t<dt>$seed</dt>\n",
              "\t\t<dd>100151</dd>\n",
              "\t<dt>$max_depth</dt>\n",
              "\t\t<dd>10</dd>\n",
              "\t<dt>$min_gain_to_split</dt>\n",
              "\t\t<dd>0.166162</dd>\n",
              "\t<dt>$min_sum_hessian_in_leaf</dt>\n",
              "\t\t<dd>0.001</dd>\n",
              "\t<dt>$lambda_l1</dt>\n",
              "\t\t<dd>3.865</dd>\n",
              "\t<dt>$lambda_l2</dt>\n",
              "\t\t<dd>4.086</dd>\n",
              "\t<dt>$max_bin</dt>\n",
              "\t\t<dd>31</dd>\n",
              "\t<dt>$bagging_fraction</dt>\n",
              "\t\t<dd>0.9239</dd>\n",
              "\t<dt>$pos_bagging_fraction</dt>\n",
              "\t\t<dd>1</dd>\n",
              "\t<dt>$neg_bagging_fraction</dt>\n",
              "\t\t<dd>1</dd>\n",
              "\t<dt>$is_unbalance</dt>\n",
              "\t\t<dd>FALSE</dd>\n",
              "\t<dt>$scale_pos_weight</dt>\n",
              "\t\t<dd>1</dd>\n",
              "\t<dt>$drop_rate</dt>\n",
              "\t\t<dd>0.1</dd>\n",
              "\t<dt>$max_drop</dt>\n",
              "\t\t<dd>50</dd>\n",
              "\t<dt>$skip_drop</dt>\n",
              "\t\t<dd>0.5</dd>\n",
              "\t<dt>$extra_trees</dt>\n",
              "\t\t<dd>FALSE</dd>\n",
              "\t<dt>$num_iterations</dt>\n",
              "\t\t<dd>1497</dd>\n",
              "\t<dt>$learning_rate</dt>\n",
              "\t\t<dd>0.0243464278460147</dd>\n",
              "\t<dt>$feature_fraction</dt>\n",
              "\t\t<dd>0.734495247269518</dd>\n",
              "\t<dt>$num_leaves</dt>\n",
              "\t\t<dd>226</dd>\n",
              "\t<dt>$min_data_in_leaf</dt>\n",
              "\t\t<dd>449</dd>\n",
              "</dl>\n"
            ],
            "text/latex": [
              "\\begin{description}\n",
              "\\item[\\$boosting] 'gbdt'\n",
              "\\item[\\$objective] 'binary'\n",
              "\\item[\\$metric] 'auc'\n",
              "\\item[\\$first\\_metric\\_only] FALSE\n",
              "\\item[\\$boost\\_from\\_average] TRUE\n",
              "\\item[\\$feature\\_pre\\_filter] FALSE\n",
              "\\item[\\$force\\_row\\_wise] TRUE\n",
              "\\item[\\$verbosity] -100\n",
              "\\item[\\$seed] 100151\n",
              "\\item[\\$max\\_depth] 10\n",
              "\\item[\\$min\\_gain\\_to\\_split] 0.166162\n",
              "\\item[\\$min\\_sum\\_hessian\\_in\\_leaf] 0.001\n",
              "\\item[\\$lambda\\_l1] 3.865\n",
              "\\item[\\$lambda\\_l2] 4.086\n",
              "\\item[\\$max\\_bin] 31\n",
              "\\item[\\$bagging\\_fraction] 0.9239\n",
              "\\item[\\$pos\\_bagging\\_fraction] 1\n",
              "\\item[\\$neg\\_bagging\\_fraction] 1\n",
              "\\item[\\$is\\_unbalance] FALSE\n",
              "\\item[\\$scale\\_pos\\_weight] 1\n",
              "\\item[\\$drop\\_rate] 0.1\n",
              "\\item[\\$max\\_drop] 50\n",
              "\\item[\\$skip\\_drop] 0.5\n",
              "\\item[\\$extra\\_trees] FALSE\n",
              "\\item[\\$num\\_iterations] 1497\n",
              "\\item[\\$learning\\_rate] 0.0243464278460147\n",
              "\\item[\\$feature\\_fraction] 0.734495247269518\n",
              "\\item[\\$num\\_leaves] 226\n",
              "\\item[\\$min\\_data\\_in\\_leaf] 449\n",
              "\\end{description}\n"
            ],
            "text/markdown": [
              "$boosting\n",
              ":   'gbdt'\n",
              "$objective\n",
              ":   'binary'\n",
              "$metric\n",
              ":   'auc'\n",
              "$first_metric_only\n",
              ":   FALSE\n",
              "$boost_from_average\n",
              ":   TRUE\n",
              "$feature_pre_filter\n",
              ":   FALSE\n",
              "$force_row_wise\n",
              ":   TRUE\n",
              "$verbosity\n",
              ":   -100\n",
              "$seed\n",
              ":   100151\n",
              "$max_depth\n",
              ":   10\n",
              "$min_gain_to_split\n",
              ":   0.166162\n",
              "$min_sum_hessian_in_leaf\n",
              ":   0.001\n",
              "$lambda_l1\n",
              ":   3.865\n",
              "$lambda_l2\n",
              ":   4.086\n",
              "$max_bin\n",
              ":   31\n",
              "$bagging_fraction\n",
              ":   0.9239\n",
              "$pos_bagging_fraction\n",
              ":   1\n",
              "$neg_bagging_fraction\n",
              ":   1\n",
              "$is_unbalance\n",
              ":   FALSE\n",
              "$scale_pos_weight\n",
              ":   1\n",
              "$drop_rate\n",
              ":   0.1\n",
              "$max_drop\n",
              ":   50\n",
              "$skip_drop\n",
              ":   0.5\n",
              "$extra_trees\n",
              ":   FALSE\n",
              "$num_iterations\n",
              ":   1497\n",
              "$learning_rate\n",
              ":   0.0243464278460147\n",
              "$feature_fraction\n",
              ":   0.734495247269518\n",
              "$num_leaves\n",
              ":   226\n",
              "$min_data_in_leaf\n",
              ":   449\n",
              "\n",
              "\n"
            ],
            "text/plain": [
              "$boosting\n",
              "[1] \"gbdt\"\n",
              "\n",
              "$objective\n",
              "[1] \"binary\"\n",
              "\n",
              "$metric\n",
              "[1] \"auc\"\n",
              "\n",
              "$first_metric_only\n",
              "[1] FALSE\n",
              "\n",
              "$boost_from_average\n",
              "[1] TRUE\n",
              "\n",
              "$feature_pre_filter\n",
              "[1] FALSE\n",
              "\n",
              "$force_row_wise\n",
              "[1] TRUE\n",
              "\n",
              "$verbosity\n",
              "[1] -100\n",
              "\n",
              "$seed\n",
              "[1] 100151\n",
              "\n",
              "$max_depth\n",
              "[1] 10\n",
              "\n",
              "$min_gain_to_split\n",
              "[1] 0.166162\n",
              "\n",
              "$min_sum_hessian_in_leaf\n",
              "[1] 0.001\n",
              "\n",
              "$lambda_l1\n",
              "[1] 3.865\n",
              "\n",
              "$lambda_l2\n",
              "[1] 4.086\n",
              "\n",
              "$max_bin\n",
              "[1] 31\n",
              "\n",
              "$bagging_fraction\n",
              "[1] 0.9239\n",
              "\n",
              "$pos_bagging_fraction\n",
              "[1] 1\n",
              "\n",
              "$neg_bagging_fraction\n",
              "[1] 1\n",
              "\n",
              "$is_unbalance\n",
              "[1] FALSE\n",
              "\n",
              "$scale_pos_weight\n",
              "[1] 1\n",
              "\n",
              "$drop_rate\n",
              "[1] 0.1\n",
              "\n",
              "$max_drop\n",
              "[1] 50\n",
              "\n",
              "$skip_drop\n",
              "[1] 0.5\n",
              "\n",
              "$extra_trees\n",
              "[1] FALSE\n",
              "\n",
              "$num_iterations\n",
              "[1] 1497\n",
              "\n",
              "$learning_rate\n",
              "[1] 0.02434643\n",
              "\n",
              "$feature_fraction\n",
              "[1] 0.7344952\n",
              "\n",
              "$num_leaves\n",
              "[1] 226\n",
              "\n",
              "$min_data_in_leaf\n",
              "[1] 449\n"
            ]
          },
          "metadata": {},
          "output_type": "display_data"
        }
      ],
      "source": [
        "param_final <- modifyList(PARAM$lgbm$param_fijos,\n",
        "  PARAM$out$lgbm$mejores_hiperparametros)\n",
        "\n",
        "param_final"
      ]
    },
    {
      "cell_type": "markdown",
      "metadata": {
        "id": "TZIYn4l95TBH"
      },
      "source": [
        "#### Training\n",
        "Genero el modelo final, siempre sobre TODOS los datos de  final_train, sin hacer ningun tipo de undersampling de la clase mayoritaria"
      ]
    },
    {
      "cell_type": "code",
      "execution_count": 45,
      "metadata": {
        "id": "vPLsd4mMRe4u",
        "vscode": {
          "languageId": "r"
        }
      },
      "outputs": [],
      "source": [
        "# este punto es muy SUTIL  y será revisado en la Clase 05\n",
        "\n",
        "param_normalizado <- copy(param_final)\n",
        "param_normalizado$min_data_in_leaf <-  param_final$min_data_in_leaf / PARAM$trainingstrategy$undersampling"
      ]
    },
    {
      "cell_type": "code",
      "execution_count": 46,
      "metadata": {
        "id": "WRI_-taRwOXO",
        "vscode": {
          "languageId": "r"
        }
      },
      "outputs": [],
      "source": [
        "  # entreno LightGBM\n",
        "\n",
        "  modelo_final <- lgb.train(\n",
        "    data= dtrain,\n",
        "    param= param_normalizado\n",
        "  )"
      ]
    },
    {
      "cell_type": "code",
      "execution_count": 47,
      "metadata": {
        "id": "_bkhnCvj0g3Q",
        "vscode": {
          "languageId": "r"
        }
      },
      "outputs": [],
      "source": [
        "# ahora imprimo la importancia de variables\n",
        "\n",
        "tb_importancia <- as.data.table(lgb.importance(modelo_final))\n",
        "archivo_importancia <- \"impo.txt\"\n",
        "\n",
        "fwrite(tb_importancia,\n",
        "  file= archivo_importancia,\n",
        "  sep= \"\\t\"\n",
        ")"
      ]
    },
    {
      "cell_type": "code",
      "execution_count": 48,
      "metadata": {
        "id": "lZ3sLmbh0kFj",
        "vscode": {
          "languageId": "r"
        }
      },
      "outputs": [],
      "source": [
        "# grabo a disco el modelo en un formato para seres humanos ... ponele ...\n",
        "\n",
        "lgb.save(modelo_final, \"modelot5.txt\" )"
      ]
    },
    {
      "cell_type": "markdown",
      "metadata": {
        "id": "VEtp2--t5Ymg"
      },
      "source": [
        "### Scoring"
      ]
    },
    {
      "cell_type": "markdown",
      "metadata": {
        "id": "hI5008Mj5ZdI"
      },
      "source": [
        "Aplico el modelo final a los datos del futuro"
      ]
    },
    {
      "cell_type": "code",
      "execution_count": 49,
      "metadata": {
        "id": "PimBY3N_0ryP",
        "vscode": {
          "languageId": "r"
        }
      },
      "outputs": [],
      "source": [
        "# aplico el modelo a los datos sin clase\n",
        "dfuture <- dataset[foto_mes == 202109]\n",
        "\n",
        "# aplico el modelo a los datos nuevos\n",
        "prediccion <- predict(\n",
        "  modelo_final,\n",
        "  data.matrix(dfuture[, campos_buenos, with= FALSE])\n",
        ")"
      ]
    },
    {
      "cell_type": "markdown",
      "metadata": {
        "id": "D26rNRh55gpw"
      },
      "source": [
        "#### Tabla Prediccion"
      ]
    },
    {
      "cell_type": "code",
      "execution_count": 50,
      "metadata": {
        "id": "RJwg7LHd11yu",
        "vscode": {
          "languageId": "r"
        }
      },
      "outputs": [],
      "source": [
        "# tabla de prediccion\n",
        "\n",
        "tb_prediccion <- dfuture[, list(numero_de_cliente)]\n",
        "tb_prediccion[, prob := prediccion ]\n",
        "\n",
        "# grabo las probabilidad del modelo\n",
        "fwrite(tb_prediccion,\n",
        "  file= \"prediccion.txt\",\n",
        "  sep= \"\\t\"\n",
        ")"
      ]
    },
    {
      "cell_type": "markdown",
      "metadata": {
        "id": "jOt4eG_55ltv"
      },
      "source": [
        "Kaggle Competition Submit"
      ]
    },
    {
      "cell_type": "code",
      "execution_count": 51,
      "metadata": {
        "id": "gWW3tatE12je",
        "outputId": "9824c89a-eb20-404b-89de-3e5d765bdbc2",
        "vscode": {
          "languageId": "r"
        }
      },
      "outputs": [
        {
          "name": "stderr",
          "output_type": "stream",
          "text": [
            "Warning message in dir.create(\"kaggle\"):\n",
            "\"'kaggle' already exists\"\n",
            "Warning message in system(linea, intern = TRUE):\n",
            "\"running command 'kaggle competitions submit -c data-mining-analista-sr-2025-a -f ./kaggle/KA4940_10000.csv -m 'envios=10000  semilla=100151'' had status 1\"\n"
          ]
        },
        {
          "name": "stdout",
          "output_type": "stream",
          "text": [
            "403 Client Error: Forbidden for url: https://www.kaggle.com/api/v1/competitions/submission-url \n"
          ]
        },
        {
          "name": "stderr",
          "output_type": "stream",
          "text": [
            "Warning message in system(linea, intern = TRUE):\n",
            "\"running command 'kaggle competitions submit -c data-mining-analista-sr-2025-a -f ./kaggle/KA4940_10500.csv -m 'envios=10500  semilla=100151'' had status 1\"\n"
          ]
        },
        {
          "name": "stdout",
          "output_type": "stream",
          "text": [
            "403 Client Error: Forbidden for url: https://www.kaggle.com/api/v1/competitions/submission-url \n"
          ]
        },
        {
          "name": "stderr",
          "output_type": "stream",
          "text": [
            "Warning message in system(linea, intern = TRUE):\n",
            "\"running command 'kaggle competitions submit -c data-mining-analista-sr-2025-a -f ./kaggle/KA4940_11000.csv -m 'envios=11000  semilla=100151'' had status 1\"\n"
          ]
        },
        {
          "name": "stdout",
          "output_type": "stream",
          "text": [
            "403 Client Error: Forbidden for url: https://www.kaggle.com/api/v1/competitions/submission-url \n"
          ]
        },
        {
          "name": "stderr",
          "output_type": "stream",
          "text": [
            "Warning message in system(linea, intern = TRUE):\n",
            "\"running command 'kaggle competitions submit -c data-mining-analista-sr-2025-a -f ./kaggle/KA4940_11500.csv -m 'envios=11500  semilla=100151'' had status 1\"\n"
          ]
        },
        {
          "name": "stdout",
          "output_type": "stream",
          "text": [
            "403 Client Error: Forbidden for url: https://www.kaggle.com/api/v1/competitions/submission-url \n"
          ]
        },
        {
          "name": "stderr",
          "output_type": "stream",
          "text": [
            "Warning message in system(linea, intern = TRUE):\n",
            "\"running command 'kaggle competitions submit -c data-mining-analista-sr-2025-a -f ./kaggle/KA4940_12000.csv -m 'envios=12000  semilla=100151'' had status 1\"\n"
          ]
        },
        {
          "name": "stdout",
          "output_type": "stream",
          "text": [
            "403 Client Error: Forbidden for url: https://www.kaggle.com/api/v1/competitions/submission-url \n"
          ]
        }
      ],
      "source": [
        "# genero archivos con los  \"envios\" mejores\n",
        "# suba TODOS los archivos a Kaggle\n",
        "\n",
        "# ordeno por probabilidad descendente\n",
        "setorder(tb_prediccion, -prob)\n",
        "\n",
        "dir.create(\"kaggle\")\n",
        "\n",
        "for (envios in PARAM$kaggle$cortes) {\n",
        "\n",
        "  tb_prediccion[, Predicted := 0L] # seteo inicial a 0\n",
        "  tb_prediccion[1:envios, Predicted := 1L] # marclo los primeros\n",
        "\n",
        "  archivo_kaggle <- paste0(\"./kaggle/KA\", PARAM$experimento, \"_\", envios, \".csv\")\n",
        "\n",
        "  # grabo el archivo\n",
        "  fwrite(tb_prediccion[, list(numero_de_cliente, Predicted)],\n",
        "    file= archivo_kaggle,\n",
        "    sep= \",\"\n",
        "  )\n",
        "\n",
        "  # subida a Kaggle, armo la linea de comando\n",
        "  comando <- \"kaggle competitions submit\"\n",
        "  competencia <- paste(\"-c\", PARAM$kaggle$competencia)\n",
        "  arch <- paste( \"-f\", archivo_kaggle)\n",
        "\n",
        "  mensaje <- paste0(\"-m 'envios=\", envios,\n",
        "  \"  semilla=\", PARAM$semilla_primigenia,\n",
        "    \"'\" )\n",
        "\n",
        "  linea <- paste( comando, competencia, arch, mensaje)\n",
        "\n",
        "  salida <- system(linea, intern=TRUE) # el submit a Kaggle\n",
        "  cat(salida, \"\\n\")\n",
        "}"
      ]
    },
    {
      "cell_type": "code",
      "execution_count": 52,
      "metadata": {
        "id": "B9tB2X4439Hg",
        "vscode": {
          "languageId": "r"
        }
      },
      "outputs": [],
      "source": [
        "write_yaml( PARAM, file=\"PARAM.yml\")"
      ]
    },
    {
      "cell_type": "code",
      "execution_count": 53,
      "metadata": {
        "id": "9zA_W25c15DP",
        "outputId": "55c1e948-4585-4637-f888-c1913ed38db6",
        "vscode": {
          "languageId": "r"
        }
      },
      "outputs": [
        {
          "data": {
            "text/html": [
              "'Sun Aug 03 5:04:33 PM 2025'"
            ],
            "text/latex": [
              "'Sun Aug 03 5:04:33 PM 2025'"
            ],
            "text/markdown": [
              "'Sun Aug 03 5:04:33 PM 2025'"
            ],
            "text/plain": [
              "[1] \"Sun Aug 03 5:04:33 PM 2025\""
            ]
          },
          "metadata": {},
          "output_type": "display_data"
        }
      ],
      "source": [
        "format(Sys.time(), \"%a %b %d %X %Y\")"
      ]
    },
    {
      "cell_type": "markdown",
      "metadata": {
        "id": "UdVZucdLHzZ0"
      },
      "source": [
        "Finalmente usted deberá cargar el resultado de su corrida en la Google Sheet Colaborativa,  hoja **TareaHogar04**\n",
        "<br> Siéntase libre de agregar las columnas que hagan falta a la planilla"
      ]
    },
    {
      "cell_type": "code",
      "execution_count": null,
      "metadata": {
        "id": "WMHh7uNVIJkT",
        "vscode": {
          "languageId": "r"
        }
      },
      "outputs": [],
      "source": []
    }
  ],
  "metadata": {
    "colab": {
      "include_colab_link": true,
      "provenance": []
    },
    "kernelspec": {
      "display_name": "R",
      "language": "R",
      "name": "ir"
    },
    "language_info": {
      "codemirror_mode": "r",
      "file_extension": ".r",
      "mimetype": "text/x-r-source",
      "name": "R",
      "pygments_lexer": "r",
      "version": "4.5.1"
    }
  },
  "nbformat": 4,
  "nbformat_minor": 0
}
