{
  "cells": [
    {
      "cell_type": "markdown",
      "metadata": {
        "colab_type": "text",
        "id": "view-in-github"
      },
      "source": [
        "<a href=\"https://colab.research.google.com/github/ldebris/dm2025a/blob/main/src/ensembles/494_TareaHogar_04%20-%20p6.ipynb\" target=\"_parent\"><img src=\"https://colab.research.google.com/assets/colab-badge.svg\" alt=\"Open In Colab\"/></a>"
      ]
    },
    {
      "cell_type": "markdown",
      "metadata": {
        "id": "0cEmzeUKFkPh"
      },
      "source": [
        "# Tarea para el Hogar 04"
      ]
    },
    {
      "cell_type": "markdown",
      "metadata": {
        "id": "nSICPpyTGQmC"
      },
      "source": [
        "Esta Tarea para el Hogar 02 se entrega el final de la cuarta clase\n",
        "<br> se espera de usted que intente avanzar con los desafios propuestos y que los traiga terminados para la Clase 05 que será el viernes 01-agosto"
      ]
    },
    {
      "cell_type": "markdown",
      "metadata": {
        "id": "DenyKXkiJ5JN"
      },
      "source": [
        "##  1. Cazatalentos"
      ]
    },
    {
      "cell_type": "markdown",
      "metadata": {
        "id": "l-K2_ZsZGrVD"
      },
      "source": [
        "En la Clase 03 nos hemos enfrentado a  \"La Maldicion del Ganandor\",  elegir el modelo con el mejor puntaje simple no suele ser la mejor estrategia.\n",
        "<br> Lea y ejecute el notebook  **src/CazaTalentos/CazaTalentos.ipynb**\n",
        "<br> en caso de interesarle, participe del Desafío Ordenamiento  que vence el sábado 02 de agosto a las 19:00"
      ]
    },
    {
      "cell_type": "markdown",
      "metadata": {
        "id": "K9GkTOk5J9t3"
      },
      "source": [
        "## 2. Hiperparámetros del LightGBM"
      ]
    },
    {
      "cell_type": "markdown",
      "metadata": {
        "id": "VmEFy0ukKL5T"
      },
      "source": [
        "Los objetivos de esta tarea son:\n",
        "\n",
        "\n",
        "*   Aumentar la rentabilidad de la campaña de marketing de retención proactiva de clientes.\n",
        "*   Generar un mejor modelo optimizando sus hiperparámetros\n",
        "*   Conceptual : investigar los mas relevantes hiperparámetros de LightGBM\n",
        "*   Familiarizarse con la Bayesian Optimization, sus largos tiempos de corrida y opciones para reducirlos\n",
        "*   Familiarizarse con el uso de máquinas virtuales de Google Colab\n",
        "*   Ver un pipeline completo de optimización de hiperparámetros y puesta en producción"
      ]
    },
    {
      "cell_type": "markdown",
      "metadata": {
        "id": "5yvlS6JQLRMd"
      },
      "source": [
        "LightGBM cuenta con mas de 60 hiperparámetros, siendo posible utilizar 40 al mismo tiempo, aunque no razonable.\n",
        "<br> La documentación oficial de los hiperparámetros de LightGBM es  https://lightgbm.readthedocs.io/en/latest/Parameters.html#core-parameters\n"
      ]
    },
    {
      "cell_type": "markdown",
      "metadata": {
        "id": "eydI4YNAsFaf"
      },
      "source": [
        "Se lo alerta sobre que una Optimizacion Bayesiana lleva varias horas de corrida, y usted deberá correr VARIAS optimizaciones para descubrir cuales parámetros conviene optimizar.\n",
        "<br> A pesar que la próxima clase es recien en viernes 01 de agosto, inicie la tarea con tiempo, aprenda a planificar estratégicamente sus corridas como un@ científ@  de datos."
      ]
    },
    {
      "cell_type": "markdown",
      "metadata": {
        "id": "RzU4S0SeMcpp"
      },
      "source": [
        "Es necesario investigar cuales son los hiperparámetros de LightGBM que vale la pena optimizar en una Bayesian Optimization, ya que los realmente utiles son apenas un reducido subconjunto.\n",
        "<br>Usted deberá investigar cuales son los hiperparámetros mas relevantes de LightGBM, su primer alternativa es preguntándole a su amigo con capacidades especiales ChatGPT o sus endogámicos familiares Claude, DeepSeek, Gemini, Grok, etc\n",
        "<br> La segunda alternativa es la propia documentación de LightGBM  https://lightgbm.readthedocs.io/en/latest/Parameters-Tuning.html\n"
      ]
    },
    {
      "cell_type": "markdown",
      "metadata": {
        "id": "LNptUgI_NWWG"
      },
      "source": [
        "Adicionalmente podra buscar información como la que proveen esta diminuta muestra aleatoria de artículos ligeros:\n",
        "*  https://medium.com/@sarahzouinina/a-deep-dive-into-lightgbm-how-to-choose-and-tune-parameters-7c584945842e\n",
        "*  https://www.kaggle.com/code/somang1418/tuning-hyperparameters-under-10-minutes-lgbm\n",
        "*  https://towardsdatascience.com/beginners-guide-to-the-must-know-lightgbm-hyperparameters-a0005a812702/\n",
        "\n",
        "\n",
        "<br>  La muestra anterior se brinda a modo de ejemplo, usted deberá buscar muuuuchas  fuentes adicionales de información\n",
        "<br> Tenga presente que LightGBM es el estado del arte en modelado predictivo para datasets estructurado, que son el 90% del trabajo del 95% de los Data Scientists en Argentina."
      ]
    },
    {
      "cell_type": "markdown",
      "metadata": {
        "id": "WpUThBojODyK"
      },
      "source": [
        "El desafío de esta tarea es:\n",
        "* Qué hiperparparámetros conviene optimizar?  Las recomendaciones de los artículos ligeros es siempre sensata?  Sus autores realmente hicieron experimentos o son siemplemente escritores de entretenimiento carente de base científica?\n",
        "* Elegidos los hiperparámetros, cual es el  <desde, hasta> que se debe utilizar en la Bayesian Optimization ?\n",
        "* Realmente vale la pena optimizar 10 o 16 hiperparámetros al mismo tiempo ?  No resulta contraproducente una búsqueda en un espacio de tal alta dimensionalidad ?"
      ]
    },
    {
      "cell_type": "markdown",
      "metadata": {
        "id": "PX0qg_c0yqob"
      },
      "source": [
        "#### 2.1  Seteo del ambiente en Google Colab"
      ]
    },
    {
      "cell_type": "markdown",
      "metadata": {
        "id": "NGY7H9xza7Zr"
      },
      "source": [
        "Esta parte se debe correr con el runtime en Python3\n",
        "<br>Ir al menu, Runtime -> Change Runtime Type -> Runtime type ->  **Python 3**"
      ]
    },
    {
      "cell_type": "markdown",
      "metadata": {
        "id": "7PupIBNba7Zr"
      },
      "source": [
        "Conectar la virtual machine donde esta corriendo Google Colab con el  Google Drive, para poder tener persistencia de archivos"
      ]
    },
    {
      "cell_type": "code",
      "execution_count": null,
      "metadata": {
        "colab": {
          "base_uri": "https://localhost:8080/"
        },
        "id": "9LpZCst5a7Zs",
        "outputId": "d500808e-50b7-4d9c-f38d-c4820304e6f2",
        "vscode": {
          "languageId": "r"
        }
      },
      "outputs": [
        {
          "name": "stdout",
          "output_type": "stream",
          "text": [
            "Mounted at /content/.drive\n"
          ]
        }
      ],
      "source": [
        "# primero establecer el Runtime de Python 3\n",
        "from google.colab import drive\n",
        "drive.mount('/content/.drive')"
      ]
    },
    {
      "cell_type": "markdown",
      "metadata": {
        "id": "JYC_F-wla7Zs"
      },
      "source": [
        "Para correr la siguiente celda es fundamental en Arranque en Frio haber copiado el archivo kaggle.json al Google Drive, en la carpeta indicada en el instructivo\n",
        "\n",
        "<br>los siguientes comando estan en shell script de Linux\n",
        "*   Crear las carpetas en el Google Drive\n",
        "*   \"instalar\" el archivo kaggle.json desde el Google Drive a la virtual machine para que pueda ser utilizado por la libreria  kaggle de Python\n",
        "*   Bajar el  **dataset_pequeno**  al  Google Drive  y tambien al disco local de la virtual machine que esta corriendo Google Colab\n",
        "\n"
      ]
    },
    {
      "cell_type": "code",
      "execution_count": null,
      "metadata": {
        "colab": {
          "base_uri": "https://localhost:8080/"
        },
        "id": "XWLelftXa7Zt",
        "outputId": "3810f2b9-2809-4aab-c398-256645526c72",
        "vscode": {
          "languageId": "r"
        }
      },
      "outputs": [
        {
          "data": {
            "text/plain": []
          },
          "execution_count": 2,
          "metadata": {},
          "output_type": "execute_result"
        }
      ],
      "source": [
        "%%shell\n",
        "\n",
        "mkdir -p \"/content/.drive/My Drive/dm\"\n",
        "mkdir -p \"/content/buckets\"\n",
        "ln -s \"/content/.drive/My Drive/dm\" /content/buckets/b1\n",
        "\n",
        "mkdir -p ~/.kaggle\n",
        "cp /content/buckets/b1/kaggle/kaggle.json  ~/.kaggle\n",
        "chmod 600 ~/.kaggle/kaggle.json\n",
        "\n",
        "\n",
        "mkdir -p /content/buckets/b1/exp\n",
        "mkdir -p /content/buckets/b1/datasets\n",
        "mkdir -p /content/datasets\n",
        "\n",
        "\n",
        "\n",
        "archivo_origen=\"https://storage.googleapis.com/open-courses/itba2025-8d0a/dataset_pequeno.csv\"\n",
        "archivo_destino=\"/content/datasets/dataset_pequeno.csv\"\n",
        "archivo_destino_bucket=\"/content/buckets/b1/datasets/dataset_pequeno.csv\"\n",
        "\n",
        "if ! test -f $archivo_destino_bucket; then\n",
        "  wget  $archivo_origen  -O $archivo_destino_bucket\n",
        "fi\n",
        "\n",
        "\n",
        "if ! test -f $archivo_destino; then\n",
        "  cp  $archivo_destino_bucket  $archivo_destino\n",
        "fi\n"
      ]
    },
    {
      "cell_type": "markdown",
      "metadata": {
        "id": "oSKhZRToy2F7"
      },
      "source": [
        "### 2.2 Optimizacion Hiperparámetros"
      ]
    },
    {
      "cell_type": "markdown",
      "metadata": {
        "id": "2kwPpHAtSmix"
      },
      "source": [
        "Esta parte se debe correr con el runtime en lenguaje R Ir al menu, Runtime -> Change Runtime Type -> Runtime type -> R"
      ]
    },
    {
      "cell_type": "markdown",
      "metadata": {
        "id": "xp4-Bj3aYI8d"
      },
      "source": [
        "### 2.2.1 Inicio"
      ]
    },
    {
      "cell_type": "markdown",
      "metadata": {
        "id": "zy8YTZfESxeJ"
      },
      "source": [
        "limpio el ambiente de R"
      ]
    },
    {
      "cell_type": "code",
      "execution_count": 11,
      "metadata": {
        "colab": {
          "base_uri": "https://localhost:8080/",
          "height": 34
        },
        "id": "gBq__iAdQliq",
        "outputId": "44a02fcf-cc63-4969-b268-a4c71edf05f0",
        "vscode": {
          "languageId": "r"
        }
      },
      "outputs": [
        {
          "data": {
            "text/html": [
              "'Sun Aug 03 5:14:32 PM 2025'"
            ],
            "text/latex": [
              "'Sun Aug 03 5:14:32 PM 2025'"
            ],
            "text/markdown": [
              "'Sun Aug 03 5:14:32 PM 2025'"
            ],
            "text/plain": [
              "[1] \"Sun Aug 03 5:14:32 PM 2025\""
            ]
          },
          "metadata": {},
          "output_type": "display_data"
        }
      ],
      "source": [
        "format(Sys.time(), \"%a %b %d %X %Y\")"
      ]
    },
    {
      "cell_type": "code",
      "execution_count": 12,
      "metadata": {
        "colab": {
          "base_uri": "https://localhost:8080/",
          "height": 129
        },
        "id": "7rdVrBojS1IV",
        "outputId": "47eed01b-861c-485a-89b0-fa8d91b5c871",
        "vscode": {
          "languageId": "r"
        }
      },
      "outputs": [
        {
          "data": {
            "text/html": [
              "<table class=\"dataframe\">\n",
              "<caption>A matrix: 2 × 6 of type dbl</caption>\n",
              "<thead>\n",
              "\t<tr><th></th><th scope=col>used</th><th scope=col>(Mb)</th><th scope=col>gc trigger</th><th scope=col>(Mb)</th><th scope=col>max used</th><th scope=col>(Mb)</th></tr>\n",
              "</thead>\n",
              "<tbody>\n",
              "\t<tr><th scope=row>Ncells</th><td>2008931</td><td>107.3</td><td>3856450</td><td>206</td><td>2867900</td><td>153.2</td></tr>\n",
              "\t<tr><th scope=row>Vcells</th><td>3509056</td><td> 26.8</td><td>8388608</td><td> 64</td><td>5148457</td><td> 39.3</td></tr>\n",
              "</tbody>\n",
              "</table>\n"
            ],
            "text/latex": [
              "A matrix: 2 × 6 of type dbl\n",
              "\\begin{tabular}{r|llllll}\n",
              "  & used & (Mb) & gc trigger & (Mb) & max used & (Mb)\\\\\n",
              "\\hline\n",
              "\tNcells & 2008931 & 107.3 & 3856450 & 206 & 2867900 & 153.2\\\\\n",
              "\tVcells & 3509056 &  26.8 & 8388608 &  64 & 5148457 &  39.3\\\\\n",
              "\\end{tabular}\n"
            ],
            "text/markdown": [
              "\n",
              "A matrix: 2 × 6 of type dbl\n",
              "\n",
              "| <!--/--> | used | (Mb) | gc trigger | (Mb) | max used | (Mb) |\n",
              "|---|---|---|---|---|---|---|\n",
              "| Ncells | 2008931 | 107.3 | 3856450 | 206 | 2867900 | 153.2 |\n",
              "| Vcells | 3509056 |  26.8 | 8388608 |  64 | 5148457 |  39.3 |\n",
              "\n"
            ],
            "text/plain": [
              "       used    (Mb)  gc trigger (Mb) max used (Mb) \n",
              "Ncells 2008931 107.3 3856450    206  2867900  153.2\n",
              "Vcells 3509056  26.8 8388608     64  5148457   39.3"
            ]
          },
          "metadata": {},
          "output_type": "display_data"
        }
      ],
      "source": [
        "# limpio la memoria\n",
        "rm(list=ls(all.names=TRUE)) # remove all objects\n",
        "gc(full=TRUE, verbose=FALSE) # garbage collection"
      ]
    },
    {
      "cell_type": "markdown",
      "metadata": {
        "id": "kuPfQ7ksjwW3"
      },
      "source": [
        "### 2.2.2 Carga de Librerias"
      ]
    },
    {
      "cell_type": "code",
      "execution_count": 13,
      "metadata": {
        "colab": {
          "base_uri": "https://localhost:8080/"
        },
        "id": "lVyxLaJ1j1J_",
        "outputId": "bbfa32b7-bf73-405f-f9d6-7cfbf4e5abb4",
        "vscode": {
          "languageId": "r"
        }
      },
      "outputs": [],
      "source": [
        "# cargo las librerias que necesito\n",
        "require(\"data.table\")\n",
        "require(\"parallel\")\n",
        "\n",
        "if( !require(\"primes\") ) install.packages(\"primes\")\n",
        "require(\"primes\")\n",
        "\n",
        "if( !require(\"utils\") ) install.packages(\"utils\")\n",
        "require(\"utils\")\n",
        "\n",
        "if( !require(\"rlist\") ) install.packages(\"rlist\")\n",
        "require(\"rlist\")\n",
        "\n",
        "if( !require(\"yaml\")) install.packages(\"yaml\")\n",
        "require(\"yaml\")\n",
        "\n",
        "if( !require(\"lightgbm\") ) install.packages(\"lightgbm\")\n",
        "require(\"lightgbm\")\n",
        "\n",
        "if( !require(\"DiceKriging\") ) install.packages(\"DiceKriging\")\n",
        "require(\"DiceKriging\")\n",
        "\n",
        "if( !require(\"mlrMBO\") ) install.packages(\"mlrMBO\")\n",
        "require(\"mlrMBO\")"
      ]
    },
    {
      "cell_type": "markdown",
      "metadata": {
        "id": "Iz-6Qt6BUaA3"
      },
      "source": [
        "### 2.2.3 Definicion de Parametros"
      ]
    },
    {
      "cell_type": "markdown",
      "metadata": {
        "id": "cOdlKd7lUm2I"
      },
      "source": [
        "aqui debe cargar SU semilla primigenia\n",
        "<br>recuerde cambiar el numero de experimento en cada corrida nueva"
      ]
    },
    {
      "cell_type": "code",
      "execution_count": 14,
      "metadata": {
        "id": "ASYkebOu2mF6",
        "vscode": {
          "languageId": "r"
        }
      },
      "outputs": [],
      "source": [
        "PARAM <- list()\n",
        "PARAM$experimento <- 4940\n",
        "PARAM$semilla_primigenia <- 100151\n"
      ]
    },
    {
      "cell_type": "code",
      "execution_count": 15,
      "metadata": {
        "id": "ezOhQdbA293o",
        "vscode": {
          "languageId": "r"
        }
      },
      "outputs": [],
      "source": [
        "PARAM$kaggle$competencia <- \"data-mining-analista-sr-2025-a\"\n",
        "PARAM$kaggle$cortes <- seq(10000, 12000, by= 500)"
      ]
    },
    {
      "cell_type": "code",
      "execution_count": 16,
      "metadata": {
        "id": "jtB0Lub42rHO",
        "vscode": {
          "languageId": "r"
        }
      },
      "outputs": [],
      "source": [
        "# un undersampling de 0.1  toma solo el 10% de los CONTINUA\n",
        "# undersampling de 1.0  implica tomar TODOS los datos\n",
        "\n",
        "PARAM$trainingstrategy$undersampling <- 0.5"
      ]
    },
    {
      "cell_type": "code",
      "execution_count": 17,
      "metadata": {
        "id": "OFxm-xiNUOJX",
        "vscode": {
          "languageId": "r"
        }
      },
      "outputs": [],
      "source": [
        "# Parametros LightGBM\n",
        "\n",
        "PARAM$hyperparametertuning$xval_folds <- 5\n",
        "\n",
        "# parametros fijos del LightGBM que se pisaran con la parte variable de la BO\n",
        "PARAM$lgbm$param_fijos <-  list(\n",
        "  boosting= \"gbdt\", # puede ir  dart  , ni pruebe random_forest\n",
        "  objective= \"binary\",\n",
        "  metric= \"auc\",\n",
        "  first_metric_only= FALSE,\n",
        "  boost_from_average= TRUE,\n",
        "  feature_pre_filter= FALSE,\n",
        "  force_row_wise= TRUE, # para reducir warnings\n",
        "  verbosity= -100,\n",
        "\n",
        "  seed= PARAM$semilla_primigenia,\n",
        "\n",
        "  max_depth= 10L, # -1 significa no limitar,  por ahora lo dejo fijo\n",
        "  min_gain_to_split= 0.166162, # min_gain_to_split >= 0\n",
        "  min_sum_hessian_in_leaf= 0.001, #  min_sum_hessian_in_leaf >= 0.0\n",
        "  lambda_l1= 3.8685, # lambda_l1 >= 0.0\n",
        "  lambda_l2= 4.086, # lambda_l2 >= 0.0\n",
        "  max_bin= 31L, # lo debo dejar fijo, no participa de la BO\n",
        "\n",
        "  bagging_fraction= 0.9066, # 0.0 < bagging_fraction <= 1.0\n",
        "  pos_bagging_fraction= 1.0, # 0.0 < pos_bagging_fraction <= 1.0\n",
        "  neg_bagging_fraction= 1.0, # 0.0 < neg_bagging_fraction <= 1.0\n",
        "  is_unbalance= FALSE, #\n",
        "  scale_pos_weight= 1.0, # scale_pos_weight > 0.0\n",
        "\n",
        "  drop_rate= 0.1, # 0.0 < neg_bagging_fraction <= 1.0\n",
        "  max_drop= 50, # <=0 means no limit\n",
        "  skip_drop= 0.5, # 0.0 <= skip_drop <= 1.0\n",
        "\n",
        "  extra_trees= FALSE,\n",
        "\n",
        "  num_iterations= 1000,\n",
        "  learning_rate= 0.010564,\n",
        "  feature_fraction= 0.4896,\n",
        "  num_leaves= 140,\n",
        "  min_data_in_leaf= 60\n",
        ")\n"
      ]
    },
    {
      "cell_type": "markdown",
      "metadata": {
        "id": "D5Yj-JV4yvOt"
      },
      "source": [
        "Aqui se definen los hiperparámetros de LightGBM que participan de la Bayesian Optimization\n",
        "<br> si es un numero entero debe ir  makeIntegerParam\n",
        "<br> si es un numero real (con decimales) debe ir  makeNumericParam\n",
        "<br> es muy importante leer cuales son un lower y upper  permitidos y ademas razonables"
      ]
    },
    {
      "cell_type": "code",
      "execution_count": 18,
      "metadata": {
        "id": "jENpR26ZyuS8",
        "vscode": {
          "languageId": "r"
        }
      },
      "outputs": [],
      "source": [
        "# Aqui se cargan los bordes de los hiperparametros de la BO\n",
        "PARAM$hypeparametertuning$hs <- makeParamSet(\n",
        "  makeIntegerParam(\"num_iterations\", lower= 200L, upper= 2000L),\n",
        "  makeNumericParam(\"learning_rate\", lower= 0.005, upper= 0.05),\n",
        "  makeNumericParam(\"feature_fraction\", lower= 0.6, upper= 0.95),\n",
        "  makeIntegerParam(\"num_leaves\", lower= 32L, upper= 512L),\n",
        "  makeIntegerParam(\"min_data_in_leaf\", lower= 50L, upper= 1000L)\n",
        ")"
      ]
    },
    {
      "cell_type": "markdown",
      "metadata": {
        "id": "-_RPFUb3zMoW"
      },
      "source": [
        "A mayor cantidad de hiperparámetros, se debe aumentar las iteraciones de la Bayesian Optimization\n",
        "<br> 30 es un valor muy tacaño, pero corre rápido\n",
        "<br> deberia partir de 50, alcanzando los 100 si se dispone de tiempo"
      ]
    },
    {
      "cell_type": "code",
      "execution_count": 20,
      "metadata": {
        "id": "q5Rd3pnbzSiG",
        "vscode": {
          "languageId": "r"
        }
      },
      "outputs": [],
      "source": [
        "PARAM$hyperparametertuning$iteraciones <- 60 # iteraciones bayesianas"
      ]
    },
    {
      "cell_type": "markdown",
      "metadata": {
        "id": "4RWZXL1VZjMI"
      },
      "source": [
        "### 2.2.4  Preprocesamiento"
      ]
    },
    {
      "cell_type": "code",
      "execution_count": 22,
      "metadata": {
        "id": "j3toG9-lZm4K",
        "vscode": {
          "languageId": "r"
        }
      },
      "outputs": [],
      "source": [
        "# Ruta base donde querés guardar los experimentos\n",
        "base_path <- \"C:/Users/Luis/Documents/dm2025a-4\"\n",
        "\n",
        "# Crear carpeta del experimento\n",
        "experimento_folder <- paste0(\"HT\", PARAM$experimento)\n",
        "experimento_path <- file.path(base_path, experimento_folder)\n",
        "\n",
        "# Crear las carpetas si no existen\n",
        "dir.create(experimento_path, showWarnings = FALSE, recursive = TRUE)\n",
        "\n",
        "# Cambiar al directorio del experimento\n",
        "setwd(experimento_path)\n"
      ]
    },
    {
      "cell_type": "code",
      "execution_count": 23,
      "metadata": {
        "id": "FM3lxKoLZ643",
        "vscode": {
          "languageId": "r"
        }
      },
      "outputs": [],
      "source": [
        "library(data.table)\n",
        "\n",
        "# Ruta correcta en tu PC\n",
        "dataset <- fread(\"C:/Users/Luis/Documents/dm2025a-4/dataset_pequeno.csv\")\n"
      ]
    },
    {
      "cell_type": "code",
      "execution_count": 24,
      "metadata": {
        "id": "OsJ-91UeZ-I_",
        "vscode": {
          "languageId": "r"
        }
      },
      "outputs": [],
      "source": [
        "dataset_train <- dataset[foto_mes %in% c(202107)]"
      ]
    },
    {
      "cell_type": "code",
      "execution_count": 25,
      "metadata": {
        "id": "vrWE7BE0aB2J",
        "vscode": {
          "languageId": "r"
        }
      },
      "outputs": [],
      "source": [
        "# paso la clase a binaria que tome valores {0,1}  enteros\n",
        "#  BAJA+1 y BAJA+2  son  1,   CONTINUA es 0\n",
        "\n",
        "dataset_train[,\n",
        "  clase01 := ifelse(clase_ternaria %in% c(\"BAJA+2\",\"BAJA+1\"), 1L, 0L)\n",
        "]"
      ]
    },
    {
      "cell_type": "markdown",
      "metadata": {
        "id": "8yvBmW-X1XD0"
      },
      "source": [
        "**CAMBIO EL DATASET ORIGINAL COMO DATASET CUANTICO, AGREGO LAS LINEAS DE CODIGO PARA VER SI MEJORA EL AUC:**"
      ]
    },
    {
      "cell_type": "code",
      "execution_count": null,
      "metadata": {
        "id": "9ucvUpXQ1qxJ",
        "vscode": {
          "languageId": "r"
        }
      },
      "outputs": [],
      "source": []
    },
    {
      "cell_type": "code",
      "execution_count": 26,
      "metadata": {
        "id": "jP7YlQBnaW6W",
        "vscode": {
          "languageId": "r"
        }
      },
      "outputs": [],
      "source": [
        "# defino los datos que forma parte del training\n",
        "# aqui se hace el undersampling de los CONTINUA\n",
        "# notar que para esto utilizo la SEGUNDA semilla\n",
        "\n",
        "set.seed(PARAM$semilla_primigenia, kind = \"L'Ecuyer-CMRG\")\n",
        "dataset_train[, azar := runif(nrow(dataset_train))]\n",
        "dataset_train[, training := 0L]\n",
        "\n",
        "dataset_train[\n",
        "  foto_mes %in% c(202107) &\n",
        "    (azar <= PARAM$trainingstrategy$undersampling | clase_ternaria %in% c(\"BAJA+1\", \"BAJA+2\")),\n",
        "  training := 1L\n",
        "]"
      ]
    },
    {
      "cell_type": "code",
      "execution_count": 27,
      "metadata": {
        "id": "xElu4s5W4rX7",
        "vscode": {
          "languageId": "r"
        }
      },
      "outputs": [],
      "source": [
        "# los campos que se van a utilizar\n",
        "\n",
        "campos_buenos <- setdiff(\n",
        "  colnames(dataset_train),\n",
        "  c(\"clase_ternaria\", \"clase01\", \"azar\", \"training\")\n",
        ")"
      ]
    },
    {
      "cell_type": "code",
      "execution_count": 28,
      "metadata": {
        "colab": {
          "base_uri": "https://localhost:8080/",
          "height": 52
        },
        "id": "PppMHcGYaaol",
        "outputId": "8184e8b0-baf8-440e-d293-4aa32c398ce1",
        "vscode": {
          "languageId": "r"
        }
      },
      "outputs": [
        {
          "data": {
            "text/html": [
              "83383"
            ],
            "text/latex": [
              "83383"
            ],
            "text/markdown": [
              "83383"
            ],
            "text/plain": [
              "[1] 83383"
            ]
          },
          "metadata": {},
          "output_type": "display_data"
        },
        {
          "data": {
            "text/html": [
              "154"
            ],
            "text/latex": [
              "154"
            ],
            "text/markdown": [
              "154"
            ],
            "text/plain": [
              "[1] 154"
            ]
          },
          "metadata": {},
          "output_type": "display_data"
        }
      ],
      "source": [
        "# dejo los datos en el formato que necesita LightGBM\n",
        "\n",
        "dtrain <- lgb.Dataset(\n",
        "  data= data.matrix(dataset_train[training == 1L, campos_buenos, with= FALSE]),\n",
        "  label= dataset_train[training == 1L, clase01],\n",
        "  free_raw_data= FALSE\n",
        ")\n",
        "\n",
        "nrow(dtrain)\n",
        "ncol(dtrain)"
      ]
    },
    {
      "cell_type": "markdown",
      "metadata": {
        "id": "Ta-EkOu3cphF"
      },
      "source": [
        "2.2.5 Configuracion Bayesian Optimization"
      ]
    },
    {
      "cell_type": "code",
      "execution_count": 29,
      "metadata": {
        "id": "cjgfurjdfiXb",
        "vscode": {
          "languageId": "r"
        }
      },
      "outputs": [],
      "source": [
        "# En el argumento x llegan los parmaetros de la bayesiana\n",
        "#  devuelve la AUC en cross validation del modelo entrenado\n",
        "\n",
        "EstimarGanancia_AUC_lightgbm <- function(x) {\n",
        "\n",
        "  # x pisa (o agrega) a param_fijos\n",
        "  param_completo <- modifyList(PARAM$lgbm$param_fijos, x)\n",
        "\n",
        "  # entreno LightGBM\n",
        "  modelocv <- lgb.cv(\n",
        "    data= dtrain,\n",
        "    nfold= PARAM$hyperparametertuning$xval_folds,\n",
        "    stratified= TRUE,\n",
        "    param= param_completo\n",
        "  )\n",
        "\n",
        "  # obtengo la ganancia\n",
        "  AUC <- modelocv$best_score\n",
        "\n",
        "  # hago espacio en la memoria\n",
        "  rm(modelocv)\n",
        "  gc(full= TRUE, verbose= FALSE)\n",
        "\n",
        "  message(format(Sys.time(), \"%a %b %d %X %Y\"), \" AUC \", AUC)\n",
        "\n",
        "  return(AUC)\n",
        "}"
      ]
    },
    {
      "cell_type": "code",
      "execution_count": 30,
      "metadata": {
        "id": "_n18k1FpNsSl",
        "vscode": {
          "languageId": "r"
        }
      },
      "outputs": [],
      "source": [
        "# Aqui comienza la configuracion de la Bayesian Optimization\n",
        "\n",
        "# en este archivo quedan la evolucion binaria de la BO\n",
        "kbayesiana <- \"bayesiana.RDATA\"\n",
        "\n",
        "funcion_optimizar <- EstimarGanancia_AUC_lightgbm # la funcion que voy a maximizar\n",
        "\n",
        "configureMlr(show.learner.output= FALSE)\n",
        "\n",
        "# configuro la busqueda bayesiana,  los hiperparametros que se van a optimizar\n",
        "# por favor, no desesperarse por lo complejo\n",
        "\n",
        "obj.fun <- makeSingleObjectiveFunction(\n",
        "  fn= funcion_optimizar, # la funcion que voy a maximizar\n",
        "  minimize= FALSE, # estoy Maximizando la ganancia\n",
        "  noisy= TRUE,\n",
        "  par.set= PARAM$hypeparametertuning$hs, # definido al comienzo del programa\n",
        "  has.simple.signature= FALSE # paso los parametros en una lista\n",
        ")\n",
        "\n",
        "# cada 600 segundos guardo el resultado intermedio\n",
        "ctrl <- makeMBOControl(\n",
        "  save.on.disk.at.time= 600, # se graba cada 600 segundos\n",
        "  save.file.path= kbayesiana\n",
        ") # se graba cada 600 segundos\n",
        "\n",
        "# indico la cantidad de iteraciones que va a tener la Bayesian Optimization\n",
        "ctrl <- setMBOControlTermination(\n",
        "  ctrl,\n",
        "  iters= PARAM$hyperparametertuning$iteraciones\n",
        ") # cantidad de iteraciones\n",
        "\n",
        "# defino el método estandar para la creacion de los puntos iniciales,\n",
        "# los \"No Inteligentes\"\n",
        "ctrl <- setMBOControlInfill(ctrl, crit= makeMBOInfillCritEI())\n",
        "\n",
        "# establezco la funcion que busca el maximo\n",
        "surr.km <- makeLearner(\n",
        "  \"regr.km\",\n",
        "  predict.type= \"se\",\n",
        "  covtype= \"matern3_2\",\n",
        "  control= list(trace= TRUE)\n",
        ")\n"
      ]
    },
    {
      "cell_type": "markdown",
      "metadata": {
        "id": "_uUeVo5pc4zc"
      },
      "source": [
        "2.2.6 Corrida Bayesian Optimization"
      ]
    },
    {
      "cell_type": "code",
      "execution_count": 33,
      "metadata": {
        "colab": {
          "base_uri": "https://localhost:8080/"
        },
        "id": "RcABNaKGciaz",
        "outputId": "05cf5bbe-4cef-4e51-a2a0-41b25c8aeed1",
        "vscode": {
          "languageId": "r"
        }
      },
      "outputs": [
        {
          "name": "stderr",
          "output_type": "stream",
          "text": [
            "Computing y column(s) for design. Not provided.\n",
            "\n",
            "Sun Aug 03 5:19:34 PM 2025 AUC 0.930199347652704\n",
            "\n",
            "Sun Aug 03 5:20:33 PM 2025 AUC 0.929833437283986\n",
            "\n",
            "Sun Aug 03 5:21:22 PM 2025 AUC 0.930157496490457\n",
            "\n",
            "Sun Aug 03 5:22:06 PM 2025 AUC 0.929664889237024\n",
            "\n",
            "Sun Aug 03 5:23:45 PM 2025 AUC 0.930257852038083\n",
            "\n",
            "Sun Aug 03 5:25:27 PM 2025 AUC 0.928308301432384\n",
            "\n",
            "Sun Aug 03 5:26:15 PM 2025 AUC 0.929795430618043\n",
            "\n",
            "Sun Aug 03 5:27:08 PM 2025 AUC 0.930408259034015\n",
            "\n",
            "Sun Aug 03 5:27:27 PM 2025 AUC 0.929028591426607\n",
            "\n",
            "Sun Aug 03 5:28:34 PM 2025 AUC 0.928655752986546\n",
            "\n",
            "Sun Aug 03 5:29:21 PM 2025 AUC 0.929264296240937\n",
            "\n",
            "Sun Aug 03 5:31:29 PM 2025 AUC 0.930017889211998\n",
            "\n",
            "Sun Aug 03 5:32:42 PM 2025 AUC 0.929977229361385\n",
            "\n",
            "Sun Aug 03 5:33:27 PM 2025 AUC 0.929002806043041\n",
            "\n",
            "Sun Aug 03 5:33:57 PM 2025 AUC 0.928820426792437\n",
            "\n",
            "Sun Aug 03 5:34:58 PM 2025 AUC 0.930449733180671\n",
            "\n",
            "Sun Aug 03 5:35:33 PM 2025 AUC 0.929015505824027\n",
            "\n",
            "Sun Aug 03 5:36:33 PM 2025 AUC 0.929451840012433\n",
            "\n",
            "Sun Aug 03 5:36:59 PM 2025 AUC 0.920339868470336\n",
            "\n",
            "Sun Aug 03 5:37:49 PM 2025 AUC 0.929785286392295\n",
            "\n",
            "[mbo] 0: num_iterations=1720; learning_rate=0.011; feature_fraction=0.802; num_leaves=71; min_data_in_leaf=308 : y = 0.93 : 165.9 secs : initdesign\n",
            "\n",
            "[mbo] 0: num_iterations=931; learning_rate=0.0237; feature_fraction=0.737; num_leaves=203; min_data_in_leaf=625 : y = 0.93 : 59.9 secs : initdesign\n",
            "\n",
            "[mbo] 0: num_iterations=1243; learning_rate=0.0374; feature_fraction=0.771; num_leaves=372; min_data_in_leaf=353 : y = 0.93 : 48.8 secs : initdesign\n",
            "\n",
            "[mbo] 0: num_iterations=909; learning_rate=0.0363; feature_fraction=0.68; num_leaves=246; min_data_in_leaf=533 : y = 0.93 : 44.0 secs : initdesign\n",
            "\n",
            "[mbo] 0: num_iterations=1782; learning_rate=0.0173; feature_fraction=0.662; num_leaves=301; min_data_in_leaf=259 : y = 0.93 : 99.2 secs : initdesign\n",
            "\n",
            "[mbo] 0: num_iterations=1438; learning_rate=0.0125; feature_fraction=0.947; num_leaves=432; min_data_in_leaf=986 : y = 0.928 : 101.6 secs : initdesign\n",
            "\n",
            "[mbo] 0: num_iterations=782; learning_rate=0.0291; feature_fraction=0.617; num_leaves=461; min_data_in_leaf=863 : y = 0.93 : 48.4 secs : initdesign\n",
            "\n",
            "[mbo] 0: num_iterations=720; learning_rate=0.0219; feature_fraction=0.925; num_leaves=32; min_data_in_leaf=705 : y = 0.93 : 52.3 secs : initdesign\n",
            "\n",
            "[mbo] 0: num_iterations=223; learning_rate=0.0298; feature_fraction=0.873; num_leaves=192; min_data_in_leaf=501 : y = 0.929 : 19.9 secs : initdesign\n",
            "\n",
            "[mbo] 0: num_iterations=500; learning_rate=0.0155; feature_fraction=0.823; num_leaves=360; min_data_in_leaf=144 : y = 0.929 : 67.0 secs : initdesign\n",
            "\n",
            "[mbo] 0: num_iterations=1151; learning_rate=0.0489; feature_fraction=0.783; num_leaves=133; min_data_in_leaf=50 : y = 0.929 : 46.9 secs : initdesign\n",
            "\n",
            "[mbo] 0: num_iterations=1614; learning_rate=0.00792; feature_fraction=0.705; num_leaves=285; min_data_in_leaf=747 : y = 0.93 : 128.1 secs : initdesign\n",
            "\n",
            "[mbo] 0: num_iterations=1044; learning_rate=0.0207; feature_fraction=0.693; num_leaves=114; min_data_in_leaf=402 : y = 0.93 : 72.4 secs : initdesign\n",
            "\n",
            "[mbo] 0: num_iterations=1920; learning_rate=0.0451; feature_fraction=0.908; num_leaves=397; min_data_in_leaf=780 : y = 0.929 : 45.2 secs : initdesign\n",
            "\n",
            "[mbo] 0: num_iterations=333; learning_rate=0.0399; feature_fraction=0.852; num_leaves=471; min_data_in_leaf=612 : y = 0.929 : 29.7 secs : initdesign\n",
            "\n",
            "[mbo] 0: num_iterations=1337; learning_rate=0.0331; feature_fraction=0.619; num_leaves=492; min_data_in_leaf=193 : y = 0.93 : 61.2 secs : initdesign\n",
            "\n",
            "[mbo] 0: num_iterations=647; learning_rate=0.0467; feature_fraction=0.645; num_leaves=170; min_data_in_leaf=453 : y = 0.929 : 35.2 secs : initdesign\n",
            "\n",
            "[mbo] 0: num_iterations=1895; learning_rate=0.0262; feature_fraction=0.833; num_leaves=103; min_data_in_leaf=942 : y = 0.929 : 60.1 secs : initdesign\n",
            "\n",
            "[mbo] 0: num_iterations=400; learning_rate=0.00568; feature_fraction=0.748; num_leaves=271; min_data_in_leaf=822 : y = 0.92 : 25.2 secs : initdesign\n",
            "\n",
            "[mbo] 0: num_iterations=1499; learning_rate=0.0417; feature_fraction=0.884; num_leaves=339; min_data_in_leaf=173 : y = 0.93 : 50.6 secs : initdesign\n",
            "\n",
            "Saved the current state after iteration 1 in the file bayesiana.RDATA.\n",
            "\n",
            "Sun Aug 03 5:38:58 PM 2025 AUC 0.930232247886092\n",
            "\n",
            "[mbo] 1: num_iterations=772; learning_rate=0.027; feature_fraction=0.876; num_leaves=364; min_data_in_leaf=76 : y = 0.93 : 68.9 secs : infill_ei\n",
            "\n",
            "Sun Aug 03 5:39:48 PM 2025 AUC 0.929216368385362\n",
            "\n",
            "[mbo] 2: num_iterations=734; learning_rate=0.0239; feature_fraction=0.945; num_leaves=32; min_data_in_leaf=245 : y = 0.929 : 49.2 secs : infill_ei\n",
            "\n",
            "Sun Aug 03 5:42:14 PM 2025 AUC 0.930295286724564\n",
            "\n",
            "[mbo] 3: num_iterations=1999; learning_rate=0.00979; feature_fraction=0.6; num_leaves=83; min_data_in_leaf=670 : y = 0.93 : 146.1 secs : infill_ei\n",
            "\n",
            "Sun Aug 03 5:45:49 PM 2025 AUC 0.930069805854071\n",
            "\n",
            "[mbo] 4: num_iterations=1920; learning_rate=0.00861; feature_fraction=0.627; num_leaves=307; min_data_in_leaf=51 : y = 0.93 : 214.5 secs : infill_ei\n",
            "\n",
            "Sun Aug 03 5:46:58 PM 2025 AUC 0.930746907517494\n",
            "\n",
            "[mbo] 5: num_iterations=1535; learning_rate=0.019; feature_fraction=0.675; num_leaves=32; min_data_in_leaf=699 : y = 0.931 : 69.3 secs : infill_ei\n",
            "\n",
            "Sun Aug 03 5:48:14 PM 2025 AUC 0.929171799886586\n",
            "\n",
            "[mbo] 6: num_iterations=1431; learning_rate=0.0276; feature_fraction=0.844; num_leaves=450; min_data_in_leaf=50 : y = 0.929 : 75.7 secs : infill_ei\n",
            "\n",
            "Saved the current state after iteration 7 in the file bayesiana.RDATA.\n",
            "\n",
            "Sun Aug 03 5:49:16 PM 2025 AUC 0.929959469310889\n",
            "\n",
            "[mbo] 7: num_iterations=701; learning_rate=0.0326; feature_fraction=0.618; num_leaves=512; min_data_in_leaf=50 : y = 0.93 : 62.0 secs : infill_ei\n",
            "\n",
            "Sun Aug 03 5:50:15 PM 2025 AUC 0.930377397366421\n",
            "\n",
            "[mbo] 8: num_iterations=695; learning_rate=0.0214; feature_fraction=0.941; num_leaves=502; min_data_in_leaf=701 : y = 0.93 : 58.7 secs : infill_ei\n",
            "\n",
            "Sun Aug 03 5:52:45 PM 2025 AUC 0.929576621036779\n",
            "\n",
            "[mbo] 9: num_iterations=1994; learning_rate=0.00926; feature_fraction=0.691; num_leaves=492; min_data_in_leaf=520 : y = 0.93 : 149.6 secs : infill_ei\n",
            "\n",
            "Sun Aug 03 5:54:09 PM 2025 AUC 0.92976119052889\n",
            "\n",
            "[mbo] 10: num_iterations=1703; learning_rate=0.0165; feature_fraction=0.611; num_leaves=32; min_data_in_leaf=761 : y = 0.93 : 83.1 secs : infill_ei\n",
            "\n",
            "Sun Aug 03 5:55:32 PM 2025 AUC 0.930693455036603\n",
            "\n",
            "[mbo] 11: num_iterations=1555; learning_rate=0.0207; feature_fraction=0.607; num_leaves=232; min_data_in_leaf=467 : y = 0.931 : 82.9 secs : infill_ei\n",
            "\n",
            "Sun Aug 03 5:56:41 PM 2025 AUC 0.930161618195839\n",
            "\n",
            "[mbo] 12: num_iterations=1573; learning_rate=0.0194; feature_fraction=0.704; num_leaves=35; min_data_in_leaf=54 : y = 0.93 : 69.2 secs : infill_ei\n",
            "\n",
            "Sun Aug 03 5:57:53 PM 2025 AUC 0.929894930279599\n",
            "\n",
            "[mbo] 13: num_iterations=1490; learning_rate=0.0199; feature_fraction=0.914; num_leaves=116; min_data_in_leaf=706 : y = 0.93 : 71.9 secs : infill_ei\n",
            "\n",
            "Sun Aug 03 5:58:53 PM 2025 AUC 0.930354272448848\n",
            "\n",
            "[mbo] 14: num_iterations=1536; learning_rate=0.0319; feature_fraction=0.601; num_leaves=75; min_data_in_leaf=524 : y = 0.93 : 59.0 secs : infill_ei\n",
            "\n",
            "Saved the current state after iteration 15 in the file bayesiana.RDATA.\n",
            "\n",
            "Sun Aug 03 6:00:06 PM 2025 AUC 0.93165091093019\n",
            "\n",
            "[mbo] 15: num_iterations=1398; learning_rate=0.0193; feature_fraction=0.6; num_leaves=32; min_data_in_leaf=508 : y = 0.932 : 73.5 secs : infill_ei\n",
            "\n",
            "Sun Aug 03 6:01:53 PM 2025 AUC 0.930591087746798\n",
            "\n",
            "[mbo] 16: num_iterations=1378; learning_rate=0.0148; feature_fraction=0.6; num_leaves=52; min_data_in_leaf=376 : y = 0.931 : 106.1 secs : infill_ei\n",
            "\n",
            "Sun Aug 03 6:02:55 PM 2025 AUC 0.931029915602898\n",
            "\n",
            "[mbo] 17: num_iterations=1285; learning_rate=0.0234; feature_fraction=0.605; num_leaves=32; min_data_in_leaf=592 : y = 0.931 : 62.1 secs : infill_ei\n",
            "\n",
            "Sun Aug 03 6:03:50 PM 2025 AUC 0.929902168208418\n",
            "\n",
            "[mbo] 18: num_iterations=1269; learning_rate=0.0439; feature_fraction=0.671; num_leaves=243; min_data_in_leaf=58 : y = 0.93 : 54.3 secs : infill_ei\n",
            "\n",
            "Sun Aug 03 6:04:59 PM 2025 AUC 0.930401182078501\n",
            "\n",
            "[mbo] 19: num_iterations=1888; learning_rate=0.0337; feature_fraction=0.6; num_leaves=296; min_data_in_leaf=358 : y = 0.93 : 69.5 secs : infill_ei\n",
            "\n",
            "Sun Aug 03 6:06:36 PM 2025 AUC 0.93010185340089\n",
            "\n",
            "[mbo] 20: num_iterations=1322; learning_rate=0.0188; feature_fraction=0.6; num_leaves=397; min_data_in_leaf=237 : y = 0.93 : 96.6 secs : infill_ei\n",
            "\n",
            "Sun Aug 03 6:07:50 PM 2025 AUC 0.930951882186015\n",
            "\n",
            "[mbo] 21: num_iterations=2000; learning_rate=0.0223; feature_fraction=0.607; num_leaves=32; min_data_in_leaf=290 : y = 0.931 : 73.6 secs : infill_ei\n",
            "\n",
            "Sun Aug 03 6:08:50 PM 2025 AUC 0.929258201139064\n",
            "\n",
            "[mbo] 22: num_iterations=1380; learning_rate=0.0412; feature_fraction=0.606; num_leaves=464; min_data_in_leaf=946 : y = 0.929 : 59.0 secs : infill_ei\n",
            "\n",
            "Sun Aug 03 6:09:35 PM 2025 AUC 0.928408620635443\n",
            "\n",
            "[mbo] 23: num_iterations=834; learning_rate=0.031; feature_fraction=0.949; num_leaves=33; min_data_in_leaf=1000 : y = 0.928 : 45.6 secs : infill_ei\n",
            "\n",
            "Saved the current state after iteration 24 in the file bayesiana.RDATA.\n",
            "\n",
            "Sun Aug 03 6:10:49 PM 2025 AUC 0.931072885368618\n",
            "\n",
            "[mbo] 24: num_iterations=1466; learning_rate=0.0208; feature_fraction=0.601; num_leaves=32; min_data_in_leaf=460 : y = 0.931 : 73.3 secs : infill_ei\n",
            "\n",
            "Sun Aug 03 6:11:52 PM 2025 AUC 0.9302753451218\n",
            "\n",
            "[mbo] 25: num_iterations=1393; learning_rate=0.0254; feature_fraction=0.6; num_leaves=32; min_data_in_leaf=774 : y = 0.93 : 62.5 secs : infill_ei\n",
            "\n",
            "Sun Aug 03 6:14:00 PM 2025 AUC 0.929804313290517\n",
            "\n",
            "[mbo] 26: num_iterations=1410; learning_rate=0.00657; feature_fraction=0.617; num_leaves=133; min_data_in_leaf=564 : y = 0.93 : 128.2 secs : infill_ei\n",
            "\n",
            "Sun Aug 03 6:14:57 PM 2025 AUC 0.930498489824019\n",
            "\n",
            "[mbo] 27: num_iterations=2000; learning_rate=0.0369; feature_fraction=0.605; num_leaves=32; min_data_in_leaf=50 : y = 0.93 : 55.8 secs : infill_ei\n",
            "\n",
            "Sun Aug 03 6:18:14 PM 2025 AUC 0.930051186296714\n",
            "\n",
            "[mbo] 28: num_iterations=1999; learning_rate=0.005; feature_fraction=0.947; num_leaves=104; min_data_in_leaf=453 : y = 0.93 : 196.8 secs : infill_ei\n",
            "\n",
            "Sun Aug 03 6:19:29 PM 2025 AUC 0.929770323315243\n",
            "\n",
            "[mbo] 29: num_iterations=1318; learning_rate=0.0189; feature_fraction=0.617; num_leaves=36; min_data_in_leaf=847 : y = 0.93 : 74.8 secs : infill_ei\n",
            "\n",
            "Sun Aug 03 6:21:19 PM 2025 AUC 0.928872422772401\n",
            "\n",
            "[mbo] 30: num_iterations=2000; learning_rate=0.0188; feature_fraction=0.927; num_leaves=91; min_data_in_leaf=64 : y = 0.929 : 110.3 secs : infill_ei\n",
            "\n",
            "Saved the current state after iteration 31 in the file bayesiana.RDATA.\n",
            "\n",
            "Sun Aug 03 6:22:28 PM 2025 AUC 0.932170869156014\n",
            "\n",
            "[mbo] 31: num_iterations=1997; learning_rate=0.0285; feature_fraction=0.6; num_leaves=38; min_data_in_leaf=147 : y = 0.932 : 68.3 secs : infill_ei\n",
            "\n",
            "Sun Aug 03 6:23:27 PM 2025 AUC 0.929737898662562\n",
            "\n",
            "[mbo] 32: num_iterations=1878; learning_rate=0.05; feature_fraction=0.602; num_leaves=512; min_data_in_leaf=138 : y = 0.93 : 58.2 secs : infill_ei\n",
            "\n",
            "Sun Aug 03 6:24:32 PM 2025 AUC 0.930470273728286\n",
            "\n",
            "[mbo] 33: num_iterations=1929; learning_rate=0.0288; feature_fraction=0.601; num_leaves=35; min_data_in_leaf=165 : y = 0.93 : 65.2 secs : infill_ei\n",
            "\n",
            "Sun Aug 03 6:25:55 PM 2025 AUC 0.93052741953011\n",
            "\n",
            "[mbo] 34: num_iterations=2000; learning_rate=0.0285; feature_fraction=0.602; num_leaves=216; min_data_in_leaf=212 : y = 0.931 : 82.9 secs : infill_ei\n",
            "\n",
            "Sun Aug 03 6:26:48 PM 2025 AUC 0.930364559371025\n",
            "\n",
            "[mbo] 35: num_iterations=866; learning_rate=0.0362; feature_fraction=0.685; num_leaves=232; min_data_in_leaf=171 : y = 0.93 : 52.0 secs : infill_ei\n",
            "\n",
            "Sun Aug 03 6:27:54 PM 2025 AUC 0.930394998941153\n",
            "\n",
            "[mbo] 36: num_iterations=1853; learning_rate=0.0283; feature_fraction=0.788; num_leaves=46; min_data_in_leaf=179 : y = 0.93 : 66.1 secs : infill_ei\n",
            "\n",
            "Sun Aug 03 6:29:03 PM 2025 AUC 0.930043683515364\n",
            "\n",
            "[mbo] 37: num_iterations=1657; learning_rate=0.0309; feature_fraction=0.604; num_leaves=53; min_data_in_leaf=131 : y = 0.93 : 68.3 secs : infill_ei\n",
            "\n",
            "Sun Aug 03 6:30:13 PM 2025 AUC 0.930712564096378\n",
            "\n",
            "[mbo] 38: num_iterations=1528; learning_rate=0.0205; feature_fraction=0.759; num_leaves=33; min_data_in_leaf=492 : y = 0.931 : 69.7 secs : infill_ei\n",
            "\n",
            "Sun Aug 03 6:31:20 PM 2025 AUC 0.930144096945118\n",
            "\n",
            "[mbo] 39: num_iterations=1347; learning_rate=0.0291; feature_fraction=0.601; num_leaves=140; min_data_in_leaf=421 : y = 0.93 : 66.5 secs : infill_ei\n",
            "\n",
            "Saved the current state after iteration 40 in the file bayesiana.RDATA.\n",
            "\n",
            "Sun Aug 03 6:32:15 PM 2025 AUC 0.9295466246458\n",
            "\n",
            "[mbo] 40: num_iterations=2000; learning_rate=0.0356; feature_fraction=0.886; num_leaves=39; min_data_in_leaf=148 : y = 0.93 : 55.1 secs : infill_ei\n",
            "\n",
            "Sun Aug 03 6:33:15 PM 2025 AUC 0.930698357473676\n",
            "\n",
            "[mbo] 41: num_iterations=1718; learning_rate=0.0366; feature_fraction=0.604; num_leaves=511; min_data_in_leaf=568 : y = 0.931 : 58.7 secs : infill_ei\n",
            "\n",
            "Sun Aug 03 6:34:43 PM 2025 AUC 0.929657942514414\n",
            "\n",
            "[mbo] 42: num_iterations=1994; learning_rate=0.0202; feature_fraction=0.603; num_leaves=88; min_data_in_leaf=644 : y = 0.93 : 88.0 secs : infill_ei\n",
            "\n",
            "Sun Aug 03 6:35:38 PM 2025 AUC 0.929902361838193\n",
            "\n",
            "[mbo] 43: num_iterations=1211; learning_rate=0.0334; feature_fraction=0.847; num_leaves=323; min_data_in_leaf=414 : y = 0.93 : 54.6 secs : infill_ei\n",
            "\n",
            "Sun Aug 03 6:36:31 PM 2025 AUC 0.930150901383243\n",
            "\n",
            "[mbo] 44: num_iterations=1784; learning_rate=0.04; feature_fraction=0.699; num_leaves=74; min_data_in_leaf=446 : y = 0.93 : 53.2 secs : infill_ei\n",
            "\n",
            "Sun Aug 03 6:37:26 PM 2025 AUC 0.930130924367987\n",
            "\n",
            "[mbo] 45: num_iterations=1285; learning_rate=0.0292; feature_fraction=0.936; num_leaves=507; min_data_in_leaf=790 : y = 0.93 : 54.6 secs : infill_ei\n",
            "\n",
            "Sun Aug 03 6:40:21 PM 2025 AUC 0.930741610947189\n",
            "\n",
            "[mbo] 46: num_iterations=1682; learning_rate=0.0108; feature_fraction=0.601; num_leaves=105; min_data_in_leaf=149 : y = 0.931 : 173.7 secs : infill_ei\n",
            "\n",
            "Sun Aug 03 6:41:49 PM 2025 AUC 0.931069590820388\n",
            "\n",
            "[mbo] 47: num_iterations=1068; learning_rate=0.0178; feature_fraction=0.667; num_leaves=32; min_data_in_leaf=512 : y = 0.931 : 87.8 secs : infill_ei\n",
            "\n",
            "Saved the current state after iteration 48 in the file bayesiana.RDATA.\n",
            "\n",
            "Sun Aug 03 6:44:30 PM 2025 AUC 0.930992438696061\n",
            "\n",
            "[mbo] 48: num_iterations=850; learning_rate=0.0173; feature_fraction=0.616; num_leaves=431; min_data_in_leaf=68 : y = 0.931 : 161.1 secs : infill_ei\n",
            "\n",
            "Sun Aug 03 6:46:06 PM 2025 AUC 0.929961228208624\n",
            "\n",
            "[mbo] 49: num_iterations=2000; learning_rate=0.0243; feature_fraction=0.667; num_leaves=32; min_data_in_leaf=117 : y = 0.93 : 95.4 secs : infill_ei\n",
            "\n",
            "Sun Aug 03 6:47:11 PM 2025 AUC 0.930101273668344\n",
            "\n",
            "[mbo] 50: num_iterations=1499; learning_rate=0.0277; feature_fraction=0.827; num_leaves=40; min_data_in_leaf=231 : y = 0.93 : 64.5 secs : infill_ei\n",
            "\n",
            "Sun Aug 03 6:48:36 PM 2025 AUC 0.931194403222877\n",
            "\n",
            "[mbo] 51: num_iterations=1163; learning_rate=0.0192; feature_fraction=0.608; num_leaves=43; min_data_in_leaf=509 : y = 0.931 : 84.4 secs : infill_ei\n",
            "\n",
            "Sun Aug 03 6:50:12 PM 2025 AUC 0.931023890923248\n",
            "\n",
            "[mbo] 52: num_iterations=1793; learning_rate=0.0235; feature_fraction=0.6; num_leaves=40; min_data_in_leaf=137 : y = 0.931 : 95.8 secs : infill_ei\n",
            "\n",
            "Sun Aug 03 6:51:36 PM 2025 AUC 0.931179581763992\n",
            "\n",
            "[mbo] 53: num_iterations=1410; learning_rate=0.0197; feature_fraction=0.678; num_leaves=32; min_data_in_leaf=132 : y = 0.931 : 83.7 secs : infill_ei\n",
            "\n",
            "Sun Aug 03 6:52:51 PM 2025 AUC 0.929315513480294\n",
            "\n",
            "[mbo] 54: num_iterations=873; learning_rate=0.0279; feature_fraction=0.612; num_leaves=49; min_data_in_leaf=148 : y = 0.929 : 74.1 secs : infill_ei\n",
            "\n",
            "Saved the current state after iteration 55 in the file bayesiana.RDATA.\n",
            "\n",
            "Sun Aug 03 6:54:09 PM 2025 AUC 0.930743205665835\n",
            "\n",
            "[mbo] 55: num_iterations=1966; learning_rate=0.0314; feature_fraction=0.679; num_leaves=48; min_data_in_leaf=145 : y = 0.931 : 77.2 secs : infill_ei\n",
            "\n",
            "Sun Aug 03 6:55:34 PM 2025 AUC 0.930480077574093\n",
            "\n",
            "[mbo] 56: num_iterations=1226; learning_rate=0.024; feature_fraction=0.66; num_leaves=46; min_data_in_leaf=137 : y = 0.93 : 84.4 secs : infill_ei\n",
            "\n",
            "Sun Aug 03 6:59:07 PM 2025 AUC 0.930926100399889\n",
            "\n",
            "[mbo] 57: num_iterations=1997; learning_rate=0.0134; feature_fraction=0.613; num_leaves=90; min_data_in_leaf=145 : y = 0.931 : 212.8 secs : infill_ei\n",
            "\n",
            "Sun Aug 03 7:01:52 PM 2025 AUC 0.930706060835059\n",
            "\n",
            "[mbo] 58: num_iterations=795; learning_rate=0.0179; feature_fraction=0.6; num_leaves=122; min_data_in_leaf=158 : y = 0.931 : 164.2 secs : infill_ei\n",
            "\n",
            "Sun Aug 03 7:03:40 PM 2025 AUC 0.930666137623158\n",
            "\n",
            "[mbo] 59: num_iterations=1300; learning_rate=0.0187; feature_fraction=0.731; num_leaves=32; min_data_in_leaf=504 : y = 0.931 : 107.6 secs : infill_ei\n",
            "\n",
            "Saved the current state after iteration 60 in the file bayesiana.RDATA.\n",
            "\n",
            "Sun Aug 03 7:04:34 PM 2025 AUC 0.929061824581347\n",
            "\n",
            "[mbo] 60: num_iterations=359; learning_rate=0.0366; feature_fraction=0.639; num_leaves=309; min_data_in_leaf=538 : y = 0.929 : 53.8 secs : infill_ei\n",
            "\n",
            "Saved the final state in the file bayesiana.RDATA\n",
            "\n"
          ]
        }
      ],
      "source": [
        "# inicio la optimizacion bayesiana, retomando si ya existe\n",
        "# es la celda mas lenta de todo el notebook\n",
        "\n",
        "if (!file.exists(kbayesiana)) {\n",
        "  bayesiana_salida <- mbo(obj.fun, learner= surr.km, control= ctrl)\n",
        "} else {\n",
        "  bayesiana_salida <- mboContinue(kbayesiana) # retomo en caso que ya exista\n",
        "}"
      ]
    },
    {
      "cell_type": "code",
      "execution_count": 34,
      "metadata": {
        "id": "ssk5nnMk6INK",
        "outputId": "d9a226cd-4012-46f7-c84f-5cf37d165e7a",
        "vscode": {
          "languageId": "r"
        }
      },
      "outputs": [
        {
          "data": {
            "text/html": [
              "<style>\n",
              ".list-inline {list-style: none; margin:0; padding: 0}\n",
              ".list-inline>li {display: inline-block}\n",
              ".list-inline>li:not(:last-child)::after {content: \"\\00b7\"; padding: 0 .5ex}\n",
              "</style>\n",
              "<ol class=list-inline><li>'num_iterations'</li><li>'learning_rate'</li><li>'feature_fraction'</li><li>'num_leaves'</li><li>'min_data_in_leaf'</li><li>'y'</li><li>'dob'</li><li>'eol'</li><li>'error.message'</li><li>'exec.time'</li><li>'ei'</li><li>'error.model'</li><li>'train.time'</li><li>'prop.type'</li><li>'propose.time'</li><li>'se'</li><li>'mean'</li></ol>\n"
            ],
            "text/latex": [
              "\\begin{enumerate*}\n",
              "\\item 'num\\_iterations'\n",
              "\\item 'learning\\_rate'\n",
              "\\item 'feature\\_fraction'\n",
              "\\item 'num\\_leaves'\n",
              "\\item 'min\\_data\\_in\\_leaf'\n",
              "\\item 'y'\n",
              "\\item 'dob'\n",
              "\\item 'eol'\n",
              "\\item 'error.message'\n",
              "\\item 'exec.time'\n",
              "\\item 'ei'\n",
              "\\item 'error.model'\n",
              "\\item 'train.time'\n",
              "\\item 'prop.type'\n",
              "\\item 'propose.time'\n",
              "\\item 'se'\n",
              "\\item 'mean'\n",
              "\\end{enumerate*}\n"
            ],
            "text/markdown": [
              "1. 'num_iterations'\n",
              "2. 'learning_rate'\n",
              "3. 'feature_fraction'\n",
              "4. 'num_leaves'\n",
              "5. 'min_data_in_leaf'\n",
              "6. 'y'\n",
              "7. 'dob'\n",
              "8. 'eol'\n",
              "9. 'error.message'\n",
              "10. 'exec.time'\n",
              "11. 'ei'\n",
              "12. 'error.model'\n",
              "13. 'train.time'\n",
              "14. 'prop.type'\n",
              "15. 'propose.time'\n",
              "16. 'se'\n",
              "17. 'mean'\n",
              "\n",
              "\n"
            ],
            "text/plain": [
              " [1] \"num_iterations\"   \"learning_rate\"    \"feature_fraction\" \"num_leaves\"      \n",
              " [5] \"min_data_in_leaf\" \"y\"                \"dob\"              \"eol\"             \n",
              " [9] \"error.message\"    \"exec.time\"        \"ei\"               \"error.model\"     \n",
              "[13] \"train.time\"       \"prop.type\"        \"propose.time\"     \"se\"              \n",
              "[17] \"mean\"            "
            ]
          },
          "metadata": {},
          "output_type": "display_data"
        }
      ],
      "source": [
        "tb_bayesiana <- as.data.table(bayesiana_salida$opt.path)\n",
        "colnames( tb_bayesiana)"
      ]
    },
    {
      "cell_type": "code",
      "execution_count": 35,
      "metadata": {
        "id": "u4zq-vknhjGc",
        "vscode": {
          "languageId": "r"
        }
      },
      "outputs": [],
      "source": [
        "# almaceno los resultados de la Bayesian Optimization\n",
        "# y capturo los mejores hiperparametros encontrados\n",
        "\n",
        "tb_bayesiana <- as.data.table(bayesiana_salida$opt.path)\n",
        "\n",
        "tb_bayesiana[, iter := .I]\n",
        "\n",
        "# ordeno en forma descendente por AUC = y\n",
        "setorder(tb_bayesiana, -y)\n",
        "\n",
        "# grabo para eventualmente poder utilizarlos en OTRA corrida\n",
        "fwrite( tb_bayesiana,\n",
        "  file= \"BO_log.txt\",\n",
        "  sep= \"\\t\"\n",
        ")\n",
        "\n",
        "# los mejores hiperparámetros son los que quedaron en el registro 1 de la tabla\n",
        "PARAM$out$lgbm$mejores_hiperparametros <- tb_bayesiana[\n",
        "  1, # el primero es el de mejor AUC\n",
        "  setdiff(colnames(tb_bayesiana),\n",
        "    c(\"y\",\"dob\",\"eol\",\"error.message\",\"exec.time\",\"ei\",\"error.model\",\n",
        "      \"train.time\",\"prop.type\",\"propose.time\",\"se\",\"mean\",\"iter\")),\n",
        "  with= FALSE\n",
        "]\n",
        "\n",
        "\n",
        "PARAM$out$lgbm$y <- tb_bayesiana[1, y]\n"
      ]
    },
    {
      "cell_type": "code",
      "execution_count": 36,
      "metadata": {
        "id": "E8v2eA427N8e",
        "vscode": {
          "languageId": "r"
        }
      },
      "outputs": [],
      "source": [
        "write_yaml( PARAM, file=\"PARAM.yml\")"
      ]
    },
    {
      "cell_type": "code",
      "execution_count": 37,
      "metadata": {
        "id": "iBTWexVU7PGC",
        "outputId": "5d079466-5231-4459-ef44-ea0613628f91",
        "vscode": {
          "languageId": "r"
        }
      },
      "outputs": [
        {
          "name": "stdout",
          "output_type": "stream",
          "text": [
            "   num_iterations learning_rate feature_fraction num_leaves min_data_in_leaf\n",
            "            <int>         <num>            <num>      <int>            <int>\n",
            "1:           1997    0.02847925         0.600045         38              147\n",
            "[1] 0.9321709\n"
          ]
        }
      ],
      "source": [
        "print(PARAM$out$lgbm$mejores_hiperparametros)\n",
        "print(PARAM$out$lgbm$y)"
      ]
    },
    {
      "cell_type": "markdown",
      "metadata": {
        "id": "TKsVZmAnhwX-"
      },
      "source": [
        "## 2.3  Produccion"
      ]
    },
    {
      "cell_type": "markdown",
      "metadata": {
        "id": "RQ_C33Tr5B_9"
      },
      "source": [
        "### Final Training\n",
        "Construyo el modelo final, que es uno solo, no hace ningun tipo de particion < training, validation, testing>]"
      ]
    },
    {
      "cell_type": "code",
      "execution_count": 38,
      "metadata": {
        "id": "eDqfyA14hzwv",
        "vscode": {
          "languageId": "r"
        }
      },
      "outputs": [],
      "source": [
        "# carpeta de trabajo en tu PC\n",
        "setwd(\"C:/Users/Luis/Documents/dm2025a-2/exp\")\n",
        "experimento <- paste0(\"exp\", PARAM$experimento)\n",
        "dir.create(experimento, showWarnings=FALSE)\n",
        "setwd(file.path(\"C:/Users/Luis/Documents/dm2025a-2/exp\", experimento))\n"
      ]
    },
    {
      "cell_type": "markdown",
      "metadata": {
        "id": "8qFmFivf5Iet"
      },
      "source": [
        "#### Final Training Dataset\n",
        "\n",
        "Aqui esta la gran decision de en qué meses hago el Final Training\n",
        "<br> debo utilizar los mejores hiperparámetros que encontré en la optimización bayesiana"
      ]
    },
    {
      "cell_type": "code",
      "execution_count": 39,
      "metadata": {
        "id": "lg5WVZncvc7H",
        "vscode": {
          "languageId": "r"
        }
      },
      "outputs": [
        {
          "ename": "ERROR",
          "evalue": "Error in setwd(\"/content/buckets/b1/exp\"): cannot change working directory\n",
          "output_type": "error",
          "traceback": [
            "Error in setwd(\"/content/buckets/b1/exp\"): cannot change working directory\nTraceback:\n",
            "1. .handleSimpleError(function (cnd) \n . {\n .     watcher$capture_plot_and_output()\n .     cnd <- sanitize_call(cnd)\n .     watcher$push(cnd)\n .     switch(on_error, continue = invokeRestart(\"eval_continue\"), \n .         stop = invokeRestart(\"eval_stop\"), error = NULL)\n . }, \"cannot change working directory\", base::quote(setwd(\"/content/buckets/b1/exp\")))"
          ]
        }
      ],
      "source": [
        "setwd(\"/content/buckets/b1/exp\")\n",
        "experimento <- paste0(\"exp\", PARAM$experimento)\n",
        "dir.create(experimento, showWarnings= FALSE)\n",
        "setwd( paste0(\"/content/buckets/b1/exp/\", experimento ))"
      ]
    },
    {
      "cell_type": "code",
      "execution_count": 40,
      "metadata": {
        "id": "yc9QzXREv0xf",
        "vscode": {
          "languageId": "r"
        }
      },
      "outputs": [],
      "source": [
        "# clase01\n",
        "dataset[, clase01 := ifelse(clase_ternaria %in% c(\"BAJA+1\", \"BAJA+2\"), 1L, 0L)]"
      ]
    },
    {
      "cell_type": "code",
      "execution_count": 41,
      "metadata": {
        "id": "uRuJKjyqWPiI",
        "vscode": {
          "languageId": "r"
        }
      },
      "outputs": [],
      "source": [
        "dataset_train <- dataset[foto_mes %in% c(202107)]"
      ]
    },
    {
      "cell_type": "code",
      "execution_count": 42,
      "metadata": {
        "id": "thjdqEBLuvNt",
        "vscode": {
          "languageId": "r"
        }
      },
      "outputs": [],
      "source": [
        "# dejo los datos en el formato que necesita LightGBM\n",
        "\n",
        "dtrain <- lgb.Dataset(\n",
        "  data= data.matrix(dataset_train[, campos_buenos, with= FALSE]),\n",
        "  label= dataset_train[, clase01]\n",
        ")"
      ]
    },
    {
      "cell_type": "markdown",
      "metadata": {
        "id": "VNUa-WSz5Oqu"
      },
      "source": [
        "#### Final Training Hyperparameters"
      ]
    },
    {
      "cell_type": "code",
      "execution_count": 43,
      "metadata": {
        "id": "FgCcvBfEwImu",
        "outputId": "9cce009d-1ef7-48ee-d3e9-c962582ab5de",
        "vscode": {
          "languageId": "r"
        }
      },
      "outputs": [
        {
          "data": {
            "text/html": [
              "<dl>\n",
              "\t<dt>$boosting</dt>\n",
              "\t\t<dd>'gbdt'</dd>\n",
              "\t<dt>$objective</dt>\n",
              "\t\t<dd>'binary'</dd>\n",
              "\t<dt>$metric</dt>\n",
              "\t\t<dd>'auc'</dd>\n",
              "\t<dt>$first_metric_only</dt>\n",
              "\t\t<dd>FALSE</dd>\n",
              "\t<dt>$boost_from_average</dt>\n",
              "\t\t<dd>TRUE</dd>\n",
              "\t<dt>$feature_pre_filter</dt>\n",
              "\t\t<dd>FALSE</dd>\n",
              "\t<dt>$force_row_wise</dt>\n",
              "\t\t<dd>TRUE</dd>\n",
              "\t<dt>$verbosity</dt>\n",
              "\t\t<dd>-100</dd>\n",
              "\t<dt>$seed</dt>\n",
              "\t\t<dd>100151</dd>\n",
              "\t<dt>$max_depth</dt>\n",
              "\t\t<dd>10</dd>\n",
              "\t<dt>$min_gain_to_split</dt>\n",
              "\t\t<dd>0.166162</dd>\n",
              "\t<dt>$min_sum_hessian_in_leaf</dt>\n",
              "\t\t<dd>0.001</dd>\n",
              "\t<dt>$lambda_l1</dt>\n",
              "\t\t<dd>3.8685</dd>\n",
              "\t<dt>$lambda_l2</dt>\n",
              "\t\t<dd>4.086</dd>\n",
              "\t<dt>$max_bin</dt>\n",
              "\t\t<dd>31</dd>\n",
              "\t<dt>$bagging_fraction</dt>\n",
              "\t\t<dd>0.9066</dd>\n",
              "\t<dt>$pos_bagging_fraction</dt>\n",
              "\t\t<dd>1</dd>\n",
              "\t<dt>$neg_bagging_fraction</dt>\n",
              "\t\t<dd>1</dd>\n",
              "\t<dt>$is_unbalance</dt>\n",
              "\t\t<dd>FALSE</dd>\n",
              "\t<dt>$scale_pos_weight</dt>\n",
              "\t\t<dd>1</dd>\n",
              "\t<dt>$drop_rate</dt>\n",
              "\t\t<dd>0.1</dd>\n",
              "\t<dt>$max_drop</dt>\n",
              "\t\t<dd>50</dd>\n",
              "\t<dt>$skip_drop</dt>\n",
              "\t\t<dd>0.5</dd>\n",
              "\t<dt>$extra_trees</dt>\n",
              "\t\t<dd>FALSE</dd>\n",
              "\t<dt>$num_iterations</dt>\n",
              "\t\t<dd>1997</dd>\n",
              "\t<dt>$learning_rate</dt>\n",
              "\t\t<dd>0.0284792516024186</dd>\n",
              "\t<dt>$feature_fraction</dt>\n",
              "\t\t<dd>0.600044988748492</dd>\n",
              "\t<dt>$num_leaves</dt>\n",
              "\t\t<dd>38</dd>\n",
              "\t<dt>$min_data_in_leaf</dt>\n",
              "\t\t<dd>147</dd>\n",
              "</dl>\n"
            ],
            "text/latex": [
              "\\begin{description}\n",
              "\\item[\\$boosting] 'gbdt'\n",
              "\\item[\\$objective] 'binary'\n",
              "\\item[\\$metric] 'auc'\n",
              "\\item[\\$first\\_metric\\_only] FALSE\n",
              "\\item[\\$boost\\_from\\_average] TRUE\n",
              "\\item[\\$feature\\_pre\\_filter] FALSE\n",
              "\\item[\\$force\\_row\\_wise] TRUE\n",
              "\\item[\\$verbosity] -100\n",
              "\\item[\\$seed] 100151\n",
              "\\item[\\$max\\_depth] 10\n",
              "\\item[\\$min\\_gain\\_to\\_split] 0.166162\n",
              "\\item[\\$min\\_sum\\_hessian\\_in\\_leaf] 0.001\n",
              "\\item[\\$lambda\\_l1] 3.8685\n",
              "\\item[\\$lambda\\_l2] 4.086\n",
              "\\item[\\$max\\_bin] 31\n",
              "\\item[\\$bagging\\_fraction] 0.9066\n",
              "\\item[\\$pos\\_bagging\\_fraction] 1\n",
              "\\item[\\$neg\\_bagging\\_fraction] 1\n",
              "\\item[\\$is\\_unbalance] FALSE\n",
              "\\item[\\$scale\\_pos\\_weight] 1\n",
              "\\item[\\$drop\\_rate] 0.1\n",
              "\\item[\\$max\\_drop] 50\n",
              "\\item[\\$skip\\_drop] 0.5\n",
              "\\item[\\$extra\\_trees] FALSE\n",
              "\\item[\\$num\\_iterations] 1997\n",
              "\\item[\\$learning\\_rate] 0.0284792516024186\n",
              "\\item[\\$feature\\_fraction] 0.600044988748492\n",
              "\\item[\\$num\\_leaves] 38\n",
              "\\item[\\$min\\_data\\_in\\_leaf] 147\n",
              "\\end{description}\n"
            ],
            "text/markdown": [
              "$boosting\n",
              ":   'gbdt'\n",
              "$objective\n",
              ":   'binary'\n",
              "$metric\n",
              ":   'auc'\n",
              "$first_metric_only\n",
              ":   FALSE\n",
              "$boost_from_average\n",
              ":   TRUE\n",
              "$feature_pre_filter\n",
              ":   FALSE\n",
              "$force_row_wise\n",
              ":   TRUE\n",
              "$verbosity\n",
              ":   -100\n",
              "$seed\n",
              ":   100151\n",
              "$max_depth\n",
              ":   10\n",
              "$min_gain_to_split\n",
              ":   0.166162\n",
              "$min_sum_hessian_in_leaf\n",
              ":   0.001\n",
              "$lambda_l1\n",
              ":   3.8685\n",
              "$lambda_l2\n",
              ":   4.086\n",
              "$max_bin\n",
              ":   31\n",
              "$bagging_fraction\n",
              ":   0.9066\n",
              "$pos_bagging_fraction\n",
              ":   1\n",
              "$neg_bagging_fraction\n",
              ":   1\n",
              "$is_unbalance\n",
              ":   FALSE\n",
              "$scale_pos_weight\n",
              ":   1\n",
              "$drop_rate\n",
              ":   0.1\n",
              "$max_drop\n",
              ":   50\n",
              "$skip_drop\n",
              ":   0.5\n",
              "$extra_trees\n",
              ":   FALSE\n",
              "$num_iterations\n",
              ":   1997\n",
              "$learning_rate\n",
              ":   0.0284792516024186\n",
              "$feature_fraction\n",
              ":   0.600044988748492\n",
              "$num_leaves\n",
              ":   38\n",
              "$min_data_in_leaf\n",
              ":   147\n",
              "\n",
              "\n"
            ],
            "text/plain": [
              "$boosting\n",
              "[1] \"gbdt\"\n",
              "\n",
              "$objective\n",
              "[1] \"binary\"\n",
              "\n",
              "$metric\n",
              "[1] \"auc\"\n",
              "\n",
              "$first_metric_only\n",
              "[1] FALSE\n",
              "\n",
              "$boost_from_average\n",
              "[1] TRUE\n",
              "\n",
              "$feature_pre_filter\n",
              "[1] FALSE\n",
              "\n",
              "$force_row_wise\n",
              "[1] TRUE\n",
              "\n",
              "$verbosity\n",
              "[1] -100\n",
              "\n",
              "$seed\n",
              "[1] 100151\n",
              "\n",
              "$max_depth\n",
              "[1] 10\n",
              "\n",
              "$min_gain_to_split\n",
              "[1] 0.166162\n",
              "\n",
              "$min_sum_hessian_in_leaf\n",
              "[1] 0.001\n",
              "\n",
              "$lambda_l1\n",
              "[1] 3.8685\n",
              "\n",
              "$lambda_l2\n",
              "[1] 4.086\n",
              "\n",
              "$max_bin\n",
              "[1] 31\n",
              "\n",
              "$bagging_fraction\n",
              "[1] 0.9066\n",
              "\n",
              "$pos_bagging_fraction\n",
              "[1] 1\n",
              "\n",
              "$neg_bagging_fraction\n",
              "[1] 1\n",
              "\n",
              "$is_unbalance\n",
              "[1] FALSE\n",
              "\n",
              "$scale_pos_weight\n",
              "[1] 1\n",
              "\n",
              "$drop_rate\n",
              "[1] 0.1\n",
              "\n",
              "$max_drop\n",
              "[1] 50\n",
              "\n",
              "$skip_drop\n",
              "[1] 0.5\n",
              "\n",
              "$extra_trees\n",
              "[1] FALSE\n",
              "\n",
              "$num_iterations\n",
              "[1] 1997\n",
              "\n",
              "$learning_rate\n",
              "[1] 0.02847925\n",
              "\n",
              "$feature_fraction\n",
              "[1] 0.600045\n",
              "\n",
              "$num_leaves\n",
              "[1] 38\n",
              "\n",
              "$min_data_in_leaf\n",
              "[1] 147\n"
            ]
          },
          "metadata": {},
          "output_type": "display_data"
        }
      ],
      "source": [
        "param_final <- modifyList(PARAM$lgbm$param_fijos,\n",
        "  PARAM$out$lgbm$mejores_hiperparametros)\n",
        "\n",
        "param_final"
      ]
    },
    {
      "cell_type": "markdown",
      "metadata": {
        "id": "TZIYn4l95TBH"
      },
      "source": [
        "#### Training\n",
        "Genero el modelo final, siempre sobre TODOS los datos de  final_train, sin hacer ningun tipo de undersampling de la clase mayoritaria"
      ]
    },
    {
      "cell_type": "code",
      "execution_count": 44,
      "metadata": {
        "id": "vPLsd4mMRe4u",
        "vscode": {
          "languageId": "r"
        }
      },
      "outputs": [],
      "source": [
        "# este punto es muy SUTIL  y será revisado en la Clase 05\n",
        "\n",
        "param_normalizado <- copy(param_final)\n",
        "param_normalizado$min_data_in_leaf <-  param_final$min_data_in_leaf / PARAM$trainingstrategy$undersampling"
      ]
    },
    {
      "cell_type": "code",
      "execution_count": 45,
      "metadata": {
        "id": "WRI_-taRwOXO",
        "vscode": {
          "languageId": "r"
        }
      },
      "outputs": [],
      "source": [
        "  # entreno LightGBM\n",
        "\n",
        "  modelo_final <- lgb.train(\n",
        "    data= dtrain,\n",
        "    param= param_normalizado\n",
        "  )"
      ]
    },
    {
      "cell_type": "code",
      "execution_count": 46,
      "metadata": {
        "id": "_bkhnCvj0g3Q",
        "vscode": {
          "languageId": "r"
        }
      },
      "outputs": [],
      "source": [
        "# ahora imprimo la importancia de variables\n",
        "\n",
        "tb_importancia <- as.data.table(lgb.importance(modelo_final))\n",
        "archivo_importancia <- \"impo.txt\"\n",
        "\n",
        "fwrite(tb_importancia,\n",
        "  file= archivo_importancia,\n",
        "  sep= \"\\t\"\n",
        ")"
      ]
    },
    {
      "cell_type": "code",
      "execution_count": 47,
      "metadata": {
        "id": "lZ3sLmbh0kFj",
        "vscode": {
          "languageId": "r"
        }
      },
      "outputs": [],
      "source": [
        "# grabo a disco el modelo en un formato para seres humanos ... ponele ...\n",
        "\n",
        "lgb.save(modelo_final, \"modelot5.txt\" )"
      ]
    },
    {
      "cell_type": "markdown",
      "metadata": {
        "id": "VEtp2--t5Ymg"
      },
      "source": [
        "### Scoring"
      ]
    },
    {
      "cell_type": "markdown",
      "metadata": {
        "id": "hI5008Mj5ZdI"
      },
      "source": [
        "Aplico el modelo final a los datos del futuro"
      ]
    },
    {
      "cell_type": "code",
      "execution_count": 48,
      "metadata": {
        "id": "PimBY3N_0ryP",
        "vscode": {
          "languageId": "r"
        }
      },
      "outputs": [],
      "source": [
        "# aplico el modelo a los datos sin clase\n",
        "dfuture <- dataset[foto_mes == 202109]\n",
        "\n",
        "# aplico el modelo a los datos nuevos\n",
        "prediccion <- predict(\n",
        "  modelo_final,\n",
        "  data.matrix(dfuture[, campos_buenos, with= FALSE])\n",
        ")"
      ]
    },
    {
      "cell_type": "markdown",
      "metadata": {
        "id": "D26rNRh55gpw"
      },
      "source": [
        "#### Tabla Prediccion"
      ]
    },
    {
      "cell_type": "code",
      "execution_count": 49,
      "metadata": {
        "id": "RJwg7LHd11yu",
        "vscode": {
          "languageId": "r"
        }
      },
      "outputs": [],
      "source": [
        "# tabla de prediccion\n",
        "\n",
        "tb_prediccion <- dfuture[, list(numero_de_cliente)]\n",
        "tb_prediccion[, prob := prediccion ]\n",
        "\n",
        "# grabo las probabilidad del modelo\n",
        "fwrite(tb_prediccion,\n",
        "  file= \"prediccion.txt\",\n",
        "  sep= \"\\t\"\n",
        ")"
      ]
    },
    {
      "cell_type": "markdown",
      "metadata": {
        "id": "jOt4eG_55ltv"
      },
      "source": [
        "Kaggle Competition Submit"
      ]
    },
    {
      "cell_type": "code",
      "execution_count": 50,
      "metadata": {
        "id": "gWW3tatE12je",
        "outputId": "9824c89a-eb20-404b-89de-3e5d765bdbc2",
        "vscode": {
          "languageId": "r"
        }
      },
      "outputs": [
        {
          "name": "stderr",
          "output_type": "stream",
          "text": [
            "Warning message in dir.create(\"kaggle\"):\n",
            "\"'kaggle' already exists\"\n",
            "Warning message in system(linea, intern = TRUE):\n",
            "\"running command 'kaggle competitions submit -c data-mining-analista-sr-2025-a -f ./kaggle/KA4940_10000.csv -m 'envios=10000  semilla=100151'' had status 1\"\n"
          ]
        },
        {
          "name": "stdout",
          "output_type": "stream",
          "text": [
            "403 Client Error: Forbidden for url: https://www.kaggle.com/api/v1/competitions/submission-url \n"
          ]
        },
        {
          "name": "stderr",
          "output_type": "stream",
          "text": [
            "Warning message in system(linea, intern = TRUE):\n",
            "\"running command 'kaggle competitions submit -c data-mining-analista-sr-2025-a -f ./kaggle/KA4940_10500.csv -m 'envios=10500  semilla=100151'' had status 1\"\n"
          ]
        },
        {
          "name": "stdout",
          "output_type": "stream",
          "text": [
            "403 Client Error: Forbidden for url: https://www.kaggle.com/api/v1/competitions/submission-url \n"
          ]
        },
        {
          "name": "stderr",
          "output_type": "stream",
          "text": [
            "Warning message in system(linea, intern = TRUE):\n",
            "\"running command 'kaggle competitions submit -c data-mining-analista-sr-2025-a -f ./kaggle/KA4940_11000.csv -m 'envios=11000  semilla=100151'' had status 1\"\n"
          ]
        },
        {
          "name": "stdout",
          "output_type": "stream",
          "text": [
            "403 Client Error: Forbidden for url: https://www.kaggle.com/api/v1/competitions/submission-url \n"
          ]
        },
        {
          "name": "stderr",
          "output_type": "stream",
          "text": [
            "Warning message in system(linea, intern = TRUE):\n",
            "\"running command 'kaggle competitions submit -c data-mining-analista-sr-2025-a -f ./kaggle/KA4940_11500.csv -m 'envios=11500  semilla=100151'' had status 1\"\n"
          ]
        },
        {
          "name": "stdout",
          "output_type": "stream",
          "text": [
            "403 Client Error: Forbidden for url: https://www.kaggle.com/api/v1/competitions/submission-url \n"
          ]
        },
        {
          "name": "stderr",
          "output_type": "stream",
          "text": [
            "Warning message in system(linea, intern = TRUE):\n",
            "\"running command 'kaggle competitions submit -c data-mining-analista-sr-2025-a -f ./kaggle/KA4940_12000.csv -m 'envios=12000  semilla=100151'' had status 1\"\n"
          ]
        },
        {
          "name": "stdout",
          "output_type": "stream",
          "text": [
            "403 Client Error: Forbidden for url: https://www.kaggle.com/api/v1/competitions/submission-url \n"
          ]
        }
      ],
      "source": [
        "# genero archivos con los  \"envios\" mejores\n",
        "# suba TODOS los archivos a Kaggle\n",
        "\n",
        "# ordeno por probabilidad descendente\n",
        "setorder(tb_prediccion, -prob)\n",
        "\n",
        "dir.create(\"kaggle\")\n",
        "\n",
        "for (envios in PARAM$kaggle$cortes) {\n",
        "\n",
        "  tb_prediccion[, Predicted := 0L] # seteo inicial a 0\n",
        "  tb_prediccion[1:envios, Predicted := 1L] # marclo los primeros\n",
        "\n",
        "  archivo_kaggle <- paste0(\"./kaggle/KA\", PARAM$experimento, \"_\", envios, \".csv\")\n",
        "\n",
        "  # grabo el archivo\n",
        "  fwrite(tb_prediccion[, list(numero_de_cliente, Predicted)],\n",
        "    file= archivo_kaggle,\n",
        "    sep= \",\"\n",
        "  )\n",
        "\n",
        "  # subida a Kaggle, armo la linea de comando\n",
        "  comando <- \"kaggle competitions submit\"\n",
        "  competencia <- paste(\"-c\", PARAM$kaggle$competencia)\n",
        "  arch <- paste( \"-f\", archivo_kaggle)\n",
        "\n",
        "  mensaje <- paste0(\"-m 'envios=\", envios,\n",
        "  \"  semilla=\", PARAM$semilla_primigenia,\n",
        "    \"'\" )\n",
        "\n",
        "  linea <- paste( comando, competencia, arch, mensaje)\n",
        "\n",
        "  salida <- system(linea, intern=TRUE) # el submit a Kaggle\n",
        "  cat(salida, \"\\n\")\n",
        "}"
      ]
    },
    {
      "cell_type": "code",
      "execution_count": 51,
      "metadata": {
        "id": "B9tB2X4439Hg",
        "vscode": {
          "languageId": "r"
        }
      },
      "outputs": [],
      "source": [
        "write_yaml( PARAM, file=\"PARAM.yml\")"
      ]
    },
    {
      "cell_type": "code",
      "execution_count": 52,
      "metadata": {
        "id": "9zA_W25c15DP",
        "outputId": "55c1e948-4585-4637-f888-c1913ed38db6",
        "vscode": {
          "languageId": "r"
        }
      },
      "outputs": [
        {
          "data": {
            "text/html": [
              "'Sun Aug 03 7:12:28 PM 2025'"
            ],
            "text/latex": [
              "'Sun Aug 03 7:12:28 PM 2025'"
            ],
            "text/markdown": [
              "'Sun Aug 03 7:12:28 PM 2025'"
            ],
            "text/plain": [
              "[1] \"Sun Aug 03 7:12:28 PM 2025\""
            ]
          },
          "metadata": {},
          "output_type": "display_data"
        }
      ],
      "source": [
        "format(Sys.time(), \"%a %b %d %X %Y\")"
      ]
    },
    {
      "cell_type": "markdown",
      "metadata": {
        "id": "UdVZucdLHzZ0"
      },
      "source": [
        "Finalmente usted deberá cargar el resultado de su corrida en la Google Sheet Colaborativa,  hoja **TareaHogar04**\n",
        "<br> Siéntase libre de agregar las columnas que hagan falta a la planilla"
      ]
    },
    {
      "cell_type": "code",
      "execution_count": null,
      "metadata": {
        "id": "WMHh7uNVIJkT",
        "vscode": {
          "languageId": "r"
        }
      },
      "outputs": [],
      "source": []
    }
  ],
  "metadata": {
    "colab": {
      "include_colab_link": true,
      "provenance": []
    },
    "kernelspec": {
      "display_name": "R",
      "language": "R",
      "name": "ir"
    },
    "language_info": {
      "codemirror_mode": "r",
      "file_extension": ".r",
      "mimetype": "text/x-r-source",
      "name": "R",
      "pygments_lexer": "r",
      "version": "4.5.1"
    }
  },
  "nbformat": 4,
  "nbformat_minor": 0
}
